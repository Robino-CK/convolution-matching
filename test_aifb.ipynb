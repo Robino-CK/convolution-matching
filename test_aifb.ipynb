{
 "cells": [
  {
   "cell_type": "code",
   "execution_count": 1,
   "id": "90d1bc3d",
   "metadata": {},
   "outputs": [
    {
     "name": "stderr",
     "output_type": "stream",
     "text": [
      "/home/robin/uu/thesis/convolution-matching/.venvconv/lib/python3.10/site-packages/tqdm/auto.py:22: TqdmWarning: IProgress not found. Please update jupyter and ipywidgets. See https://ipywidgets.readthedocs.io/en/stable/user_install.html\n",
      "  from .autonotebook import tqdm as notebook_tqdm\n",
      "WARNING:root:The OGB package is out of date. Your version is 1.3.4, while the latest version is 1.3.6.\n"
     ]
    }
   ],
   "source": [
    "from GraphSummarizers.Coarsener.HeteroCoarsener import HeteroCoarsener\n",
    "from Datasets.NodeClassification.DBLP import DBLP\n",
    "from Datasets.NodeClassification.AIFB import AIFB\n",
    "from Datasets.NodeClassification.TestHetero import TestHeteroSmall, TestHeteroBig\n",
    "import importlib\n",
    "import torch\n",
    "from test_data_converter import dgl_to_pyg_input"
   ]
  },
  {
   "cell_type": "code",
   "execution_count": 3,
   "id": "5cb3efd5",
   "metadata": {},
   "outputs": [
    {
     "name": "stdout",
     "output_type": "stream",
     "text": [
      "Done loading data from cached files.\n"
     ]
    }
   ],
   "source": [
    "aifb = AIFB()\n",
    "original_graph = aifb.load_graph()\n"
   ]
  },
  {
   "cell_type": "code",
   "execution_count": null,
   "id": "ceaefccf",
   "metadata": {},
   "outputs": [
    {
     "name": "stdout",
     "output_type": "stream",
     "text": [
      "start create H\n",
      "created H 54.72033333778381\n",
      "stop init costs 7.997392177581787\n",
      "stop intersection 4.789174318313599\n"
     ]
    },
    {
     "name": "stderr",
     "output_type": "stream",
     "text": [
      "calculate H_coarsen:   0%|          | 0/146 [00:00<?, ?it/s]/home/robin/uu/thesis/convolution-matching/GraphSummarizers/Coarsener/HeteroCoarsener.py:94: UserWarning: To copy construct from a tensor, it is recommended to use sourceTensor.clone().detach() or sourceTensor.clone().detach().requires_grad_(True), rather than torch.tensor(sourceTensor).\n",
      "  h = ((torch.sqrt(torch.tensor(d_u)) * s_u) + (torch.sqrt(torch.tensor(d_v)) * s_v)) / (torch.sqrt(torch.tensor(d_u_v)))\n",
      "calculate H_coarsen: 100%|██████████| 146/146 [00:01<00:00, 99.45it/s] \n",
      "calculate H_coarsen: 100%|██████████| 146/146 [00:00<00:00, -2571.84it/s]\n",
      "calculate H_coarsen: 100%|██████████| 146/146 [00:01<00:00, 98.13it/s] \n",
      "calculate H_coarsen: 100%|██████████| 146/146 [00:01<00:00, 100.03it/s]\n",
      "calculate H_coarsen: 100%|██████████| 146/146 [00:01<00:00, 95.90it/s] \n",
      "calculate H_coarsen: 100%|██████████| 146/146 [00:01<00:00, 101.80it/s]\n",
      "calculate H_coarsen: 100%|██████████| 5/5 [00:00<00:00, 773.74it/s]\n",
      "calculate H_coarsen: 100%|██████████| 5/5 [00:00<00:00, 762.99it/s]\n",
      "calculate H_coarsen: 100%|██████████| 5/5 [00:00<00:00, 628.79it/s]\n",
      "calculate H_coarsen: 100%|██████████| 5/5 [00:00<00:00, 640.20it/s]\n",
      "calculate H_coarsen: 100%|██████████| 5/5 [00:00<00:00, 306.31it/s]\n",
      "calculate H_coarsen: 100%|██████████| 5/5 [00:00<00:00, 550.43it/s]\n",
      "calculate H_coarsen: 100%|██████████| 5/5 [00:00<00:00, 440.01it/s]\n",
      "calculate H_coarsen: 100%|██████████| 28/28 [00:00<00:00, 220.56it/s]\n",
      "calculate H_coarsen: 100%|██████████| 28/28 [00:00<00:00, 264.23it/s]\n",
      "calculate H_coarsen: 100%|██████████| 28/28 [00:00<00:00, 288.58it/s]\n",
      "calculate H_coarsen: 100%|██████████| 237/237 [00:03<00:00, 61.73it/s]\n",
      "calculate H_coarsen: 100%|██████████| 237/237 [00:03<00:00, 65.20it/s]\n",
      "calculate H_coarsen: 100%|██████████| 237/237 [00:03<00:00, 63.56it/s]\n",
      "calculate H_coarsen: 100%|██████████| 237/237 [00:03<00:00, 64.61it/s]\n",
      "calculate H_coarsen: 100%|██████████| 237/237 [00:03<00:00, 64.74it/s]\n",
      "calculate H_coarsen: 100%|██████████| 237/237 [00:03<00:00, 64.61it/s]\n",
      "calculate H_coarsen: 100%|██████████| 237/237 [00:02<00:00, 110.11it/s]\n",
      "calculate H_coarsen: 100%|██████████| 237/237 [00:03<00:00, 64.82it/s]\n",
      "calculate H_coarsen: 100%|██████████| 237/237 [00:03<00:00, 61.83it/s]\n",
      "calculate H_coarsen: 100%|██████████| 237/237 [00:04<00:00, 58.24it/s]\n",
      "calculate H_coarsen: 100%|██████████| 237/237 [00:04<00:00, 57.89it/s]\n",
      "calculate H_coarsen: 100%|██████████| 237/237 [00:04<00:00, 56.81it/s]\n",
      "calculate H_coarsen: 100%|██████████| 237/237 [00:04<00:00, 58.07it/s]\n",
      "calculate H_coarsen: 100%|██████████| 78/78 [00:00<00:00, 79.29it/s]\n",
      "calculate H_coarsen: 100%|██████████| 78/78 [00:01<00:00, 77.64it/s]\n",
      "calculate H_coarsen: 100%|██████████| 78/78 [00:00<00:00, 80.66it/s]\n",
      "calculate H_coarsen: 100%|██████████| 78/78 [00:00<00:00, 85.75it/s]\n",
      "calculate H_coarsen: 100%|██████████| 78/78 [00:00<00:00, 81.93it/s]\n",
      "calculate H_coarsen: 100%|██████████| 78/78 [00:01<00:00, 74.18it/s]\n",
      "calculate H_coarsen: 100%|██████████| 78/78 [00:00<00:00, 85.91it/s]\n",
      "calculate H_coarsen: 100%|██████████| 78/78 [00:00<00:00, -127.16it/s]\n",
      "calculate H_coarsen: 100%|██████████| 78/78 [00:00<00:00, 85.45it/s]\n",
      "calculate H_coarsen: 100%|██████████| 78/78 [00:00<00:00, 81.51it/s]\n",
      "calculate H_coarsen: 100%|██████████| 78/78 [00:00<00:00, 85.49it/s]\n",
      "calculate H_coarsen: 100%|██████████| 78/78 [00:00<00:00, 82.93it/s]\n",
      "calculate H_coarsen: 100%|██████████| 1318/1318 [00:46<00:00, 28.29it/s]\n",
      "calculate H_coarsen: 100%|██████████| 1318/1318 [00:41<00:00, 32.09it/s]\n",
      "calculate H_coarsen: 100%|██████████| 1318/1318 [00:39<00:00, 33.64it/s] \n",
      "calculate H_coarsen: 100%|██████████| 1318/1318 [00:41<00:00, 31.78it/s]\n",
      "calculate H_coarsen: 100%|██████████| 1318/1318 [00:42<00:00, 30.90it/s]\n",
      "calculate H_coarsen: 100%|██████████| 1318/1318 [00:38<00:00, 34.26it/s] \n",
      "calculate H_coarsen: 100%|██████████| 1318/1318 [00:41<00:00, 31.41it/s]\n",
      "calculate H_coarsen: 100%|██████████| 1318/1318 [00:42<00:00, 30.82it/s]\n",
      "calculate H_coarsen: 100%|██████████| 1318/1318 [00:39<00:00, 33.62it/s] \n",
      "calculate H_coarsen: 100%|██████████| 1318/1318 [00:40<00:00, 32.33it/s]\n",
      "calculate H_coarsen: 100%|██████████| 1318/1318 [00:41<00:00, 31.51it/s]\n",
      "calculate H_coarsen: 100%|██████████| 1318/1318 [00:40<00:00, 32.50it/s] \n",
      "calculate H_coarsen: 100%|██████████| 1318/1318 [00:41<00:00, 31.94it/s]\n",
      "calculate H_coarsen: 100%|██████████| 1318/1318 [00:41<00:00, 31.80it/s]\n",
      "calculate H_coarsen: 100%|██████████| 1318/1318 [02:01<00:00, 10.85it/s]\n",
      "calculate H_coarsen: 100%|██████████| 1318/1318 [00:19<00:00, 66.95it/s]\n",
      "calculate H_coarsen: 100%|██████████| 1318/1318 [00:18<00:00, 73.07it/s]\n",
      "calculate H_coarsen: 100%|██████████| 1318/1318 [00:19<00:00, 67.48it/s]\n",
      "calculate H_coarsen: 100%|██████████| 1318/1318 [00:19<00:00, 68.86it/s]\n",
      "calculate H_coarsen: 100%|██████████| 1318/1318 [00:33<00:00, 39.76it/s]\n",
      "calculate H_coarsen: 100%|██████████| 1318/1318 [00:41<00:00, 32.10it/s]\n",
      "calculate H_coarsen: 100%|██████████| 1318/1318 [00:40<00:00, 32.72it/s]\n",
      "calculate H_coarsen: 100%|██████████| 1318/1318 [00:41<00:00, 31.93it/s]\n",
      "calculate H_coarsen: 100%|██████████| 1318/1318 [00:41<00:00, 31.53it/s]\n",
      "calculate H_coarsen: 100%|██████████| 1318/1318 [00:41<00:00, 31.49it/s]\n",
      "calculate H_coarsen: 100%|██████████| 1318/1318 [00:41<00:00, 31.85it/s]\n",
      "calculate H_coarsen: 100%|██████████| 1318/1318 [00:39<00:00, 32.99it/s]\n",
      "calculate H_coarsen: 100%|██████████| 1318/1318 [00:39<00:00, 33.51it/s]\n",
      "calculate H_coarsen: 100%|██████████| 1318/1318 [00:40<00:00, 32.95it/s]\n",
      "calculate H_coarsen: 100%|██████████| 1318/1318 [00:38<00:00, 33.83it/s]\n",
      "calculate H_coarsen: 100%|██████████| 1318/1318 [00:39<00:00, 33.63it/s]\n",
      "calculate H_coarsen: 100%|██████████| 1318/1318 [00:38<00:00, 33.83it/s]\n",
      "calculate H_coarsen: 100%|██████████| 5450/5450 [00:37<00:00, 146.93it/s]\n",
      "calculate H_coarsen: 100%|██████████| 5450/5450 [00:29<00:00, 185.52it/s]\n",
      "calculate H_coarsen: 100%|██████████| 5450/5450 [00:29<00:00, 185.81it/s]\n",
      "calculate H_coarsen: 100%|██████████| 5450/5450 [00:29<00:00, 187.17it/s]\n",
      "calculate H_coarsen: 100%|██████████| 5450/5450 [00:29<00:00, 185.82it/s]\n",
      "calculate H_coarsen: 100%|██████████| 5450/5450 [00:28<00:00, 188.35it/s]\n",
      "calculate H_coarsen: 100%|██████████| 5450/5450 [00:28<00:00, 188.08it/s]\n",
      "calculate H_coarsen: 100%|██████████| 5450/5450 [00:28<00:00, 189.54it/s]\n",
      "calculate H_coarsen: 100%|██████████| 5450/5450 [00:30<00:00, 181.49it/s]\n",
      "calculate H_coarsen: 100%|██████████| 5450/5450 [00:30<00:00, 178.50it/s]\n",
      "calculate H_coarsen: 100%|██████████| 5450/5450 [00:31<00:00, 173.31it/s]\n",
      "calculate H_coarsen: 100%|██████████| 5450/5450 [14:36:06<00:00,  9.65s/it]     \n",
      "calculate H_coarsen: 100%|██████████| 5450/5450 [00:16<00:00, 333.17it/s]\n",
      "calculate H_coarsen: 100%|██████████| 5450/5450 [00:14<00:00, 379.03it/s]\n",
      "calculate H_coarsen: 100%|██████████| 5450/5450 [00:14<00:00, 386.82it/s]\n",
      "calculate H_coarsen: 100%|██████████| 5450/5450 [00:14<00:00, 382.88it/s]\n",
      "calculate H_coarsen: 100%|██████████| 5450/5450 [00:29<00:00, 183.94it/s]\n",
      "calculate H_coarsen: 100%|██████████| 5450/5450 [00:29<00:00, 185.23it/s]\n",
      "calculate H_coarsen: 100%|██████████| 5450/5450 [00:33<00:00, 164.27it/s]\n",
      "calculate H_coarsen: 100%|██████████| 5450/5450 [00:30<00:00, 178.49it/s]\n",
      "calculate H_coarsen: 100%|██████████| 5450/5450 [00:30<00:00, 179.03it/s]\n",
      "calculate H_coarsen: 100%|██████████| 5450/5450 [00:30<00:00, 178.97it/s]\n",
      "calculate H_coarsen: 100%|██████████| 5450/5450 [00:28<00:00, 188.70it/s]\n",
      "calculate H_coarsen: 100%|██████████| 5450/5450 [00:30<00:00, 176.87it/s]\n",
      "calculate H_coarsen: 100%|██████████| 5450/5450 [00:33<00:00, 161.74it/s]\n",
      "calculate H_coarsen: 100%|██████████| 5450/5450 [00:31<00:00, 171.12it/s]\n",
      "calculate H_coarsen: 100%|██████████| 5450/5450 [00:31<00:00, 175.75it/s]\n",
      "calculate H_coarsen:  83%|████████▎ | 4533/5450 [00:26<00:05, 174.74it/s]"
     ]
    }
   ],
   "source": [
    "coarsener = HeteroCoarsener(None,original_graph, 0.5, num_nearest_per_etype=10, num_nearest_neighbors=10,pairs_per_level=10)\n",
    "coarsener.init_step()"
   ]
  },
  {
   "cell_type": "code",
   "execution_count": 5,
   "id": "e6958e6c",
   "metadata": {},
   "outputs": [
    {
     "data": {
      "text/plain": [
       "Graph(num_nodes={'Forschungsgebiete': 71, 'Forschungsgruppen': 2, 'Kooperationen': 8, 'Personen': 164, 'Projekte': 35, 'Publikationen': 1254, '_Literal': 5380},\n",
       "      num_edges={('Forschungsgebiete', 'Forschungsgebiete_ontology#dealtWithIn_Projekte', 'Projekte'): 0, ('Forschungsgebiete', 'Forschungsgebiete_ontology#isWorkedOnBy_Personen', 'Personen'): 53, ('Forschungsgebiete', 'Forschungsgebiete_ontology#name__Literal', '_Literal'): 76, ('Forschungsgebiete', 'Forschungsgebiete_rdftype__Literal', '_Literal'): 0, ('Forschungsgebiete', 'Forschungsgebiete_rev-ontology#isAbout_Projekte', 'Projekte'): 0, ('Forschungsgebiete', 'Forschungsgebiete_rev-ontology#isAbout_Publikationen', 'Publikationen'): 1915, ('Forschungsgruppen', 'Forschungsgruppen_ontology#carriesOut_Projekte', 'Projekte'): 0, ('Forschungsgruppen', 'Forschungsgruppen_ontology#head_Personen', 'Personen'): 0, ('Forschungsgruppen', 'Forschungsgruppen_ontology#homepage__Literal', '_Literal'): 5, ('Forschungsgruppen', 'Forschungsgruppen_ontology#member_Personen', 'Personen'): 8, ('Forschungsgruppen', 'Forschungsgruppen_ontology#name__Literal', '_Literal'): 5, ('Forschungsgruppen', 'Forschungsgruppen_ontology#publishes_Publikationen', 'Publikationen'): 1116, ('Forschungsgruppen', 'Forschungsgruppen_rev-ontology#carriedOutBy_Projekte', 'Projekte'): 0, ('Kooperationen', 'Kooperationen_ontology#finances_Projekte', 'Projekte'): 0, ('Kooperationen', 'Kooperationen_ontology#name__Literal', '_Literal'): 28, ('Kooperationen', 'Kooperationen_rev-ontology#financedBy_Projekte', 'Projekte'): 0, ('Personen', 'Personen_ontology#fax__Literal', '_Literal'): 200, ('Personen', 'Personen_ontology#homepage__Literal', '_Literal'): 78, ('Personen', 'Personen_ontology#name__Literal', '_Literal'): 227, ('Personen', 'Personen_ontology#phone__Literal', '_Literal'): 223, ('Personen', 'Personen_ontology#photo__Literal', '_Literal'): 148, ('Personen', 'Personen_ontology#publication_Publikationen', 'Publikationen'): 2385, ('Personen', 'Personen_ontology#worksAtProject_Projekte', 'Projekte'): 0, ('Personen', 'Personen_rev-ontology#author_Publikationen', 'Publikationen'): 2325, ('Personen', 'Personen_rev-ontology#editor_Publikationen', 'Publikationen'): 78, ('Personen', 'Personen_rev-ontology#head_Forschungsgruppen', 'Forschungsgruppen'): 0, ('Personen', 'Personen_rev-ontology#isWorkedOnBy_Forschungsgebiete', 'Forschungsgebiete'): 97, ('Personen', 'Personen_rev-ontology#member_Forschungsgruppen', 'Forschungsgruppen'): 0, ('Personen', 'Personen_rev-ontology#member_Projekte', 'Projekte'): 0, ('Projekte', 'Projekte_ontology#carriedOutBy_Forschungsgruppen', 'Forschungsgruppen'): 0, ('Projekte', 'Projekte_ontology#financedBy_Kooperationen', 'Kooperationen'): 0, ('Projekte', 'Projekte_ontology#homepage__Literal', '_Literal'): 57, ('Projekte', 'Projekte_ontology#isAbout_Forschungsgebiete', 'Forschungsgebiete'): 65, ('Projekte', 'Projekte_ontology#member_Personen', 'Personen'): 22, ('Projekte', 'Projekte_ontology#name__Literal', '_Literal'): 75, ('Projekte', 'Projekte_ontology#projectInfo_Publikationen', 'Publikationen'): 905, ('Projekte', 'Projekte_rev-ontology#carriesOut_Forschungsgruppen', 'Forschungsgruppen'): 0, ('Projekte', 'Projekte_rev-ontology#dealtWithIn_Forschungsgebiete', 'Forschungsgebiete'): 65, ('Projekte', 'Projekte_rev-ontology#finances_Kooperationen', 'Kooperationen'): 0, ('Projekte', 'Projekte_rev-ontology#hasProject_Publikationen', 'Publikationen'): 905, ('Projekte', 'Projekte_rev-ontology#worksAtProject_Personen', 'Personen'): 20, ('Publikationen', 'Publikationen_ontology#abstract__Literal', '_Literal'): 533, ('Publikationen', 'Publikationen_ontology#address__Literal', '_Literal'): 199, ('Publikationen', 'Publikationen_ontology#author_Personen', 'Personen'): 303, ('Publikationen', 'Publikationen_ontology#author_Publikationen', 'Publikationen'): 1364, ('Publikationen', 'Publikationen_ontology#booktitle__Literal', '_Literal'): 754, ('Publikationen', 'Publikationen_ontology#chapter__Literal', '_Literal'): 15, ('Publikationen', 'Publikationen_ontology#edition__Literal', '_Literal'): 12, ('Publikationen', 'Publikationen_ontology#editor_Personen', 'Personen'): 3, ('Publikationen', 'Publikationen_ontology#editor_Publikationen', 'Publikationen'): 105, ('Publikationen', 'Publikationen_ontology#hasProject_Projekte', 'Projekte'): 0, ('Publikationen', 'Publikationen_ontology#homepage__Literal', '_Literal'): 99, ('Publikationen', 'Publikationen_ontology#howpublished__Literal', '_Literal'): 49, ('Publikationen', 'Publikationen_ontology#isAbout_Forschungsgebiete', 'Forschungsgebiete'): 462, ('Publikationen', 'Publikationen_ontology#isbn__Literal', '_Literal'): 16, ('Publikationen', 'Publikationen_ontology#journal__Literal', '_Literal'): 159, ('Publikationen', 'Publikationen_ontology#month__Literal', '_Literal'): 757, ('Publikationen', 'Publikationen_ontology#name__Literal', '_Literal'): 821, ('Publikationen', 'Publikationen_ontology#note__Literal', '_Literal'): 112, ('Publikationen', 'Publikationen_ontology#number__Literal', '_Literal'): 145, ('Publikationen', 'Publikationen_ontology#pages__Literal', '_Literal'): 545, ('Publikationen', 'Publikationen_ontology#publication_Publikationen', 'Publikationen'): 1454, ('Publikationen', 'Publikationen_ontology#series__Literal', '_Literal'): 294, ('Publikationen', 'Publikationen_ontology#title__Literal', '_Literal'): 1219, ('Publikationen', 'Publikationen_ontology#type__Literal', '_Literal'): 50, ('Publikationen', 'Publikationen_ontology#volume__Literal', '_Literal'): 309, ('Publikationen', 'Publikationen_ontology#year__Literal', '_Literal'): 1217, ('Publikationen', 'Publikationen_rev-ontology#author_Publikationen', 'Publikationen'): 1339, ('Publikationen', 'Publikationen_rev-ontology#editor_Publikationen', 'Publikationen'): 106, ('Publikationen', 'Publikationen_rev-ontology#projectInfo_Projekte', 'Projekte'): 0, ('Publikationen', 'Publikationen_rev-ontology#publication_Personen', 'Personen'): 284, ('Publikationen', 'Publikationen_rev-ontology#publication_Publikationen', 'Publikationen'): 1478, ('Publikationen', 'Publikationen_rev-ontology#publishes_Forschungsgruppen', 'Forschungsgruppen'): 0, ('_Literal', '_Literal_rev-ontology#abstract_Publikationen', 'Publikationen'): 500, ('_Literal', '_Literal_rev-ontology#address_Publikationen', 'Publikationen'): 174, ('_Literal', '_Literal_rev-ontology#booktitle_Publikationen', 'Publikationen'): 703, ('_Literal', '_Literal_rev-ontology#chapter_Publikationen', 'Publikationen'): 15, ('_Literal', '_Literal_rev-ontology#edition_Publikationen', 'Publikationen'): 9, ('_Literal', '_Literal_rev-ontology#fax_Personen', 'Personen'): 81, ('_Literal', '_Literal_rev-ontology#homepage_Forschungsgruppen', 'Forschungsgruppen'): 0, ('_Literal', '_Literal_rev-ontology#homepage_Personen', 'Personen'): 25, ('_Literal', '_Literal_rev-ontology#homepage_Projekte', 'Projekte'): 0, ('_Literal', '_Literal_rev-ontology#homepage_Publikationen', 'Publikationen'): 93, ('_Literal', '_Literal_rev-ontology#howpublished_Publikationen', 'Publikationen'): 46, ('_Literal', '_Literal_rev-ontology#isbn_Publikationen', 'Publikationen'): 13, ('_Literal', '_Literal_rev-ontology#journal_Publikationen', 'Publikationen'): 153, ('_Literal', '_Literal_rev-ontology#month_Publikationen', 'Publikationen'): 681, ('_Literal', '_Literal_rev-ontology#name_Forschungsgebiete', 'Forschungsgebiete'): 25, ('_Literal', '_Literal_rev-ontology#name_Forschungsgruppen', 'Forschungsgruppen'): 0, ('_Literal', '_Literal_rev-ontology#name_Kooperationen', 'Kooperationen'): 0, ('_Literal', '_Literal_rev-ontology#name_Personen', 'Personen'): 81, ('_Literal', '_Literal_rev-ontology#name_Projekte', 'Projekte'): 0, ('_Literal', '_Literal_rev-ontology#name_Publikationen', 'Publikationen'): 773, ('_Literal', '_Literal_rev-ontology#note_Publikationen', 'Publikationen'): 107, ('_Literal', '_Literal_rev-ontology#number_Publikationen', 'Publikationen'): 138, ('_Literal', '_Literal_rev-ontology#pages_Publikationen', 'Publikationen'): 499, ('_Literal', '_Literal_rev-ontology#phone_Personen', 'Personen'): 81, ('_Literal', '_Literal_rev-ontology#photo_Personen', 'Personen'): 46, ('_Literal', '_Literal_rev-ontology#series_Publikationen', 'Publikationen'): 266, ('_Literal', '_Literal_rev-ontology#title_Publikationen', 'Publikationen'): 1133, ('_Literal', '_Literal_rev-ontology#type_Publikationen', 'Publikationen'): 50, ('_Literal', '_Literal_rev-ontology#volume_Publikationen', 'Publikationen'): 288, ('_Literal', '_Literal_rev-ontology#year_Publikationen', 'Publikationen'): 1133, ('_Literal', '_Literal_rev-rdftype_Forschungsgebiete', 'Forschungsgebiete'): 23},\n",
       "      metagraph=[('Forschungsgebiete', 'Projekte', 'Forschungsgebiete_ontology#dealtWithIn_Projekte'), ('Forschungsgebiete', 'Projekte', 'Forschungsgebiete_rev-ontology#isAbout_Projekte'), ('Forschungsgebiete', 'Personen', 'Forschungsgebiete_ontology#isWorkedOnBy_Personen'), ('Forschungsgebiete', '_Literal', 'Forschungsgebiete_ontology#name__Literal'), ('Forschungsgebiete', '_Literal', 'Forschungsgebiete_rdftype__Literal'), ('Forschungsgebiete', 'Publikationen', 'Forschungsgebiete_rev-ontology#isAbout_Publikationen'), ('Projekte', 'Forschungsgruppen', 'Projekte_ontology#carriedOutBy_Forschungsgruppen'), ('Projekte', 'Forschungsgruppen', 'Projekte_rev-ontology#carriesOut_Forschungsgruppen'), ('Projekte', 'Kooperationen', 'Projekte_ontology#financedBy_Kooperationen'), ('Projekte', 'Kooperationen', 'Projekte_rev-ontology#finances_Kooperationen'), ('Projekte', '_Literal', 'Projekte_ontology#homepage__Literal'), ('Projekte', '_Literal', 'Projekte_ontology#name__Literal'), ('Projekte', 'Forschungsgebiete', 'Projekte_ontology#isAbout_Forschungsgebiete'), ('Projekte', 'Forschungsgebiete', 'Projekte_rev-ontology#dealtWithIn_Forschungsgebiete'), ('Projekte', 'Personen', 'Projekte_ontology#member_Personen'), ('Projekte', 'Personen', 'Projekte_rev-ontology#worksAtProject_Personen'), ('Projekte', 'Publikationen', 'Projekte_ontology#projectInfo_Publikationen'), ('Projekte', 'Publikationen', 'Projekte_rev-ontology#hasProject_Publikationen'), ('Personen', '_Literal', 'Personen_ontology#fax__Literal'), ('Personen', '_Literal', 'Personen_ontology#homepage__Literal'), ('Personen', '_Literal', 'Personen_ontology#name__Literal'), ('Personen', '_Literal', 'Personen_ontology#phone__Literal'), ('Personen', '_Literal', 'Personen_ontology#photo__Literal'), ('Personen', 'Publikationen', 'Personen_ontology#publication_Publikationen'), ('Personen', 'Publikationen', 'Personen_rev-ontology#author_Publikationen'), ('Personen', 'Publikationen', 'Personen_rev-ontology#editor_Publikationen'), ('Personen', 'Projekte', 'Personen_ontology#worksAtProject_Projekte'), ('Personen', 'Projekte', 'Personen_rev-ontology#member_Projekte'), ('Personen', 'Forschungsgruppen', 'Personen_rev-ontology#head_Forschungsgruppen'), ('Personen', 'Forschungsgruppen', 'Personen_rev-ontology#member_Forschungsgruppen'), ('Personen', 'Forschungsgebiete', 'Personen_rev-ontology#isWorkedOnBy_Forschungsgebiete'), ('_Literal', 'Publikationen', '_Literal_rev-ontology#abstract_Publikationen'), ('_Literal', 'Publikationen', '_Literal_rev-ontology#address_Publikationen'), ('_Literal', 'Publikationen', '_Literal_rev-ontology#booktitle_Publikationen'), ('_Literal', 'Publikationen', '_Literal_rev-ontology#chapter_Publikationen'), ('_Literal', 'Publikationen', '_Literal_rev-ontology#edition_Publikationen'), ('_Literal', 'Publikationen', '_Literal_rev-ontology#homepage_Publikationen'), ('_Literal', 'Publikationen', '_Literal_rev-ontology#howpublished_Publikationen'), ('_Literal', 'Publikationen', '_Literal_rev-ontology#isbn_Publikationen'), ('_Literal', 'Publikationen', '_Literal_rev-ontology#journal_Publikationen'), ('_Literal', 'Publikationen', '_Literal_rev-ontology#month_Publikationen'), ('_Literal', 'Publikationen', '_Literal_rev-ontology#name_Publikationen'), ('_Literal', 'Publikationen', '_Literal_rev-ontology#note_Publikationen'), ('_Literal', 'Publikationen', '_Literal_rev-ontology#number_Publikationen'), ('_Literal', 'Publikationen', '_Literal_rev-ontology#pages_Publikationen'), ('_Literal', 'Publikationen', '_Literal_rev-ontology#series_Publikationen'), ('_Literal', 'Publikationen', '_Literal_rev-ontology#title_Publikationen'), ('_Literal', 'Publikationen', '_Literal_rev-ontology#type_Publikationen'), ('_Literal', 'Publikationen', '_Literal_rev-ontology#volume_Publikationen'), ('_Literal', 'Publikationen', '_Literal_rev-ontology#year_Publikationen'), ('_Literal', 'Personen', '_Literal_rev-ontology#fax_Personen'), ('_Literal', 'Personen', '_Literal_rev-ontology#homepage_Personen'), ('_Literal', 'Personen', '_Literal_rev-ontology#name_Personen'), ('_Literal', 'Personen', '_Literal_rev-ontology#phone_Personen'), ('_Literal', 'Personen', '_Literal_rev-ontology#photo_Personen'), ('_Literal', 'Forschungsgruppen', '_Literal_rev-ontology#homepage_Forschungsgruppen'), ('_Literal', 'Forschungsgruppen', '_Literal_rev-ontology#name_Forschungsgruppen'), ('_Literal', 'Projekte', '_Literal_rev-ontology#homepage_Projekte'), ('_Literal', 'Projekte', '_Literal_rev-ontology#name_Projekte'), ('_Literal', 'Forschungsgebiete', '_Literal_rev-ontology#name_Forschungsgebiete'), ('_Literal', 'Forschungsgebiete', '_Literal_rev-rdftype_Forschungsgebiete'), ('_Literal', 'Kooperationen', '_Literal_rev-ontology#name_Kooperationen'), ('Publikationen', '_Literal', 'Publikationen_ontology#abstract__Literal'), ('Publikationen', '_Literal', 'Publikationen_ontology#address__Literal'), ('Publikationen', '_Literal', 'Publikationen_ontology#booktitle__Literal'), ('Publikationen', '_Literal', 'Publikationen_ontology#chapter__Literal'), ('Publikationen', '_Literal', 'Publikationen_ontology#edition__Literal'), ('Publikationen', '_Literal', 'Publikationen_ontology#homepage__Literal'), ('Publikationen', '_Literal', 'Publikationen_ontology#howpublished__Literal'), ('Publikationen', '_Literal', 'Publikationen_ontology#isbn__Literal'), ('Publikationen', '_Literal', 'Publikationen_ontology#journal__Literal'), ('Publikationen', '_Literal', 'Publikationen_ontology#month__Literal'), ('Publikationen', '_Literal', 'Publikationen_ontology#name__Literal'), ('Publikationen', '_Literal', 'Publikationen_ontology#note__Literal'), ('Publikationen', '_Literal', 'Publikationen_ontology#number__Literal'), ('Publikationen', '_Literal', 'Publikationen_ontology#pages__Literal'), ('Publikationen', '_Literal', 'Publikationen_ontology#series__Literal'), ('Publikationen', '_Literal', 'Publikationen_ontology#title__Literal'), ('Publikationen', '_Literal', 'Publikationen_ontology#type__Literal'), ('Publikationen', '_Literal', 'Publikationen_ontology#volume__Literal'), ('Publikationen', '_Literal', 'Publikationen_ontology#year__Literal'), ('Publikationen', 'Personen', 'Publikationen_ontology#author_Personen'), ('Publikationen', 'Personen', 'Publikationen_ontology#editor_Personen'), ('Publikationen', 'Personen', 'Publikationen_rev-ontology#publication_Personen'), ('Publikationen', 'Publikationen', 'Publikationen_ontology#author_Publikationen'), ('Publikationen', 'Publikationen', 'Publikationen_ontology#editor_Publikationen'), ('Publikationen', 'Publikationen', 'Publikationen_ontology#publication_Publikationen'), ('Publikationen', 'Publikationen', 'Publikationen_rev-ontology#author_Publikationen'), ('Publikationen', 'Publikationen', 'Publikationen_rev-ontology#editor_Publikationen'), ('Publikationen', 'Publikationen', 'Publikationen_rev-ontology#publication_Publikationen'), ('Publikationen', 'Projekte', 'Publikationen_ontology#hasProject_Projekte'), ('Publikationen', 'Projekte', 'Publikationen_rev-ontology#projectInfo_Projekte'), ('Publikationen', 'Forschungsgebiete', 'Publikationen_ontology#isAbout_Forschungsgebiete'), ('Publikationen', 'Forschungsgruppen', 'Publikationen_rev-ontology#publishes_Forschungsgruppen'), ('Forschungsgruppen', 'Projekte', 'Forschungsgruppen_ontology#carriesOut_Projekte'), ('Forschungsgruppen', 'Projekte', 'Forschungsgruppen_rev-ontology#carriedOutBy_Projekte'), ('Forschungsgruppen', 'Personen', 'Forschungsgruppen_ontology#head_Personen'), ('Forschungsgruppen', 'Personen', 'Forschungsgruppen_ontology#member_Personen'), ('Forschungsgruppen', '_Literal', 'Forschungsgruppen_ontology#homepage__Literal'), ('Forschungsgruppen', '_Literal', 'Forschungsgruppen_ontology#name__Literal'), ('Forschungsgruppen', 'Publikationen', 'Forschungsgruppen_ontology#publishes_Publikationen'), ('Kooperationen', 'Projekte', 'Kooperationen_ontology#finances_Projekte'), ('Kooperationen', 'Projekte', 'Kooperationen_rev-ontology#financedBy_Projekte'), ('Kooperationen', '_Literal', 'Kooperationen_ontology#name__Literal')])"
      ]
     },
     "execution_count": 5,
     "metadata": {},
     "output_type": "execute_result"
    }
   ],
   "source": [
    "merge_graph"
   ]
  },
  {
   "cell_type": "code",
   "execution_count": 4,
   "id": "7baeed86",
   "metadata": {},
   "outputs": [
    {
     "data": {
      "text/plain": [
       "Graph(num_nodes={'Forschungsgebiete': 146, 'Forschungsgruppen': 5, 'Kooperationen': 28, 'Personen': 237, 'Projekte': 78, 'Publikationen': 1318, '_Literal': 5450},\n",
       "      num_edges={('Forschungsgebiete', 'Forschungsgebiete_ontology#dealtWithIn_Projekte', 'Projekte'): 357, ('Forschungsgebiete', 'Forschungsgebiete_ontology#isWorkedOnBy_Personen', 'Personen'): 571, ('Forschungsgebiete', 'Forschungsgebiete_ontology#name__Literal', '_Literal'): 146, ('Forschungsgebiete', 'Forschungsgebiete_rdftype__Literal', '_Literal'): 129, ('Forschungsgebiete', 'Forschungsgebiete_rev-ontology#isAbout_Projekte', 'Projekte'): 357, ('Forschungsgebiete', 'Forschungsgebiete_rev-ontology#isAbout_Publikationen', 'Publikationen'): 2120, ('Forschungsgruppen', 'Forschungsgruppen_ontology#carriesOut_Projekte', 'Projekte'): 79, ('Forschungsgruppen', 'Forschungsgruppen_ontology#head_Personen', 'Personen'): 5, ('Forschungsgruppen', 'Forschungsgruppen_ontology#homepage__Literal', '_Literal'): 5, ('Forschungsgruppen', 'Forschungsgruppen_ontology#member_Personen', 'Personen'): 74, ('Forschungsgruppen', 'Forschungsgruppen_ontology#name__Literal', '_Literal'): 5, ('Forschungsgruppen', 'Forschungsgruppen_ontology#publishes_Publikationen', 'Publikationen'): 1217, ('Forschungsgruppen', 'Forschungsgruppen_rev-ontology#carriedOutBy_Projekte', 'Projekte'): 79, ('Kooperationen', 'Kooperationen_ontology#finances_Projekte', 'Projekte'): 68, ('Kooperationen', 'Kooperationen_ontology#name__Literal', '_Literal'): 28, ('Kooperationen', 'Kooperationen_rev-ontology#financedBy_Projekte', 'Projekte'): 65, ('Personen', 'Personen_ontology#fax__Literal', '_Literal'): 227, ('Personen', 'Personen_ontology#homepage__Literal', '_Literal'): 78, ('Personen', 'Personen_ontology#name__Literal', '_Literal'): 227, ('Personen', 'Personen_ontology#phone__Literal', '_Literal'): 227, ('Personen', 'Personen_ontology#photo__Literal', '_Literal'): 148, ('Personen', 'Personen_ontology#publication_Publikationen', 'Publikationen'): 2609, ('Personen', 'Personen_ontology#worksAtProject_Projekte', 'Projekte'): 200, ('Personen', 'Personen_rev-ontology#author_Publikationen', 'Publikationen'): 2550, ('Personen', 'Personen_rev-ontology#editor_Publikationen', 'Publikationen'): 81, ('Personen', 'Personen_rev-ontology#head_Forschungsgruppen', 'Forschungsgruppen'): 5, ('Personen', 'Personen_rev-ontology#isWorkedOnBy_Forschungsgebiete', 'Forschungsgebiete'): 571, ('Personen', 'Personen_rev-ontology#member_Forschungsgruppen', 'Forschungsgruppen'): 74, ('Personen', 'Personen_rev-ontology#member_Projekte', 'Projekte'): 265, ('Projekte', 'Projekte_ontology#carriedOutBy_Forschungsgruppen', 'Forschungsgruppen'): 79, ('Projekte', 'Projekte_ontology#financedBy_Kooperationen', 'Kooperationen'): 65, ('Projekte', 'Projekte_ontology#homepage__Literal', '_Literal'): 57, ('Projekte', 'Projekte_ontology#isAbout_Forschungsgebiete', 'Forschungsgebiete'): 357, ('Projekte', 'Projekte_ontology#member_Personen', 'Personen'): 265, ('Projekte', 'Projekte_ontology#name__Literal', '_Literal'): 75, ('Projekte', 'Projekte_ontology#projectInfo_Publikationen', 'Publikationen'): 952, ('Projekte', 'Projekte_rev-ontology#carriesOut_Forschungsgruppen', 'Forschungsgruppen'): 79, ('Projekte', 'Projekte_rev-ontology#dealtWithIn_Forschungsgebiete', 'Forschungsgebiete'): 357, ('Projekte', 'Projekte_rev-ontology#finances_Kooperationen', 'Kooperationen'): 68, ('Projekte', 'Projekte_rev-ontology#hasProject_Publikationen', 'Publikationen'): 952, ('Projekte', 'Projekte_rev-ontology#worksAtProject_Personen', 'Personen'): 200, ('Publikationen', 'Publikationen_ontology#abstract__Literal', '_Literal'): 534, ('Publikationen', 'Publikationen_ontology#address__Literal', '_Literal'): 202, ('Publikationen', 'Publikationen_ontology#author_Personen', 'Personen'): 2550, ('Publikationen', 'Publikationen_ontology#author_Publikationen', 'Publikationen'): 1436, ('Publikationen', 'Publikationen_ontology#booktitle__Literal', '_Literal'): 765, ('Publikationen', 'Publikationen_ontology#chapter__Literal', '_Literal'): 15, ('Publikationen', 'Publikationen_ontology#edition__Literal', '_Literal'): 12, ('Publikationen', 'Publikationen_ontology#editor_Personen', 'Personen'): 81, ('Publikationen', 'Publikationen_ontology#editor_Publikationen', 'Publikationen'): 109, ('Publikationen', 'Publikationen_ontology#hasProject_Projekte', 'Projekte'): 952, ('Publikationen', 'Publikationen_ontology#homepage__Literal', '_Literal'): 99, ('Publikationen', 'Publikationen_ontology#howpublished__Literal', '_Literal'): 49, ('Publikationen', 'Publikationen_ontology#isAbout_Forschungsgebiete', 'Forschungsgebiete'): 2120, ('Publikationen', 'Publikationen_ontology#isbn__Literal', '_Literal'): 16, ('Publikationen', 'Publikationen_ontology#journal__Literal', '_Literal'): 161, ('Publikationen', 'Publikationen_ontology#month__Literal', '_Literal'): 759, ('Publikationen', 'Publikationen_ontology#name__Literal', '_Literal'): 821, ('Publikationen', 'Publikationen_ontology#note__Literal', '_Literal'): 114, ('Publikationen', 'Publikationen_ontology#number__Literal', '_Literal'): 145, ('Publikationen', 'Publikationen_ontology#pages__Literal', '_Literal'): 548, ('Publikationen', 'Publikationen_ontology#publication_Publikationen', 'Publikationen'): 1554, ('Publikationen', 'Publikationen_ontology#series__Literal', '_Literal'): 298, ('Publikationen', 'Publikationen_ontology#title__Literal', '_Literal'): 1227, ('Publikationen', 'Publikationen_ontology#type__Literal', '_Literal'): 50, ('Publikationen', 'Publikationen_ontology#volume__Literal', '_Literal'): 311, ('Publikationen', 'Publikationen_ontology#year__Literal', '_Literal'): 1227, ('Publikationen', 'Publikationen_rev-ontology#author_Publikationen', 'Publikationen'): 1436, ('Publikationen', 'Publikationen_rev-ontology#editor_Publikationen', 'Publikationen'): 109, ('Publikationen', 'Publikationen_rev-ontology#projectInfo_Projekte', 'Projekte'): 952, ('Publikationen', 'Publikationen_rev-ontology#publication_Personen', 'Personen'): 2609, ('Publikationen', 'Publikationen_rev-ontology#publication_Publikationen', 'Publikationen'): 1554, ('Publikationen', 'Publikationen_rev-ontology#publishes_Forschungsgruppen', 'Forschungsgruppen'): 1217, ('_Literal', '_Literal_rev-ontology#abstract_Publikationen', 'Publikationen'): 534, ('_Literal', '_Literal_rev-ontology#address_Publikationen', 'Publikationen'): 202, ('_Literal', '_Literal_rev-ontology#booktitle_Publikationen', 'Publikationen'): 765, ('_Literal', '_Literal_rev-ontology#chapter_Publikationen', 'Publikationen'): 15, ('_Literal', '_Literal_rev-ontology#edition_Publikationen', 'Publikationen'): 12, ('_Literal', '_Literal_rev-ontology#fax_Personen', 'Personen'): 227, ('_Literal', '_Literal_rev-ontology#homepage_Forschungsgruppen', 'Forschungsgruppen'): 5, ('_Literal', '_Literal_rev-ontology#homepage_Personen', 'Personen'): 78, ('_Literal', '_Literal_rev-ontology#homepage_Projekte', 'Projekte'): 57, ('_Literal', '_Literal_rev-ontology#homepage_Publikationen', 'Publikationen'): 99, ('_Literal', '_Literal_rev-ontology#howpublished_Publikationen', 'Publikationen'): 49, ('_Literal', '_Literal_rev-ontology#isbn_Publikationen', 'Publikationen'): 16, ('_Literal', '_Literal_rev-ontology#journal_Publikationen', 'Publikationen'): 161, ('_Literal', '_Literal_rev-ontology#month_Publikationen', 'Publikationen'): 759, ('_Literal', '_Literal_rev-ontology#name_Forschungsgebiete', 'Forschungsgebiete'): 146, ('_Literal', '_Literal_rev-ontology#name_Forschungsgruppen', 'Forschungsgruppen'): 5, ('_Literal', '_Literal_rev-ontology#name_Kooperationen', 'Kooperationen'): 28, ('_Literal', '_Literal_rev-ontology#name_Personen', 'Personen'): 227, ('_Literal', '_Literal_rev-ontology#name_Projekte', 'Projekte'): 75, ('_Literal', '_Literal_rev-ontology#name_Publikationen', 'Publikationen'): 821, ('_Literal', '_Literal_rev-ontology#note_Publikationen', 'Publikationen'): 114, ('_Literal', '_Literal_rev-ontology#number_Publikationen', 'Publikationen'): 145, ('_Literal', '_Literal_rev-ontology#pages_Publikationen', 'Publikationen'): 548, ('_Literal', '_Literal_rev-ontology#phone_Personen', 'Personen'): 227, ('_Literal', '_Literal_rev-ontology#photo_Personen', 'Personen'): 148, ('_Literal', '_Literal_rev-ontology#series_Publikationen', 'Publikationen'): 298, ('_Literal', '_Literal_rev-ontology#title_Publikationen', 'Publikationen'): 1227, ('_Literal', '_Literal_rev-ontology#type_Publikationen', 'Publikationen'): 50, ('_Literal', '_Literal_rev-ontology#volume_Publikationen', 'Publikationen'): 311, ('_Literal', '_Literal_rev-ontology#year_Publikationen', 'Publikationen'): 1227, ('_Literal', '_Literal_rev-rdftype_Forschungsgebiete', 'Forschungsgebiete'): 129},\n",
       "      metagraph=[('Forschungsgebiete', 'Projekte', 'Forschungsgebiete_ontology#dealtWithIn_Projekte'), ('Forschungsgebiete', 'Projekte', 'Forschungsgebiete_rev-ontology#isAbout_Projekte'), ('Forschungsgebiete', 'Personen', 'Forschungsgebiete_ontology#isWorkedOnBy_Personen'), ('Forschungsgebiete', '_Literal', 'Forschungsgebiete_ontology#name__Literal'), ('Forschungsgebiete', '_Literal', 'Forschungsgebiete_rdftype__Literal'), ('Forschungsgebiete', 'Publikationen', 'Forschungsgebiete_rev-ontology#isAbout_Publikationen'), ('Projekte', 'Forschungsgruppen', 'Projekte_ontology#carriedOutBy_Forschungsgruppen'), ('Projekte', 'Forschungsgruppen', 'Projekte_rev-ontology#carriesOut_Forschungsgruppen'), ('Projekte', 'Kooperationen', 'Projekte_ontology#financedBy_Kooperationen'), ('Projekte', 'Kooperationen', 'Projekte_rev-ontology#finances_Kooperationen'), ('Projekte', '_Literal', 'Projekte_ontology#homepage__Literal'), ('Projekte', '_Literal', 'Projekte_ontology#name__Literal'), ('Projekte', 'Forschungsgebiete', 'Projekte_ontology#isAbout_Forschungsgebiete'), ('Projekte', 'Forschungsgebiete', 'Projekte_rev-ontology#dealtWithIn_Forschungsgebiete'), ('Projekte', 'Personen', 'Projekte_ontology#member_Personen'), ('Projekte', 'Personen', 'Projekte_rev-ontology#worksAtProject_Personen'), ('Projekte', 'Publikationen', 'Projekte_ontology#projectInfo_Publikationen'), ('Projekte', 'Publikationen', 'Projekte_rev-ontology#hasProject_Publikationen'), ('Personen', '_Literal', 'Personen_ontology#fax__Literal'), ('Personen', '_Literal', 'Personen_ontology#homepage__Literal'), ('Personen', '_Literal', 'Personen_ontology#name__Literal'), ('Personen', '_Literal', 'Personen_ontology#phone__Literal'), ('Personen', '_Literal', 'Personen_ontology#photo__Literal'), ('Personen', 'Publikationen', 'Personen_ontology#publication_Publikationen'), ('Personen', 'Publikationen', 'Personen_rev-ontology#author_Publikationen'), ('Personen', 'Publikationen', 'Personen_rev-ontology#editor_Publikationen'), ('Personen', 'Projekte', 'Personen_ontology#worksAtProject_Projekte'), ('Personen', 'Projekte', 'Personen_rev-ontology#member_Projekte'), ('Personen', 'Forschungsgruppen', 'Personen_rev-ontology#head_Forschungsgruppen'), ('Personen', 'Forschungsgruppen', 'Personen_rev-ontology#member_Forschungsgruppen'), ('Personen', 'Forschungsgebiete', 'Personen_rev-ontology#isWorkedOnBy_Forschungsgebiete'), ('_Literal', 'Publikationen', '_Literal_rev-ontology#abstract_Publikationen'), ('_Literal', 'Publikationen', '_Literal_rev-ontology#address_Publikationen'), ('_Literal', 'Publikationen', '_Literal_rev-ontology#booktitle_Publikationen'), ('_Literal', 'Publikationen', '_Literal_rev-ontology#chapter_Publikationen'), ('_Literal', 'Publikationen', '_Literal_rev-ontology#edition_Publikationen'), ('_Literal', 'Publikationen', '_Literal_rev-ontology#homepage_Publikationen'), ('_Literal', 'Publikationen', '_Literal_rev-ontology#howpublished_Publikationen'), ('_Literal', 'Publikationen', '_Literal_rev-ontology#isbn_Publikationen'), ('_Literal', 'Publikationen', '_Literal_rev-ontology#journal_Publikationen'), ('_Literal', 'Publikationen', '_Literal_rev-ontology#month_Publikationen'), ('_Literal', 'Publikationen', '_Literal_rev-ontology#name_Publikationen'), ('_Literal', 'Publikationen', '_Literal_rev-ontology#note_Publikationen'), ('_Literal', 'Publikationen', '_Literal_rev-ontology#number_Publikationen'), ('_Literal', 'Publikationen', '_Literal_rev-ontology#pages_Publikationen'), ('_Literal', 'Publikationen', '_Literal_rev-ontology#series_Publikationen'), ('_Literal', 'Publikationen', '_Literal_rev-ontology#title_Publikationen'), ('_Literal', 'Publikationen', '_Literal_rev-ontology#type_Publikationen'), ('_Literal', 'Publikationen', '_Literal_rev-ontology#volume_Publikationen'), ('_Literal', 'Publikationen', '_Literal_rev-ontology#year_Publikationen'), ('_Literal', 'Personen', '_Literal_rev-ontology#fax_Personen'), ('_Literal', 'Personen', '_Literal_rev-ontology#homepage_Personen'), ('_Literal', 'Personen', '_Literal_rev-ontology#name_Personen'), ('_Literal', 'Personen', '_Literal_rev-ontology#phone_Personen'), ('_Literal', 'Personen', '_Literal_rev-ontology#photo_Personen'), ('_Literal', 'Forschungsgruppen', '_Literal_rev-ontology#homepage_Forschungsgruppen'), ('_Literal', 'Forschungsgruppen', '_Literal_rev-ontology#name_Forschungsgruppen'), ('_Literal', 'Projekte', '_Literal_rev-ontology#homepage_Projekte'), ('_Literal', 'Projekte', '_Literal_rev-ontology#name_Projekte'), ('_Literal', 'Forschungsgebiete', '_Literal_rev-ontology#name_Forschungsgebiete'), ('_Literal', 'Forschungsgebiete', '_Literal_rev-rdftype_Forschungsgebiete'), ('_Literal', 'Kooperationen', '_Literal_rev-ontology#name_Kooperationen'), ('Publikationen', '_Literal', 'Publikationen_ontology#abstract__Literal'), ('Publikationen', '_Literal', 'Publikationen_ontology#address__Literal'), ('Publikationen', '_Literal', 'Publikationen_ontology#booktitle__Literal'), ('Publikationen', '_Literal', 'Publikationen_ontology#chapter__Literal'), ('Publikationen', '_Literal', 'Publikationen_ontology#edition__Literal'), ('Publikationen', '_Literal', 'Publikationen_ontology#homepage__Literal'), ('Publikationen', '_Literal', 'Publikationen_ontology#howpublished__Literal'), ('Publikationen', '_Literal', 'Publikationen_ontology#isbn__Literal'), ('Publikationen', '_Literal', 'Publikationen_ontology#journal__Literal'), ('Publikationen', '_Literal', 'Publikationen_ontology#month__Literal'), ('Publikationen', '_Literal', 'Publikationen_ontology#name__Literal'), ('Publikationen', '_Literal', 'Publikationen_ontology#note__Literal'), ('Publikationen', '_Literal', 'Publikationen_ontology#number__Literal'), ('Publikationen', '_Literal', 'Publikationen_ontology#pages__Literal'), ('Publikationen', '_Literal', 'Publikationen_ontology#series__Literal'), ('Publikationen', '_Literal', 'Publikationen_ontology#title__Literal'), ('Publikationen', '_Literal', 'Publikationen_ontology#type__Literal'), ('Publikationen', '_Literal', 'Publikationen_ontology#volume__Literal'), ('Publikationen', '_Literal', 'Publikationen_ontology#year__Literal'), ('Publikationen', 'Personen', 'Publikationen_ontology#author_Personen'), ('Publikationen', 'Personen', 'Publikationen_ontology#editor_Personen'), ('Publikationen', 'Personen', 'Publikationen_rev-ontology#publication_Personen'), ('Publikationen', 'Publikationen', 'Publikationen_ontology#author_Publikationen'), ('Publikationen', 'Publikationen', 'Publikationen_ontology#editor_Publikationen'), ('Publikationen', 'Publikationen', 'Publikationen_ontology#publication_Publikationen'), ('Publikationen', 'Publikationen', 'Publikationen_rev-ontology#author_Publikationen'), ('Publikationen', 'Publikationen', 'Publikationen_rev-ontology#editor_Publikationen'), ('Publikationen', 'Publikationen', 'Publikationen_rev-ontology#publication_Publikationen'), ('Publikationen', 'Projekte', 'Publikationen_ontology#hasProject_Projekte'), ('Publikationen', 'Projekte', 'Publikationen_rev-ontology#projectInfo_Projekte'), ('Publikationen', 'Forschungsgebiete', 'Publikationen_ontology#isAbout_Forschungsgebiete'), ('Publikationen', 'Forschungsgruppen', 'Publikationen_rev-ontology#publishes_Forschungsgruppen'), ('Forschungsgruppen', 'Projekte', 'Forschungsgruppen_ontology#carriesOut_Projekte'), ('Forschungsgruppen', 'Projekte', 'Forschungsgruppen_rev-ontology#carriedOutBy_Projekte'), ('Forschungsgruppen', 'Personen', 'Forschungsgruppen_ontology#head_Personen'), ('Forschungsgruppen', 'Personen', 'Forschungsgruppen_ontology#member_Personen'), ('Forschungsgruppen', '_Literal', 'Forschungsgruppen_ontology#homepage__Literal'), ('Forschungsgruppen', '_Literal', 'Forschungsgruppen_ontology#name__Literal'), ('Forschungsgruppen', 'Publikationen', 'Forschungsgruppen_ontology#publishes_Publikationen'), ('Kooperationen', 'Projekte', 'Kooperationen_ontology#finances_Projekte'), ('Kooperationen', 'Projekte', 'Kooperationen_rev-ontology#financedBy_Projekte'), ('Kooperationen', '_Literal', 'Kooperationen_ontology#name__Literal')])"
      ]
     },
     "execution_count": 4,
     "metadata": {},
     "output_type": "execute_result"
    }
   ],
   "source": [
    "new_g"
   ]
  },
  {
   "cell_type": "code",
   "execution_count": 6,
   "id": "1f40516b",
   "metadata": {},
   "outputs": [
    {
     "name": "stdout",
     "output_type": "stream",
     "text": [
      "Done loading data from cached files.\n",
      "Node types: ['Forschungsgebiete', 'Forschungsgruppen', 'Kooperationen', 'Personen', 'Projekte', 'Publikationen', '_Literal']\n",
      "Label node type: Personen\n",
      "Epoch 000 | Loss: 3.1304 | Train Acc: 0.1515\n",
      "Epoch 010 | Loss: 0.0035 | Train Acc: 1.0000\n",
      "Epoch 020 | Loss: 0.0009 | Train Acc: 1.0000\n",
      "Epoch 030 | Loss: 0.0004 | Train Acc: 1.0000\n",
      "Epoch 040 | Loss: 0.0002 | Train Acc: 1.0000\n",
      "\n",
      "✅ Test Accuracy on 'Personen' nodes: 0.7692\n"
     ]
    }
   ],
   "source": [
    "import dgl\n",
    "import torch\n",
    "import torch.nn as nn\n",
    "import torch.nn.functional as F\n",
    "from dgl.data.rdf import AIFBDataset\n",
    "from Models.GNNs.HGCN import RGCN\n",
    "\n",
    "from sklearn.metrics import accuracy_score\n",
    "\n",
    "# Load AIFB dataset\n",
    "dataset = AIFBDataset()\n",
    "g = merge_graph #dataset[0]\n",
    "\n",
    "# Check node types and label node type\n",
    "print(\"Node types:\", g.ntypes)\n",
    "print(\"Label node type:\", dataset.predict_category)  # should be 'Personen'\n",
    "#g = merged_graph\n",
    "label_ntype = dataset.predict_category  # 'Personen'\n",
    "labels = g.nodes[label_ntype].data['labels']\n",
    "train_mask = g.nodes[label_ntype].data['train_mask'].bool()\n",
    "num_classes = dataset.num_classes\n",
    "test_mask = g.nodes[label_ntype].data['test_mask'].to(torch.bool)\n",
    "# Define embedding size\n",
    "embed_size = 16\n",
    "#g = merged_graph\n",
    "# Create trainable input embeddings for all node types\n",
    "node_embeds = nn.ModuleDict({\n",
    "    ntype: nn.Embedding(g.num_nodes(ntype), embed_size)\n",
    "    for ntype in g.ntypes\n",
    "})\n",
    "\n",
    "# Instantiate model\n",
    "model = RGCN(in_feats=embed_size, hidden_feats=32, out_feats=num_classes, etypes=g.etypes)\n",
    "\n",
    "# Move to device if available\n",
    "device = torch.device('cuda' if torch.cuda.is_available() else 'cpu')\n",
    "model = model.to(device)\n",
    "node_embeds = node_embeds.to(device)\n",
    "labels = labels.to(device)\n",
    "train_mask = train_mask.to(device)\n",
    "g = g.to(device)\n",
    "\n",
    "# Optimizer\n",
    "optimizer = torch.optim.Adam(list(model.parameters()) + list(node_embeds.parameters()), lr=0.01)\n",
    "\n",
    "# Training loop\n",
    "for epoch in range(50):\n",
    "    model.train()\n",
    "    \n",
    "    inputs = {ntype: node_embeds[ntype].weight for ntype in g.ntypes}\n",
    "    logits = model(g, inputs)[label_ntype]\n",
    "    \n",
    "    loss = F.cross_entropy(logits[train_mask], labels[train_mask])\n",
    "\n",
    "    optimizer.zero_grad()\n",
    "    loss.backward()\n",
    "    optimizer.step()\n",
    "\n",
    "    pred = logits.argmax(dim=1)\n",
    "    acc = accuracy_score(labels[train_mask].cpu(), pred[train_mask].cpu())\n",
    "    if epoch % 10 == 0:\n",
    "        # Print training loss and accuracy every 10 epochs\n",
    "        print(f\"Epoch {epoch:03d} | Loss: {loss.item():.4f} | Train Acc: {acc:.4f}\")\n",
    "\n",
    "test_mask = g.nodes[label_ntype].data['test_mask'].to(torch.bool)\n",
    "\n",
    "# Evaluate\n",
    "model.eval()\n",
    "with torch.no_grad():\n",
    "    inputs = {ntype: node_embeds[ntype].weight for ntype in g.ntypes}\n",
    "    logits = model(g, inputs)[label_ntype]\n",
    "    pred = logits.argmax(dim=1)\n",
    "\n",
    "    test_acc = accuracy_score(labels[test_mask].cpu(), pred[test_mask].cpu())\n",
    "    print(f\"\\n✅ Test Accuracy on '{label_ntype}' nodes: {test_acc:.4f}\")\n",
    "\n"
   ]
  },
  {
   "cell_type": "code",
   "execution_count": 7,
   "id": "be21e6e3",
   "metadata": {},
   "outputs": [
    {
     "name": "stdout",
     "output_type": "stream",
     "text": [
      "\n",
      "✅ Test Accuracy on 'Personen' nodes: 0.8889\n"
     ]
    }
   ],
   "source": [
    "test_mask = g.nodes[label_ntype].data['test_mask'].to(torch.bool)\n",
    "\n",
    "# Evaluate\n",
    "model.eval()\n",
    "with torch.no_grad():\n",
    "    inputs = {ntype: node_embeds[ntype].weight for ntype in g.ntypes}\n",
    "    logits = model(g, inputs)[label_ntype]\n",
    "    pred = logits.argmax(dim=1)\n",
    "\n",
    "    test_acc = accuracy_score(labels[test_mask].cpu(), pred[test_mask].cpu())\n",
    "    print(f\"\\n✅ Test Accuracy on '{label_ntype}' nodes: {test_acc:.4f}\")\n"
   ]
  }
 ],
 "metadata": {
  "kernelspec": {
   "display_name": ".venvconv",
   "language": "python",
   "name": "python3"
  },
  "language_info": {
   "codemirror_mode": {
    "name": "ipython",
    "version": 3
   },
   "file_extension": ".py",
   "mimetype": "text/x-python",
   "name": "python",
   "nbconvert_exporter": "python",
   "pygments_lexer": "ipython3",
   "version": "3.10.12"
  }
 },
 "nbformat": 4,
 "nbformat_minor": 5
}
