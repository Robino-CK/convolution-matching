{
 "cells": [
  {
   "cell_type": "code",
   "execution_count": 1,
   "id": "90d1bc3d",
   "metadata": {},
   "outputs": [
    {
     "name": "stderr",
     "output_type": "stream",
     "text": [
      "/home/robin/thesis/convolution-matching/.venv/lib/python3.10/site-packages/tqdm/auto.py:22: TqdmWarning: IProgress not found. Please update jupyter and ipywidgets. See https://ipywidgets.readthedocs.io/en/stable/user_install.html\n",
      "  from .autonotebook import tqdm as notebook_tqdm\n"
     ]
    }
   ],
   "source": [
    "from GraphSummarizers.Coarsener.HeteroCoarsener import HeteroCoarsener\n",
    "from Datasets.NodeClassification.DBLP import DBLP\n",
    "from Datasets.NodeClassification.AIFB import AIFB\n",
    "from Datasets.NodeClassification.TestHetero import TestHeteroSmall, TestHeteroBig\n",
    "import importlib\n",
    "import torch\n",
    "from test_data_converter import dgl_to_pyg_input"
   ]
  },
  {
   "cell_type": "code",
   "execution_count": 2,
   "id": "5cb3efd5",
   "metadata": {},
   "outputs": [
    {
     "name": "stdout",
     "output_type": "stream",
     "text": [
      "Done loading data from cached files.\n"
     ]
    }
   ],
   "source": [
    "aifb = AIFB()\n",
    "original_graph = aifb.load_graph()\n"
   ]
  },
  {
   "cell_type": "code",
   "execution_count": null,
   "id": "ceaefccf",
   "metadata": {},
   "outputs": [
    {
     "name": "stdout",
     "output_type": "stream",
     "text": [
      "_create_h_spatial_rgcn 0.09000968933105469\n",
      "_init_costs 0.3798243999481201\n",
      "_get_union 26.563960552215576\n",
      "_costs_of_merges 46.319480895996094\n",
      "_init_merge_graph 0.06071615219116211\n",
      "_find_lowest_cost_edges 0.028368234634399414\n"
     ]
    }
   ],
   "source": [
    "coarsener = HeteroCoarsener(None,original_graph, 0.5, num_nearest_per_etype=15, num_nearest_neighbors=30,pairs_per_level=10)\n",
    "coarsener.init_step()\n"
   ]
  },
  {
   "cell_type": "code",
   "execution_count": 6,
   "id": "8ee44c14",
   "metadata": {},
   "outputs": [
    {
     "name": "stdout",
     "output_type": "stream",
     "text": [
      "--------- step:  0 ---------\n",
      "_merge_nodes 0.2270064353942871\n",
      "_merge_nodes 0.22414445877075195\n",
      "_merge_nodes 0.29282641410827637\n",
      "_merge_nodes 0.3547401428222656\n",
      "_merge_nodes 0.21877503395080566\n",
      "_merge_nodes 0.2723233699798584\n",
      "_merge_nodes 0.27635669708251953\n"
     ]
    },
    {
     "name": "stderr",
     "output_type": "stream",
     "text": [
      "/home/robin/thesis/convolution-matching/GraphSummarizers/Coarsener/HeteroCoarsener.py:750: UserWarning: To copy construct from a tensor, it is recommended to use sourceTensor.clone().detach() or sourceTensor.clone().detach().requires_grad_(True), rather than torch.tensor(sourceTensor).\n",
      "  node1s = torch.tensor(node1s, dtype=torch.long)\n",
      "/home/robin/thesis/convolution-matching/GraphSummarizers/Coarsener/HeteroCoarsener.py:751: UserWarning: To copy construct from a tensor, it is recommended to use sourceTensor.clone().detach() or sourceTensor.clone().detach().requires_grad_(True), rather than torch.tensor(sourceTensor).\n",
      "  node2s = torch.tensor(node2s, dtype=torch.long)\n"
     ]
    },
    {
     "name": "stdout",
     "output_type": "stream",
     "text": [
      "_update_merge_graph 0.02955031394958496\n",
      "_update_merge_graph 0.02822399139404297\n",
      "_update_merge_graph 0.019104719161987305\n",
      "_update_merge_graph 0.04771018028259277\n",
      "_update_merge_graph 0.04519081115722656\n",
      "_update_merge_graph 0.3181796073913574\n",
      "_update_merge_graph 0.10808563232421875\n",
      "_find_lowest_cost_edges 0.0034461021423339844\n",
      "--------- step:  1 ---------\n",
      "_merge_nodes 0.1476426124572754\n",
      "_merge_nodes 0.1792130470275879\n",
      "_merge_nodes 0.17256760597229004\n",
      "_merge_nodes 0.2071833610534668\n",
      "_merge_nodes 0.30743956565856934\n",
      "_merge_nodes 0.23546147346496582\n",
      "_merge_nodes 0.21468901634216309\n",
      "_update_merge_graph 0.04720187187194824\n",
      "_update_merge_graph 0.04584002494812012\n",
      "_update_merge_graph 0.022371292114257812\n",
      "_update_merge_graph 0.05148816108703613\n",
      "_update_merge_graph 0.04468798637390137\n",
      "_update_merge_graph 0.3184182643890381\n",
      "_update_merge_graph 0.09795784950256348\n",
      "_find_lowest_cost_edges 0.0037813186645507812\n",
      "--------- step:  2 ---------\n",
      "_merge_nodes 0.1464250087738037\n",
      "_merge_nodes 0.17679977416992188\n",
      "_merge_nodes 0.17903566360473633\n",
      "_merge_nodes 0.34160757064819336\n",
      "_merge_nodes 0.20229601860046387\n",
      "_merge_nodes 0.27770519256591797\n",
      "_merge_nodes 0.30428314208984375\n",
      "_update_merge_graph 0.02802896499633789\n",
      "_update_merge_graph 0.028249502182006836\n",
      "_update_merge_graph 0.01750349998474121\n",
      "_update_merge_graph 0.045264244079589844\n",
      "_update_merge_graph 0.04725766181945801\n",
      "_update_merge_graph 0.23270797729492188\n",
      "_update_merge_graph 0.11611652374267578\n",
      "_find_lowest_cost_edges 0.004086017608642578\n",
      "--------- step:  3 ---------\n",
      "_merge_nodes 0.15828466415405273\n",
      "_merge_nodes 0.19315576553344727\n",
      "_merge_nodes 0.17716288566589355\n",
      "_merge_nodes 0.2571141719818115\n",
      "_merge_nodes 0.19673657417297363\n",
      "_merge_nodes 0.24083614349365234\n",
      "_merge_nodes 0.38454365730285645\n",
      "_update_merge_graph 0.029089927673339844\n",
      "_update_merge_graph: WARNING no more merge candidates 0.01057887077331543\n",
      "_update_merge_graph 0.019204378128051758\n",
      "_update_merge_graph 0.04703259468078613\n",
      "_update_merge_graph 0.043366193771362305\n",
      "_update_merge_graph 0.23967862129211426\n",
      "_update_merge_graph 0.09358334541320801\n",
      "_find_lowest_cost_edges 0.0031211376190185547\n",
      "--------- step:  4 ---------\n",
      "_merge_nodes 0.3710944652557373\n",
      "_merge_nodes 0.12938833236694336\n",
      "_merge_nodes 0.15769243240356445\n",
      "_merge_nodes 0.18884515762329102\n",
      "_merge_nodes 0.4028193950653076\n",
      "_merge_nodes 0.22605514526367188\n",
      "_merge_nodes 0.25267982482910156\n",
      "_update_merge_graph 0.03275609016418457\n",
      "_update_merge_graph: WARNING no more merge candidates 0.0058057308197021484\n",
      "_update_merge_graph 0.018472671508789062\n",
      "_update_merge_graph 0.04843926429748535\n",
      "_update_merge_graph 0.05184173583984375\n",
      "_update_merge_graph 0.23531198501586914\n",
      "_update_merge_graph 0.09704351425170898\n",
      "_find_lowest_cost_edges 0.00408172607421875\n",
      "--------- step:  5 ---------\n",
      "_merge_nodes 0.14918041229248047\n",
      "_merge_nodes 0.13056540489196777\n",
      "_merge_nodes 0.1565263271331787\n",
      "_merge_nodes 0.20209074020385742\n",
      "_merge_nodes 0.18889856338500977\n",
      "_merge_nodes 0.23041152954101562\n",
      "_merge_nodes 0.22013211250305176\n",
      "_update_merge_graph 0.02930474281311035\n",
      "_update_merge_graph: WARNING no more merge candidates 0.00508427619934082\n",
      "_update_merge_graph 0.018738269805908203\n",
      "_update_merge_graph 0.046610355377197266\n",
      "_update_merge_graph 0.04398822784423828\n",
      "_update_merge_graph 0.30458831787109375\n",
      "_update_merge_graph 0.10380196571350098\n",
      "_find_lowest_cost_edges 0.0030889511108398438\n",
      "--------- step:  6 ---------\n",
      "_merge_nodes 0.2846240997314453\n",
      "_merge_nodes 0.140899658203125\n",
      "_merge_nodes 0.15903496742248535\n",
      "_merge_nodes 0.2058422565460205\n",
      "_merge_nodes 0.23201656341552734\n",
      "_merge_nodes 0.24978280067443848\n",
      "_merge_nodes 0.23896574974060059\n",
      "_update_merge_graph 0.030058622360229492\n",
      "_update_merge_graph: WARNING no more merge candidates 0.00535893440246582\n",
      "_update_merge_graph 0.020505189895629883\n",
      "_update_merge_graph 0.04978299140930176\n",
      "_update_merge_graph 0.04638934135437012\n",
      "_update_merge_graph 0.3033585548400879\n",
      "_update_merge_graph 0.09818577766418457\n",
      "_find_lowest_cost_edges 0.0037779808044433594\n",
      "--------- step:  7 ---------\n",
      "_merge_nodes 0.19097495079040527\n",
      "_merge_nodes 0.1343975067138672\n",
      "_merge_nodes 0.158797025680542\n",
      "_merge_nodes 0.20343279838562012\n",
      "_merge_nodes 0.2564105987548828\n",
      "_merge_nodes 0.38051652908325195\n",
      "_merge_nodes 0.23732256889343262\n",
      "_update_merge_graph 0.029942989349365234\n",
      "_update_merge_graph: WARNING no more merge candidates 0.0061893463134765625\n",
      "_update_merge_graph 0.020993471145629883\n",
      "_update_merge_graph 0.047036170959472656\n",
      "_update_merge_graph 0.04415750503540039\n",
      "_update_merge_graph 0.30172181129455566\n",
      "_update_merge_graph 0.09596443176269531\n",
      "_find_lowest_cost_edges 0.003202199935913086\n",
      "--------- step:  8 ---------\n",
      "_merge_nodes 0.162461519241333\n",
      "_merge_nodes 0.13150405883789062\n",
      "_merge_nodes 0.1681382656097412\n",
      "_merge_nodes 0.20522189140319824\n",
      "_merge_nodes 0.20661139488220215\n",
      "_merge_nodes 0.25080204010009766\n",
      "_merge_nodes 0.23649001121520996\n",
      "_update_merge_graph 0.03204607963562012\n",
      "_update_merge_graph: WARNING no more merge candidates 0.005555629730224609\n",
      "_update_merge_graph 0.018498659133911133\n",
      "_update_merge_graph 0.04659318923950195\n",
      "_update_merge_graph 0.0450899600982666\n",
      "_update_merge_graph 0.309978723526001\n",
      "_update_merge_graph 0.1137237548828125\n",
      "_find_lowest_cost_edges 0.003259420394897461\n",
      "--------- step:  9 ---------\n",
      "_merge_nodes 0.16232013702392578\n",
      "_merge_nodes 0.1277296543121338\n",
      "_merge_nodes 0.28880953788757324\n",
      "_merge_nodes 0.20587706565856934\n",
      "_merge_nodes 0.2666752338409424\n",
      "_merge_nodes 0.2540626525878906\n",
      "_merge_nodes 0.25542211532592773\n",
      "_update_merge_graph 0.030744314193725586\n",
      "_update_merge_graph: WARNING no more merge candidates 0.0048978328704833984\n",
      "_update_merge_graph 0.018507003784179688\n",
      "_update_merge_graph 0.04779481887817383\n",
      "_update_merge_graph 0.045731306076049805\n",
      "_update_merge_graph 0.28850293159484863\n",
      "_update_merge_graph 0.09729480743408203\n",
      "_find_lowest_cost_edges 0.004152059555053711\n",
      "--------- step:  10 ---------\n",
      "_merge_nodes 0.15546822547912598\n",
      "_merge_nodes 0.16948485374450684\n",
      "_merge_nodes 0.16906452178955078\n",
      "_merge_nodes 0.2645103931427002\n",
      "_merge_nodes 0.20390748977661133\n",
      "_merge_nodes 0.23879241943359375\n",
      "_merge_nodes 0.23804235458374023\n",
      "_update_merge_graph 0.030126333236694336\n",
      "_update_merge_graph: WARNING no more merge candidates 0.005170583724975586\n",
      "_update_merge_graph 0.019453048706054688\n",
      "_update_merge_graph 0.047594308853149414\n",
      "_update_merge_graph 0.04571700096130371\n",
      "_update_merge_graph 0.2520902156829834\n",
      "_update_merge_graph 0.10091876983642578\n",
      "_find_lowest_cost_edges 0.0037996768951416016\n",
      "--------- step:  11 ---------\n",
      "_merge_nodes 0.19759726524353027\n",
      "_merge_nodes 0.1339893341064453\n",
      "_merge_nodes 0.16001510620117188\n",
      "_merge_nodes 0.2126157283782959\n",
      "_merge_nodes 0.22906041145324707\n",
      "_merge_nodes 0.42949748039245605\n",
      "_merge_nodes 0.2353808879852295\n"
     ]
    },
    {
     "ename": "KeyboardInterrupt",
     "evalue": "",
     "output_type": "error",
     "traceback": [
      "\u001b[0;31m---------------------------------------------------------------------------\u001b[0m",
      "\u001b[0;31mKeyboardInterrupt\u001b[0m                         Traceback (most recent call last)",
      "Cell \u001b[0;32mIn[6], line 6\u001b[0m\n\u001b[1;32m      4\u001b[0m     \u001b[38;5;28;01mbreak\u001b[39;00m\n\u001b[1;32m      5\u001b[0m \u001b[38;5;28mprint\u001b[39m(\u001b[38;5;124m\"\u001b[39m\u001b[38;5;124m--------- step: \u001b[39m\u001b[38;5;124m\"\u001b[39m , i , \u001b[38;5;124m\"\u001b[39m\u001b[38;5;124m---------\u001b[39m\u001b[38;5;124m\"\u001b[39m )\n\u001b[0;32m----> 6\u001b[0m isNewMerges \u001b[38;5;241m=\u001b[39m \u001b[43mcoarsener\u001b[49m\u001b[38;5;241;43m.\u001b[39;49m\u001b[43miteration_step\u001b[49m\u001b[43m(\u001b[49m\u001b[43m)\u001b[49m\n",
      "File \u001b[0;32m~/thesis/convolution-matching/GraphSummarizers/Coarsener/HeteroCoarsener.py:1261\u001b[0m, in \u001b[0;36mHeteroCoarsener.iteration_step\u001b[0;34m(self)\u001b[0m\n\u001b[1;32m   1257\u001b[0m     \u001b[38;5;28mself\u001b[39m\u001b[38;5;241m.\u001b[39mmappings[ntype]\u001b[38;5;241m.\u001b[39mappend(mapping) \n\u001b[1;32m   1258\u001b[0m    \u001b[38;5;66;03m# \u001b[39;00m\n\u001b[0;32m-> 1261\u001b[0m \u001b[38;5;28mself\u001b[39m\u001b[38;5;241m.\u001b[39mcoarsened_graph \u001b[38;5;241m=\u001b[39m \u001b[38;5;28;43mself\u001b[39;49m\u001b[38;5;241;43m.\u001b[39;49m\u001b[43m_add_merged_edges\u001b[49m\u001b[43m(\u001b[49m\u001b[43mg1\u001b[49m\u001b[43m,\u001b[49m\u001b[38;5;28;43mself\u001b[39;49m\u001b[38;5;241;43m.\u001b[39;49m\u001b[43mcoarsened_graph\u001b[49m\u001b[43m,\u001b[49m\u001b[43m \u001b[49m\u001b[38;5;28;43mself\u001b[39;49m\u001b[38;5;241;43m.\u001b[39;49m\u001b[43mmappings\u001b[49m\u001b[43m)\u001b[49m\n\u001b[1;32m   1263\u001b[0m \u001b[38;5;28;01mfor\u001b[39;00m ntype, merge_list \u001b[38;5;129;01min\u001b[39;00m \u001b[38;5;28mself\u001b[39m\u001b[38;5;241m.\u001b[39mcandidates\u001b[38;5;241m.\u001b[39mitems():\n\u001b[1;32m   1264\u001b[0m     \u001b[38;5;28mself\u001b[39m\u001b[38;5;241m.\u001b[39mmerge_graphs[ntype], isNewMergesPerType \u001b[38;5;241m=\u001b[39m \u001b[38;5;28mself\u001b[39m\u001b[38;5;241m.\u001b[39m_update_merge_graph(\u001b[38;5;28mself\u001b[39m\u001b[38;5;241m.\u001b[39mmerge_graphs[ntype], merge_list, ntype)\n",
      "File \u001b[0;32m~/thesis/convolution-matching/GraphSummarizers/Coarsener/HeteroCoarsener.py:462\u001b[0m, in \u001b[0;36mHeteroCoarsener._add_merged_edges\u001b[0;34m(self, g_before, g_after, mappings)\u001b[0m\n\u001b[1;32m    460\u001b[0m mapping_dst \u001b[38;5;241m=\u001b[39m mappings[dst_type][\u001b[38;5;241m-\u001b[39m\u001b[38;5;241m1\u001b[39m]\n\u001b[1;32m    461\u001b[0m all_eids \u001b[38;5;241m=\u001b[39m g_after\u001b[38;5;241m.\u001b[39medges(form\u001b[38;5;241m=\u001b[39m\u001b[38;5;124m'\u001b[39m\u001b[38;5;124meid\u001b[39m\u001b[38;5;124m'\u001b[39m, etype\u001b[38;5;241m=\u001b[39metype)\n\u001b[0;32m--> 462\u001b[0m \u001b[43mg_after\u001b[49m\u001b[38;5;241;43m.\u001b[39;49m\u001b[43mremove_edges\u001b[49m\u001b[43m(\u001b[49m\u001b[43mall_eids\u001b[49m\u001b[43m,\u001b[49m\u001b[43m \u001b[49m\u001b[43metype\u001b[49m\u001b[38;5;241;43m=\u001b[39;49m\u001b[43metype\u001b[49m\u001b[43m)\u001b[49m\n\u001b[1;32m    463\u001b[0m edges_original \u001b[38;5;241m=\u001b[39m g_before\u001b[38;5;241m.\u001b[39medges(etype\u001b[38;5;241m=\u001b[39metype)\n\u001b[1;32m    464\u001b[0m edges_adj \u001b[38;5;241m=\u001b[39m g_before\u001b[38;5;241m.\u001b[39medges[etype]\u001b[38;5;241m.\u001b[39mdata[\u001b[38;5;124m\"\u001b[39m\u001b[38;5;124madj\u001b[39m\u001b[38;5;124m\"\u001b[39m]\n",
      "File \u001b[0;32m~/thesis/convolution-matching/.venv/lib/python3.10/site-packages/dgl/heterograph.py:756\u001b[0m, in \u001b[0;36mDGLGraph.remove_edges\u001b[0;34m(self, eids, etype, store_ids)\u001b[0m\n\u001b[1;32m    749\u001b[0m     batch_num_removed_edges \u001b[38;5;241m=\u001b[39m segment\u001b[38;5;241m.\u001b[39msegment_reduce(\n\u001b[1;32m    750\u001b[0m         c_etype_batch_num_edges, one_hot_removed_edges, reducer\u001b[38;5;241m=\u001b[39m\u001b[38;5;124m\"\u001b[39m\u001b[38;5;124msum\u001b[39m\u001b[38;5;124m\"\u001b[39m\n\u001b[1;32m    751\u001b[0m     )\n\u001b[1;32m    752\u001b[0m     \u001b[38;5;28mself\u001b[39m\u001b[38;5;241m.\u001b[39m_batch_num_edges[c_etype] \u001b[38;5;241m=\u001b[39m c_etype_batch_num_edges \u001b[38;5;241m-\u001b[39m F\u001b[38;5;241m.\u001b[39mastype(\n\u001b[1;32m    753\u001b[0m         batch_num_removed_edges, \u001b[38;5;28mself\u001b[39m\u001b[38;5;241m.\u001b[39midtype\n\u001b[1;32m    754\u001b[0m     )\n\u001b[0;32m--> 756\u001b[0m sub_g \u001b[38;5;241m=\u001b[39m \u001b[38;5;28;43mself\u001b[39;49m\u001b[38;5;241;43m.\u001b[39;49m\u001b[43medge_subgraph\u001b[49m\u001b[43m(\u001b[49m\n\u001b[1;32m    757\u001b[0m \u001b[43m    \u001b[49m\u001b[43medges\u001b[49m\u001b[43m,\u001b[49m\u001b[43m \u001b[49m\u001b[43mrelabel_nodes\u001b[49m\u001b[38;5;241;43m=\u001b[39;49m\u001b[38;5;28;43;01mFalse\u001b[39;49;00m\u001b[43m,\u001b[49m\u001b[43m \u001b[49m\u001b[43mstore_ids\u001b[49m\u001b[38;5;241;43m=\u001b[39;49m\u001b[43mstore_ids\u001b[49m\n\u001b[1;32m    758\u001b[0m \u001b[43m\u001b[49m\u001b[43m)\u001b[49m\n\u001b[1;32m    759\u001b[0m \u001b[38;5;28mself\u001b[39m\u001b[38;5;241m.\u001b[39m_graph \u001b[38;5;241m=\u001b[39m sub_g\u001b[38;5;241m.\u001b[39m_graph\n\u001b[1;32m    760\u001b[0m \u001b[38;5;28mself\u001b[39m\u001b[38;5;241m.\u001b[39m_node_frames \u001b[38;5;241m=\u001b[39m sub_g\u001b[38;5;241m.\u001b[39m_node_frames\n",
      "File \u001b[0;32m~/thesis/convolution-matching/.venv/lib/python3.10/site-packages/dgl/utils/internal.py:1051\u001b[0m, in \u001b[0;36malias_func.<locals>._fn\u001b[0;34m(*args, **kwargs)\u001b[0m\n\u001b[1;32m   1049\u001b[0m \u001b[38;5;129m@wraps\u001b[39m(func)\n\u001b[1;32m   1050\u001b[0m \u001b[38;5;28;01mdef\u001b[39;00m\u001b[38;5;250m \u001b[39m\u001b[38;5;21m_fn\u001b[39m(\u001b[38;5;241m*\u001b[39margs, \u001b[38;5;241m*\u001b[39m\u001b[38;5;241m*\u001b[39mkwargs):\n\u001b[0;32m-> 1051\u001b[0m     \u001b[38;5;28;01mreturn\u001b[39;00m \u001b[43mfunc\u001b[49m\u001b[43m(\u001b[49m\u001b[38;5;241;43m*\u001b[39;49m\u001b[43margs\u001b[49m\u001b[43m,\u001b[49m\u001b[43m \u001b[49m\u001b[38;5;241;43m*\u001b[39;49m\u001b[38;5;241;43m*\u001b[39;49m\u001b[43mkwargs\u001b[49m\u001b[43m)\u001b[49m\n",
      "File \u001b[0;32m~/thesis/convolution-matching/.venv/lib/python3.10/site-packages/dgl/subgraph.py:326\u001b[0m, in \u001b[0;36medge_subgraph\u001b[0;34m(graph, edges, relabel_nodes, store_ids, output_device)\u001b[0m\n\u001b[1;32m    324\u001b[0m edges \u001b[38;5;241m=\u001b[39m {etype: _process_edges(etype, e) \u001b[38;5;28;01mfor\u001b[39;00m etype, e \u001b[38;5;129;01min\u001b[39;00m edges\u001b[38;5;241m.\u001b[39mitems()}\n\u001b[1;32m    325\u001b[0m device \u001b[38;5;241m=\u001b[39m context_of(edges)\n\u001b[0;32m--> 326\u001b[0m induced_edges \u001b[38;5;241m=\u001b[39m [\n\u001b[1;32m    327\u001b[0m     edges\u001b[38;5;241m.\u001b[39mget(cetype, F\u001b[38;5;241m.\u001b[39mcopy_to(F\u001b[38;5;241m.\u001b[39mtensor([], graph\u001b[38;5;241m.\u001b[39midtype), device))\n\u001b[1;32m    328\u001b[0m     \u001b[38;5;28;01mfor\u001b[39;00m cetype \u001b[38;5;129;01min\u001b[39;00m graph\u001b[38;5;241m.\u001b[39mcanonical_etypes\n\u001b[1;32m    329\u001b[0m ]\n\u001b[1;32m    331\u001b[0m sgi \u001b[38;5;241m=\u001b[39m graph\u001b[38;5;241m.\u001b[39m_graph\u001b[38;5;241m.\u001b[39medge_subgraph(induced_edges, \u001b[38;5;129;01mnot\u001b[39;00m relabel_nodes)\n\u001b[1;32m    332\u001b[0m induced_nodes_or_device \u001b[38;5;241m=\u001b[39m sgi\u001b[38;5;241m.\u001b[39minduced_nodes \u001b[38;5;28;01mif\u001b[39;00m relabel_nodes \u001b[38;5;28;01melse\u001b[39;00m device\n",
      "File \u001b[0;32m~/thesis/convolution-matching/.venv/lib/python3.10/site-packages/dgl/subgraph.py:327\u001b[0m, in \u001b[0;36m<listcomp>\u001b[0;34m(.0)\u001b[0m\n\u001b[1;32m    324\u001b[0m edges \u001b[38;5;241m=\u001b[39m {etype: _process_edges(etype, e) \u001b[38;5;28;01mfor\u001b[39;00m etype, e \u001b[38;5;129;01min\u001b[39;00m edges\u001b[38;5;241m.\u001b[39mitems()}\n\u001b[1;32m    325\u001b[0m device \u001b[38;5;241m=\u001b[39m context_of(edges)\n\u001b[1;32m    326\u001b[0m induced_edges \u001b[38;5;241m=\u001b[39m [\n\u001b[0;32m--> 327\u001b[0m     edges\u001b[38;5;241m.\u001b[39mget(cetype, F\u001b[38;5;241m.\u001b[39mcopy_to(\u001b[43mF\u001b[49m\u001b[38;5;241;43m.\u001b[39;49m\u001b[43mtensor\u001b[49m\u001b[43m(\u001b[49m\u001b[43m[\u001b[49m\u001b[43m]\u001b[49m\u001b[43m,\u001b[49m\u001b[43m \u001b[49m\u001b[43mgraph\u001b[49m\u001b[38;5;241;43m.\u001b[39;49m\u001b[43midtype\u001b[49m\u001b[43m)\u001b[49m, device))\n\u001b[1;32m    328\u001b[0m     \u001b[38;5;28;01mfor\u001b[39;00m cetype \u001b[38;5;129;01min\u001b[39;00m graph\u001b[38;5;241m.\u001b[39mcanonical_etypes\n\u001b[1;32m    329\u001b[0m ]\n\u001b[1;32m    331\u001b[0m sgi \u001b[38;5;241m=\u001b[39m graph\u001b[38;5;241m.\u001b[39m_graph\u001b[38;5;241m.\u001b[39medge_subgraph(induced_edges, \u001b[38;5;129;01mnot\u001b[39;00m relabel_nodes)\n\u001b[1;32m    332\u001b[0m induced_nodes_or_device \u001b[38;5;241m=\u001b[39m sgi\u001b[38;5;241m.\u001b[39minduced_nodes \u001b[38;5;28;01mif\u001b[39;00m relabel_nodes \u001b[38;5;28;01melse\u001b[39;00m device\n",
      "File \u001b[0;32m~/thesis/convolution-matching/.venv/lib/python3.10/site-packages/dgl/backend/pytorch/tensor.py:53\u001b[0m, in \u001b[0;36mtensor\u001b[0;34m(data, dtype)\u001b[0m\n\u001b[1;32m     51\u001b[0m     \u001b[38;5;28;01mreturn\u001b[39;00m th\u001b[38;5;241m.\u001b[39mas_tensor(data, dtype\u001b[38;5;241m=\u001b[39mdtype, device\u001b[38;5;241m=\u001b[39mdata\u001b[38;5;241m.\u001b[39mdevice)\n\u001b[1;32m     52\u001b[0m \u001b[38;5;28;01melse\u001b[39;00m:\n\u001b[0;32m---> 53\u001b[0m     \u001b[38;5;28;01mreturn\u001b[39;00m \u001b[43mth\u001b[49m\u001b[38;5;241;43m.\u001b[39;49m\u001b[43mas_tensor\u001b[49m\u001b[43m(\u001b[49m\u001b[43mdata\u001b[49m\u001b[43m,\u001b[49m\u001b[43m \u001b[49m\u001b[43mdtype\u001b[49m\u001b[38;5;241;43m=\u001b[39;49m\u001b[43mdtype\u001b[49m\u001b[43m)\u001b[49m\n",
      "\u001b[0;31mKeyboardInterrupt\u001b[0m: "
     ]
    }
   ],
   "source": [
    "isNewMerges = True\n",
    "for i in range(30):\n",
    "    if not isNewMerges:\n",
    "        break\n",
    "    print(\"--------- step: \" , i , \"---------\" )\n",
    "    isNewMerges = coarsener.iteration_step()\n",
    "    "
   ]
  },
  {
   "cell_type": "code",
   "execution_count": 5,
   "id": "e6958e6c",
   "metadata": {},
   "outputs": [
    {
     "data": {
      "text/plain": [
       "Graph(num_nodes={'Forschungsgebiete': 71, 'Forschungsgruppen': 2, 'Kooperationen': 8, 'Personen': 164, 'Projekte': 35, 'Publikationen': 1254, '_Literal': 5380},\n",
       "      num_edges={('Forschungsgebiete', 'Forschungsgebiete_ontology#dealtWithIn_Projekte', 'Projekte'): 0, ('Forschungsgebiete', 'Forschungsgebiete_ontology#isWorkedOnBy_Personen', 'Personen'): 53, ('Forschungsgebiete', 'Forschungsgebiete_ontology#name__Literal', '_Literal'): 76, ('Forschungsgebiete', 'Forschungsgebiete_rdftype__Literal', '_Literal'): 0, ('Forschungsgebiete', 'Forschungsgebiete_rev-ontology#isAbout_Projekte', 'Projekte'): 0, ('Forschungsgebiete', 'Forschungsgebiete_rev-ontology#isAbout_Publikationen', 'Publikationen'): 1915, ('Forschungsgruppen', 'Forschungsgruppen_ontology#carriesOut_Projekte', 'Projekte'): 0, ('Forschungsgruppen', 'Forschungsgruppen_ontology#head_Personen', 'Personen'): 0, ('Forschungsgruppen', 'Forschungsgruppen_ontology#homepage__Literal', '_Literal'): 5, ('Forschungsgruppen', 'Forschungsgruppen_ontology#member_Personen', 'Personen'): 8, ('Forschungsgruppen', 'Forschungsgruppen_ontology#name__Literal', '_Literal'): 5, ('Forschungsgruppen', 'Forschungsgruppen_ontology#publishes_Publikationen', 'Publikationen'): 1116, ('Forschungsgruppen', 'Forschungsgruppen_rev-ontology#carriedOutBy_Projekte', 'Projekte'): 0, ('Kooperationen', 'Kooperationen_ontology#finances_Projekte', 'Projekte'): 0, ('Kooperationen', 'Kooperationen_ontology#name__Literal', '_Literal'): 28, ('Kooperationen', 'Kooperationen_rev-ontology#financedBy_Projekte', 'Projekte'): 0, ('Personen', 'Personen_ontology#fax__Literal', '_Literal'): 200, ('Personen', 'Personen_ontology#homepage__Literal', '_Literal'): 78, ('Personen', 'Personen_ontology#name__Literal', '_Literal'): 227, ('Personen', 'Personen_ontology#phone__Literal', '_Literal'): 223, ('Personen', 'Personen_ontology#photo__Literal', '_Literal'): 148, ('Personen', 'Personen_ontology#publication_Publikationen', 'Publikationen'): 2385, ('Personen', 'Personen_ontology#worksAtProject_Projekte', 'Projekte'): 0, ('Personen', 'Personen_rev-ontology#author_Publikationen', 'Publikationen'): 2325, ('Personen', 'Personen_rev-ontology#editor_Publikationen', 'Publikationen'): 78, ('Personen', 'Personen_rev-ontology#head_Forschungsgruppen', 'Forschungsgruppen'): 0, ('Personen', 'Personen_rev-ontology#isWorkedOnBy_Forschungsgebiete', 'Forschungsgebiete'): 97, ('Personen', 'Personen_rev-ontology#member_Forschungsgruppen', 'Forschungsgruppen'): 0, ('Personen', 'Personen_rev-ontology#member_Projekte', 'Projekte'): 0, ('Projekte', 'Projekte_ontology#carriedOutBy_Forschungsgruppen', 'Forschungsgruppen'): 0, ('Projekte', 'Projekte_ontology#financedBy_Kooperationen', 'Kooperationen'): 0, ('Projekte', 'Projekte_ontology#homepage__Literal', '_Literal'): 57, ('Projekte', 'Projekte_ontology#isAbout_Forschungsgebiete', 'Forschungsgebiete'): 65, ('Projekte', 'Projekte_ontology#member_Personen', 'Personen'): 22, ('Projekte', 'Projekte_ontology#name__Literal', '_Literal'): 75, ('Projekte', 'Projekte_ontology#projectInfo_Publikationen', 'Publikationen'): 905, ('Projekte', 'Projekte_rev-ontology#carriesOut_Forschungsgruppen', 'Forschungsgruppen'): 0, ('Projekte', 'Projekte_rev-ontology#dealtWithIn_Forschungsgebiete', 'Forschungsgebiete'): 65, ('Projekte', 'Projekte_rev-ontology#finances_Kooperationen', 'Kooperationen'): 0, ('Projekte', 'Projekte_rev-ontology#hasProject_Publikationen', 'Publikationen'): 905, ('Projekte', 'Projekte_rev-ontology#worksAtProject_Personen', 'Personen'): 20, ('Publikationen', 'Publikationen_ontology#abstract__Literal', '_Literal'): 533, ('Publikationen', 'Publikationen_ontology#address__Literal', '_Literal'): 199, ('Publikationen', 'Publikationen_ontology#author_Personen', 'Personen'): 303, ('Publikationen', 'Publikationen_ontology#author_Publikationen', 'Publikationen'): 1364, ('Publikationen', 'Publikationen_ontology#booktitle__Literal', '_Literal'): 754, ('Publikationen', 'Publikationen_ontology#chapter__Literal', '_Literal'): 15, ('Publikationen', 'Publikationen_ontology#edition__Literal', '_Literal'): 12, ('Publikationen', 'Publikationen_ontology#editor_Personen', 'Personen'): 3, ('Publikationen', 'Publikationen_ontology#editor_Publikationen', 'Publikationen'): 105, ('Publikationen', 'Publikationen_ontology#hasProject_Projekte', 'Projekte'): 0, ('Publikationen', 'Publikationen_ontology#homepage__Literal', '_Literal'): 99, ('Publikationen', 'Publikationen_ontology#howpublished__Literal', '_Literal'): 49, ('Publikationen', 'Publikationen_ontology#isAbout_Forschungsgebiete', 'Forschungsgebiete'): 462, ('Publikationen', 'Publikationen_ontology#isbn__Literal', '_Literal'): 16, ('Publikationen', 'Publikationen_ontology#journal__Literal', '_Literal'): 159, ('Publikationen', 'Publikationen_ontology#month__Literal', '_Literal'): 757, ('Publikationen', 'Publikationen_ontology#name__Literal', '_Literal'): 821, ('Publikationen', 'Publikationen_ontology#note__Literal', '_Literal'): 112, ('Publikationen', 'Publikationen_ontology#number__Literal', '_Literal'): 145, ('Publikationen', 'Publikationen_ontology#pages__Literal', '_Literal'): 545, ('Publikationen', 'Publikationen_ontology#publication_Publikationen', 'Publikationen'): 1454, ('Publikationen', 'Publikationen_ontology#series__Literal', '_Literal'): 294, ('Publikationen', 'Publikationen_ontology#title__Literal', '_Literal'): 1219, ('Publikationen', 'Publikationen_ontology#type__Literal', '_Literal'): 50, ('Publikationen', 'Publikationen_ontology#volume__Literal', '_Literal'): 309, ('Publikationen', 'Publikationen_ontology#year__Literal', '_Literal'): 1217, ('Publikationen', 'Publikationen_rev-ontology#author_Publikationen', 'Publikationen'): 1339, ('Publikationen', 'Publikationen_rev-ontology#editor_Publikationen', 'Publikationen'): 106, ('Publikationen', 'Publikationen_rev-ontology#projectInfo_Projekte', 'Projekte'): 0, ('Publikationen', 'Publikationen_rev-ontology#publication_Personen', 'Personen'): 284, ('Publikationen', 'Publikationen_rev-ontology#publication_Publikationen', 'Publikationen'): 1478, ('Publikationen', 'Publikationen_rev-ontology#publishes_Forschungsgruppen', 'Forschungsgruppen'): 0, ('_Literal', '_Literal_rev-ontology#abstract_Publikationen', 'Publikationen'): 500, ('_Literal', '_Literal_rev-ontology#address_Publikationen', 'Publikationen'): 174, ('_Literal', '_Literal_rev-ontology#booktitle_Publikationen', 'Publikationen'): 703, ('_Literal', '_Literal_rev-ontology#chapter_Publikationen', 'Publikationen'): 15, ('_Literal', '_Literal_rev-ontology#edition_Publikationen', 'Publikationen'): 9, ('_Literal', '_Literal_rev-ontology#fax_Personen', 'Personen'): 81, ('_Literal', '_Literal_rev-ontology#homepage_Forschungsgruppen', 'Forschungsgruppen'): 0, ('_Literal', '_Literal_rev-ontology#homepage_Personen', 'Personen'): 25, ('_Literal', '_Literal_rev-ontology#homepage_Projekte', 'Projekte'): 0, ('_Literal', '_Literal_rev-ontology#homepage_Publikationen', 'Publikationen'): 93, ('_Literal', '_Literal_rev-ontology#howpublished_Publikationen', 'Publikationen'): 46, ('_Literal', '_Literal_rev-ontology#isbn_Publikationen', 'Publikationen'): 13, ('_Literal', '_Literal_rev-ontology#journal_Publikationen', 'Publikationen'): 153, ('_Literal', '_Literal_rev-ontology#month_Publikationen', 'Publikationen'): 681, ('_Literal', '_Literal_rev-ontology#name_Forschungsgebiete', 'Forschungsgebiete'): 25, ('_Literal', '_Literal_rev-ontology#name_Forschungsgruppen', 'Forschungsgruppen'): 0, ('_Literal', '_Literal_rev-ontology#name_Kooperationen', 'Kooperationen'): 0, ('_Literal', '_Literal_rev-ontology#name_Personen', 'Personen'): 81, ('_Literal', '_Literal_rev-ontology#name_Projekte', 'Projekte'): 0, ('_Literal', '_Literal_rev-ontology#name_Publikationen', 'Publikationen'): 773, ('_Literal', '_Literal_rev-ontology#note_Publikationen', 'Publikationen'): 107, ('_Literal', '_Literal_rev-ontology#number_Publikationen', 'Publikationen'): 138, ('_Literal', '_Literal_rev-ontology#pages_Publikationen', 'Publikationen'): 499, ('_Literal', '_Literal_rev-ontology#phone_Personen', 'Personen'): 81, ('_Literal', '_Literal_rev-ontology#photo_Personen', 'Personen'): 46, ('_Literal', '_Literal_rev-ontology#series_Publikationen', 'Publikationen'): 266, ('_Literal', '_Literal_rev-ontology#title_Publikationen', 'Publikationen'): 1133, ('_Literal', '_Literal_rev-ontology#type_Publikationen', 'Publikationen'): 50, ('_Literal', '_Literal_rev-ontology#volume_Publikationen', 'Publikationen'): 288, ('_Literal', '_Literal_rev-ontology#year_Publikationen', 'Publikationen'): 1133, ('_Literal', '_Literal_rev-rdftype_Forschungsgebiete', 'Forschungsgebiete'): 23},\n",
       "      metagraph=[('Forschungsgebiete', 'Projekte', 'Forschungsgebiete_ontology#dealtWithIn_Projekte'), ('Forschungsgebiete', 'Projekte', 'Forschungsgebiete_rev-ontology#isAbout_Projekte'), ('Forschungsgebiete', 'Personen', 'Forschungsgebiete_ontology#isWorkedOnBy_Personen'), ('Forschungsgebiete', '_Literal', 'Forschungsgebiete_ontology#name__Literal'), ('Forschungsgebiete', '_Literal', 'Forschungsgebiete_rdftype__Literal'), ('Forschungsgebiete', 'Publikationen', 'Forschungsgebiete_rev-ontology#isAbout_Publikationen'), ('Projekte', 'Forschungsgruppen', 'Projekte_ontology#carriedOutBy_Forschungsgruppen'), ('Projekte', 'Forschungsgruppen', 'Projekte_rev-ontology#carriesOut_Forschungsgruppen'), ('Projekte', 'Kooperationen', 'Projekte_ontology#financedBy_Kooperationen'), ('Projekte', 'Kooperationen', 'Projekte_rev-ontology#finances_Kooperationen'), ('Projekte', '_Literal', 'Projekte_ontology#homepage__Literal'), ('Projekte', '_Literal', 'Projekte_ontology#name__Literal'), ('Projekte', 'Forschungsgebiete', 'Projekte_ontology#isAbout_Forschungsgebiete'), ('Projekte', 'Forschungsgebiete', 'Projekte_rev-ontology#dealtWithIn_Forschungsgebiete'), ('Projekte', 'Personen', 'Projekte_ontology#member_Personen'), ('Projekte', 'Personen', 'Projekte_rev-ontology#worksAtProject_Personen'), ('Projekte', 'Publikationen', 'Projekte_ontology#projectInfo_Publikationen'), ('Projekte', 'Publikationen', 'Projekte_rev-ontology#hasProject_Publikationen'), ('Personen', '_Literal', 'Personen_ontology#fax__Literal'), ('Personen', '_Literal', 'Personen_ontology#homepage__Literal'), ('Personen', '_Literal', 'Personen_ontology#name__Literal'), ('Personen', '_Literal', 'Personen_ontology#phone__Literal'), ('Personen', '_Literal', 'Personen_ontology#photo__Literal'), ('Personen', 'Publikationen', 'Personen_ontology#publication_Publikationen'), ('Personen', 'Publikationen', 'Personen_rev-ontology#author_Publikationen'), ('Personen', 'Publikationen', 'Personen_rev-ontology#editor_Publikationen'), ('Personen', 'Projekte', 'Personen_ontology#worksAtProject_Projekte'), ('Personen', 'Projekte', 'Personen_rev-ontology#member_Projekte'), ('Personen', 'Forschungsgruppen', 'Personen_rev-ontology#head_Forschungsgruppen'), ('Personen', 'Forschungsgruppen', 'Personen_rev-ontology#member_Forschungsgruppen'), ('Personen', 'Forschungsgebiete', 'Personen_rev-ontology#isWorkedOnBy_Forschungsgebiete'), ('_Literal', 'Publikationen', '_Literal_rev-ontology#abstract_Publikationen'), ('_Literal', 'Publikationen', '_Literal_rev-ontology#address_Publikationen'), ('_Literal', 'Publikationen', '_Literal_rev-ontology#booktitle_Publikationen'), ('_Literal', 'Publikationen', '_Literal_rev-ontology#chapter_Publikationen'), ('_Literal', 'Publikationen', '_Literal_rev-ontology#edition_Publikationen'), ('_Literal', 'Publikationen', '_Literal_rev-ontology#homepage_Publikationen'), ('_Literal', 'Publikationen', '_Literal_rev-ontology#howpublished_Publikationen'), ('_Literal', 'Publikationen', '_Literal_rev-ontology#isbn_Publikationen'), ('_Literal', 'Publikationen', '_Literal_rev-ontology#journal_Publikationen'), ('_Literal', 'Publikationen', '_Literal_rev-ontology#month_Publikationen'), ('_Literal', 'Publikationen', '_Literal_rev-ontology#name_Publikationen'), ('_Literal', 'Publikationen', '_Literal_rev-ontology#note_Publikationen'), ('_Literal', 'Publikationen', '_Literal_rev-ontology#number_Publikationen'), ('_Literal', 'Publikationen', '_Literal_rev-ontology#pages_Publikationen'), ('_Literal', 'Publikationen', '_Literal_rev-ontology#series_Publikationen'), ('_Literal', 'Publikationen', '_Literal_rev-ontology#title_Publikationen'), ('_Literal', 'Publikationen', '_Literal_rev-ontology#type_Publikationen'), ('_Literal', 'Publikationen', '_Literal_rev-ontology#volume_Publikationen'), ('_Literal', 'Publikationen', '_Literal_rev-ontology#year_Publikationen'), ('_Literal', 'Personen', '_Literal_rev-ontology#fax_Personen'), ('_Literal', 'Personen', '_Literal_rev-ontology#homepage_Personen'), ('_Literal', 'Personen', '_Literal_rev-ontology#name_Personen'), ('_Literal', 'Personen', '_Literal_rev-ontology#phone_Personen'), ('_Literal', 'Personen', '_Literal_rev-ontology#photo_Personen'), ('_Literal', 'Forschungsgruppen', '_Literal_rev-ontology#homepage_Forschungsgruppen'), ('_Literal', 'Forschungsgruppen', '_Literal_rev-ontology#name_Forschungsgruppen'), ('_Literal', 'Projekte', '_Literal_rev-ontology#homepage_Projekte'), ('_Literal', 'Projekte', '_Literal_rev-ontology#name_Projekte'), ('_Literal', 'Forschungsgebiete', '_Literal_rev-ontology#name_Forschungsgebiete'), ('_Literal', 'Forschungsgebiete', '_Literal_rev-rdftype_Forschungsgebiete'), ('_Literal', 'Kooperationen', '_Literal_rev-ontology#name_Kooperationen'), ('Publikationen', '_Literal', 'Publikationen_ontology#abstract__Literal'), ('Publikationen', '_Literal', 'Publikationen_ontology#address__Literal'), ('Publikationen', '_Literal', 'Publikationen_ontology#booktitle__Literal'), ('Publikationen', '_Literal', 'Publikationen_ontology#chapter__Literal'), ('Publikationen', '_Literal', 'Publikationen_ontology#edition__Literal'), ('Publikationen', '_Literal', 'Publikationen_ontology#homepage__Literal'), ('Publikationen', '_Literal', 'Publikationen_ontology#howpublished__Literal'), ('Publikationen', '_Literal', 'Publikationen_ontology#isbn__Literal'), ('Publikationen', '_Literal', 'Publikationen_ontology#journal__Literal'), ('Publikationen', '_Literal', 'Publikationen_ontology#month__Literal'), ('Publikationen', '_Literal', 'Publikationen_ontology#name__Literal'), ('Publikationen', '_Literal', 'Publikationen_ontology#note__Literal'), ('Publikationen', '_Literal', 'Publikationen_ontology#number__Literal'), ('Publikationen', '_Literal', 'Publikationen_ontology#pages__Literal'), ('Publikationen', '_Literal', 'Publikationen_ontology#series__Literal'), ('Publikationen', '_Literal', 'Publikationen_ontology#title__Literal'), ('Publikationen', '_Literal', 'Publikationen_ontology#type__Literal'), ('Publikationen', '_Literal', 'Publikationen_ontology#volume__Literal'), ('Publikationen', '_Literal', 'Publikationen_ontology#year__Literal'), ('Publikationen', 'Personen', 'Publikationen_ontology#author_Personen'), ('Publikationen', 'Personen', 'Publikationen_ontology#editor_Personen'), ('Publikationen', 'Personen', 'Publikationen_rev-ontology#publication_Personen'), ('Publikationen', 'Publikationen', 'Publikationen_ontology#author_Publikationen'), ('Publikationen', 'Publikationen', 'Publikationen_ontology#editor_Publikationen'), ('Publikationen', 'Publikationen', 'Publikationen_ontology#publication_Publikationen'), ('Publikationen', 'Publikationen', 'Publikationen_rev-ontology#author_Publikationen'), ('Publikationen', 'Publikationen', 'Publikationen_rev-ontology#editor_Publikationen'), ('Publikationen', 'Publikationen', 'Publikationen_rev-ontology#publication_Publikationen'), ('Publikationen', 'Projekte', 'Publikationen_ontology#hasProject_Projekte'), ('Publikationen', 'Projekte', 'Publikationen_rev-ontology#projectInfo_Projekte'), ('Publikationen', 'Forschungsgebiete', 'Publikationen_ontology#isAbout_Forschungsgebiete'), ('Publikationen', 'Forschungsgruppen', 'Publikationen_rev-ontology#publishes_Forschungsgruppen'), ('Forschungsgruppen', 'Projekte', 'Forschungsgruppen_ontology#carriesOut_Projekte'), ('Forschungsgruppen', 'Projekte', 'Forschungsgruppen_rev-ontology#carriedOutBy_Projekte'), ('Forschungsgruppen', 'Personen', 'Forschungsgruppen_ontology#head_Personen'), ('Forschungsgruppen', 'Personen', 'Forschungsgruppen_ontology#member_Personen'), ('Forschungsgruppen', '_Literal', 'Forschungsgruppen_ontology#homepage__Literal'), ('Forschungsgruppen', '_Literal', 'Forschungsgruppen_ontology#name__Literal'), ('Forschungsgruppen', 'Publikationen', 'Forschungsgruppen_ontology#publishes_Publikationen'), ('Kooperationen', 'Projekte', 'Kooperationen_ontology#finances_Projekte'), ('Kooperationen', 'Projekte', 'Kooperationen_rev-ontology#financedBy_Projekte'), ('Kooperationen', '_Literal', 'Kooperationen_ontology#name__Literal')])"
      ]
     },
     "execution_count": 5,
     "metadata": {},
     "output_type": "execute_result"
    }
   ],
   "source": [
    "merge_graph"
   ]
  },
  {
   "cell_type": "code",
   "execution_count": 4,
   "id": "7baeed86",
   "metadata": {},
   "outputs": [
    {
     "data": {
      "text/plain": [
       "Graph(num_nodes={'Forschungsgebiete': 146, 'Forschungsgruppen': 5, 'Kooperationen': 28, 'Personen': 237, 'Projekte': 78, 'Publikationen': 1318, '_Literal': 5450},\n",
       "      num_edges={('Forschungsgebiete', 'Forschungsgebiete_ontology#dealtWithIn_Projekte', 'Projekte'): 357, ('Forschungsgebiete', 'Forschungsgebiete_ontology#isWorkedOnBy_Personen', 'Personen'): 571, ('Forschungsgebiete', 'Forschungsgebiete_ontology#name__Literal', '_Literal'): 146, ('Forschungsgebiete', 'Forschungsgebiete_rdftype__Literal', '_Literal'): 129, ('Forschungsgebiete', 'Forschungsgebiete_rev-ontology#isAbout_Projekte', 'Projekte'): 357, ('Forschungsgebiete', 'Forschungsgebiete_rev-ontology#isAbout_Publikationen', 'Publikationen'): 2120, ('Forschungsgruppen', 'Forschungsgruppen_ontology#carriesOut_Projekte', 'Projekte'): 79, ('Forschungsgruppen', 'Forschungsgruppen_ontology#head_Personen', 'Personen'): 5, ('Forschungsgruppen', 'Forschungsgruppen_ontology#homepage__Literal', '_Literal'): 5, ('Forschungsgruppen', 'Forschungsgruppen_ontology#member_Personen', 'Personen'): 74, ('Forschungsgruppen', 'Forschungsgruppen_ontology#name__Literal', '_Literal'): 5, ('Forschungsgruppen', 'Forschungsgruppen_ontology#publishes_Publikationen', 'Publikationen'): 1217, ('Forschungsgruppen', 'Forschungsgruppen_rev-ontology#carriedOutBy_Projekte', 'Projekte'): 79, ('Kooperationen', 'Kooperationen_ontology#finances_Projekte', 'Projekte'): 68, ('Kooperationen', 'Kooperationen_ontology#name__Literal', '_Literal'): 28, ('Kooperationen', 'Kooperationen_rev-ontology#financedBy_Projekte', 'Projekte'): 65, ('Personen', 'Personen_ontology#fax__Literal', '_Literal'): 227, ('Personen', 'Personen_ontology#homepage__Literal', '_Literal'): 78, ('Personen', 'Personen_ontology#name__Literal', '_Literal'): 227, ('Personen', 'Personen_ontology#phone__Literal', '_Literal'): 227, ('Personen', 'Personen_ontology#photo__Literal', '_Literal'): 148, ('Personen', 'Personen_ontology#publication_Publikationen', 'Publikationen'): 2609, ('Personen', 'Personen_ontology#worksAtProject_Projekte', 'Projekte'): 200, ('Personen', 'Personen_rev-ontology#author_Publikationen', 'Publikationen'): 2550, ('Personen', 'Personen_rev-ontology#editor_Publikationen', 'Publikationen'): 81, ('Personen', 'Personen_rev-ontology#head_Forschungsgruppen', 'Forschungsgruppen'): 5, ('Personen', 'Personen_rev-ontology#isWorkedOnBy_Forschungsgebiete', 'Forschungsgebiete'): 571, ('Personen', 'Personen_rev-ontology#member_Forschungsgruppen', 'Forschungsgruppen'): 74, ('Personen', 'Personen_rev-ontology#member_Projekte', 'Projekte'): 265, ('Projekte', 'Projekte_ontology#carriedOutBy_Forschungsgruppen', 'Forschungsgruppen'): 79, ('Projekte', 'Projekte_ontology#financedBy_Kooperationen', 'Kooperationen'): 65, ('Projekte', 'Projekte_ontology#homepage__Literal', '_Literal'): 57, ('Projekte', 'Projekte_ontology#isAbout_Forschungsgebiete', 'Forschungsgebiete'): 357, ('Projekte', 'Projekte_ontology#member_Personen', 'Personen'): 265, ('Projekte', 'Projekte_ontology#name__Literal', '_Literal'): 75, ('Projekte', 'Projekte_ontology#projectInfo_Publikationen', 'Publikationen'): 952, ('Projekte', 'Projekte_rev-ontology#carriesOut_Forschungsgruppen', 'Forschungsgruppen'): 79, ('Projekte', 'Projekte_rev-ontology#dealtWithIn_Forschungsgebiete', 'Forschungsgebiete'): 357, ('Projekte', 'Projekte_rev-ontology#finances_Kooperationen', 'Kooperationen'): 68, ('Projekte', 'Projekte_rev-ontology#hasProject_Publikationen', 'Publikationen'): 952, ('Projekte', 'Projekte_rev-ontology#worksAtProject_Personen', 'Personen'): 200, ('Publikationen', 'Publikationen_ontology#abstract__Literal', '_Literal'): 534, ('Publikationen', 'Publikationen_ontology#address__Literal', '_Literal'): 202, ('Publikationen', 'Publikationen_ontology#author_Personen', 'Personen'): 2550, ('Publikationen', 'Publikationen_ontology#author_Publikationen', 'Publikationen'): 1436, ('Publikationen', 'Publikationen_ontology#booktitle__Literal', '_Literal'): 765, ('Publikationen', 'Publikationen_ontology#chapter__Literal', '_Literal'): 15, ('Publikationen', 'Publikationen_ontology#edition__Literal', '_Literal'): 12, ('Publikationen', 'Publikationen_ontology#editor_Personen', 'Personen'): 81, ('Publikationen', 'Publikationen_ontology#editor_Publikationen', 'Publikationen'): 109, ('Publikationen', 'Publikationen_ontology#hasProject_Projekte', 'Projekte'): 952, ('Publikationen', 'Publikationen_ontology#homepage__Literal', '_Literal'): 99, ('Publikationen', 'Publikationen_ontology#howpublished__Literal', '_Literal'): 49, ('Publikationen', 'Publikationen_ontology#isAbout_Forschungsgebiete', 'Forschungsgebiete'): 2120, ('Publikationen', 'Publikationen_ontology#isbn__Literal', '_Literal'): 16, ('Publikationen', 'Publikationen_ontology#journal__Literal', '_Literal'): 161, ('Publikationen', 'Publikationen_ontology#month__Literal', '_Literal'): 759, ('Publikationen', 'Publikationen_ontology#name__Literal', '_Literal'): 821, ('Publikationen', 'Publikationen_ontology#note__Literal', '_Literal'): 114, ('Publikationen', 'Publikationen_ontology#number__Literal', '_Literal'): 145, ('Publikationen', 'Publikationen_ontology#pages__Literal', '_Literal'): 548, ('Publikationen', 'Publikationen_ontology#publication_Publikationen', 'Publikationen'): 1554, ('Publikationen', 'Publikationen_ontology#series__Literal', '_Literal'): 298, ('Publikationen', 'Publikationen_ontology#title__Literal', '_Literal'): 1227, ('Publikationen', 'Publikationen_ontology#type__Literal', '_Literal'): 50, ('Publikationen', 'Publikationen_ontology#volume__Literal', '_Literal'): 311, ('Publikationen', 'Publikationen_ontology#year__Literal', '_Literal'): 1227, ('Publikationen', 'Publikationen_rev-ontology#author_Publikationen', 'Publikationen'): 1436, ('Publikationen', 'Publikationen_rev-ontology#editor_Publikationen', 'Publikationen'): 109, ('Publikationen', 'Publikationen_rev-ontology#projectInfo_Projekte', 'Projekte'): 952, ('Publikationen', 'Publikationen_rev-ontology#publication_Personen', 'Personen'): 2609, ('Publikationen', 'Publikationen_rev-ontology#publication_Publikationen', 'Publikationen'): 1554, ('Publikationen', 'Publikationen_rev-ontology#publishes_Forschungsgruppen', 'Forschungsgruppen'): 1217, ('_Literal', '_Literal_rev-ontology#abstract_Publikationen', 'Publikationen'): 534, ('_Literal', '_Literal_rev-ontology#address_Publikationen', 'Publikationen'): 202, ('_Literal', '_Literal_rev-ontology#booktitle_Publikationen', 'Publikationen'): 765, ('_Literal', '_Literal_rev-ontology#chapter_Publikationen', 'Publikationen'): 15, ('_Literal', '_Literal_rev-ontology#edition_Publikationen', 'Publikationen'): 12, ('_Literal', '_Literal_rev-ontology#fax_Personen', 'Personen'): 227, ('_Literal', '_Literal_rev-ontology#homepage_Forschungsgruppen', 'Forschungsgruppen'): 5, ('_Literal', '_Literal_rev-ontology#homepage_Personen', 'Personen'): 78, ('_Literal', '_Literal_rev-ontology#homepage_Projekte', 'Projekte'): 57, ('_Literal', '_Literal_rev-ontology#homepage_Publikationen', 'Publikationen'): 99, ('_Literal', '_Literal_rev-ontology#howpublished_Publikationen', 'Publikationen'): 49, ('_Literal', '_Literal_rev-ontology#isbn_Publikationen', 'Publikationen'): 16, ('_Literal', '_Literal_rev-ontology#journal_Publikationen', 'Publikationen'): 161, ('_Literal', '_Literal_rev-ontology#month_Publikationen', 'Publikationen'): 759, ('_Literal', '_Literal_rev-ontology#name_Forschungsgebiete', 'Forschungsgebiete'): 146, ('_Literal', '_Literal_rev-ontology#name_Forschungsgruppen', 'Forschungsgruppen'): 5, ('_Literal', '_Literal_rev-ontology#name_Kooperationen', 'Kooperationen'): 28, ('_Literal', '_Literal_rev-ontology#name_Personen', 'Personen'): 227, ('_Literal', '_Literal_rev-ontology#name_Projekte', 'Projekte'): 75, ('_Literal', '_Literal_rev-ontology#name_Publikationen', 'Publikationen'): 821, ('_Literal', '_Literal_rev-ontology#note_Publikationen', 'Publikationen'): 114, ('_Literal', '_Literal_rev-ontology#number_Publikationen', 'Publikationen'): 145, ('_Literal', '_Literal_rev-ontology#pages_Publikationen', 'Publikationen'): 548, ('_Literal', '_Literal_rev-ontology#phone_Personen', 'Personen'): 227, ('_Literal', '_Literal_rev-ontology#photo_Personen', 'Personen'): 148, ('_Literal', '_Literal_rev-ontology#series_Publikationen', 'Publikationen'): 298, ('_Literal', '_Literal_rev-ontology#title_Publikationen', 'Publikationen'): 1227, ('_Literal', '_Literal_rev-ontology#type_Publikationen', 'Publikationen'): 50, ('_Literal', '_Literal_rev-ontology#volume_Publikationen', 'Publikationen'): 311, ('_Literal', '_Literal_rev-ontology#year_Publikationen', 'Publikationen'): 1227, ('_Literal', '_Literal_rev-rdftype_Forschungsgebiete', 'Forschungsgebiete'): 129},\n",
       "      metagraph=[('Forschungsgebiete', 'Projekte', 'Forschungsgebiete_ontology#dealtWithIn_Projekte'), ('Forschungsgebiete', 'Projekte', 'Forschungsgebiete_rev-ontology#isAbout_Projekte'), ('Forschungsgebiete', 'Personen', 'Forschungsgebiete_ontology#isWorkedOnBy_Personen'), ('Forschungsgebiete', '_Literal', 'Forschungsgebiete_ontology#name__Literal'), ('Forschungsgebiete', '_Literal', 'Forschungsgebiete_rdftype__Literal'), ('Forschungsgebiete', 'Publikationen', 'Forschungsgebiete_rev-ontology#isAbout_Publikationen'), ('Projekte', 'Forschungsgruppen', 'Projekte_ontology#carriedOutBy_Forschungsgruppen'), ('Projekte', 'Forschungsgruppen', 'Projekte_rev-ontology#carriesOut_Forschungsgruppen'), ('Projekte', 'Kooperationen', 'Projekte_ontology#financedBy_Kooperationen'), ('Projekte', 'Kooperationen', 'Projekte_rev-ontology#finances_Kooperationen'), ('Projekte', '_Literal', 'Projekte_ontology#homepage__Literal'), ('Projekte', '_Literal', 'Projekte_ontology#name__Literal'), ('Projekte', 'Forschungsgebiete', 'Projekte_ontology#isAbout_Forschungsgebiete'), ('Projekte', 'Forschungsgebiete', 'Projekte_rev-ontology#dealtWithIn_Forschungsgebiete'), ('Projekte', 'Personen', 'Projekte_ontology#member_Personen'), ('Projekte', 'Personen', 'Projekte_rev-ontology#worksAtProject_Personen'), ('Projekte', 'Publikationen', 'Projekte_ontology#projectInfo_Publikationen'), ('Projekte', 'Publikationen', 'Projekte_rev-ontology#hasProject_Publikationen'), ('Personen', '_Literal', 'Personen_ontology#fax__Literal'), ('Personen', '_Literal', 'Personen_ontology#homepage__Literal'), ('Personen', '_Literal', 'Personen_ontology#name__Literal'), ('Personen', '_Literal', 'Personen_ontology#phone__Literal'), ('Personen', '_Literal', 'Personen_ontology#photo__Literal'), ('Personen', 'Publikationen', 'Personen_ontology#publication_Publikationen'), ('Personen', 'Publikationen', 'Personen_rev-ontology#author_Publikationen'), ('Personen', 'Publikationen', 'Personen_rev-ontology#editor_Publikationen'), ('Personen', 'Projekte', 'Personen_ontology#worksAtProject_Projekte'), ('Personen', 'Projekte', 'Personen_rev-ontology#member_Projekte'), ('Personen', 'Forschungsgruppen', 'Personen_rev-ontology#head_Forschungsgruppen'), ('Personen', 'Forschungsgruppen', 'Personen_rev-ontology#member_Forschungsgruppen'), ('Personen', 'Forschungsgebiete', 'Personen_rev-ontology#isWorkedOnBy_Forschungsgebiete'), ('_Literal', 'Publikationen', '_Literal_rev-ontology#abstract_Publikationen'), ('_Literal', 'Publikationen', '_Literal_rev-ontology#address_Publikationen'), ('_Literal', 'Publikationen', '_Literal_rev-ontology#booktitle_Publikationen'), ('_Literal', 'Publikationen', '_Literal_rev-ontology#chapter_Publikationen'), ('_Literal', 'Publikationen', '_Literal_rev-ontology#edition_Publikationen'), ('_Literal', 'Publikationen', '_Literal_rev-ontology#homepage_Publikationen'), ('_Literal', 'Publikationen', '_Literal_rev-ontology#howpublished_Publikationen'), ('_Literal', 'Publikationen', '_Literal_rev-ontology#isbn_Publikationen'), ('_Literal', 'Publikationen', '_Literal_rev-ontology#journal_Publikationen'), ('_Literal', 'Publikationen', '_Literal_rev-ontology#month_Publikationen'), ('_Literal', 'Publikationen', '_Literal_rev-ontology#name_Publikationen'), ('_Literal', 'Publikationen', '_Literal_rev-ontology#note_Publikationen'), ('_Literal', 'Publikationen', '_Literal_rev-ontology#number_Publikationen'), ('_Literal', 'Publikationen', '_Literal_rev-ontology#pages_Publikationen'), ('_Literal', 'Publikationen', '_Literal_rev-ontology#series_Publikationen'), ('_Literal', 'Publikationen', '_Literal_rev-ontology#title_Publikationen'), ('_Literal', 'Publikationen', '_Literal_rev-ontology#type_Publikationen'), ('_Literal', 'Publikationen', '_Literal_rev-ontology#volume_Publikationen'), ('_Literal', 'Publikationen', '_Literal_rev-ontology#year_Publikationen'), ('_Literal', 'Personen', '_Literal_rev-ontology#fax_Personen'), ('_Literal', 'Personen', '_Literal_rev-ontology#homepage_Personen'), ('_Literal', 'Personen', '_Literal_rev-ontology#name_Personen'), ('_Literal', 'Personen', '_Literal_rev-ontology#phone_Personen'), ('_Literal', 'Personen', '_Literal_rev-ontology#photo_Personen'), ('_Literal', 'Forschungsgruppen', '_Literal_rev-ontology#homepage_Forschungsgruppen'), ('_Literal', 'Forschungsgruppen', '_Literal_rev-ontology#name_Forschungsgruppen'), ('_Literal', 'Projekte', '_Literal_rev-ontology#homepage_Projekte'), ('_Literal', 'Projekte', '_Literal_rev-ontology#name_Projekte'), ('_Literal', 'Forschungsgebiete', '_Literal_rev-ontology#name_Forschungsgebiete'), ('_Literal', 'Forschungsgebiete', '_Literal_rev-rdftype_Forschungsgebiete'), ('_Literal', 'Kooperationen', '_Literal_rev-ontology#name_Kooperationen'), ('Publikationen', '_Literal', 'Publikationen_ontology#abstract__Literal'), ('Publikationen', '_Literal', 'Publikationen_ontology#address__Literal'), ('Publikationen', '_Literal', 'Publikationen_ontology#booktitle__Literal'), ('Publikationen', '_Literal', 'Publikationen_ontology#chapter__Literal'), ('Publikationen', '_Literal', 'Publikationen_ontology#edition__Literal'), ('Publikationen', '_Literal', 'Publikationen_ontology#homepage__Literal'), ('Publikationen', '_Literal', 'Publikationen_ontology#howpublished__Literal'), ('Publikationen', '_Literal', 'Publikationen_ontology#isbn__Literal'), ('Publikationen', '_Literal', 'Publikationen_ontology#journal__Literal'), ('Publikationen', '_Literal', 'Publikationen_ontology#month__Literal'), ('Publikationen', '_Literal', 'Publikationen_ontology#name__Literal'), ('Publikationen', '_Literal', 'Publikationen_ontology#note__Literal'), ('Publikationen', '_Literal', 'Publikationen_ontology#number__Literal'), ('Publikationen', '_Literal', 'Publikationen_ontology#pages__Literal'), ('Publikationen', '_Literal', 'Publikationen_ontology#series__Literal'), ('Publikationen', '_Literal', 'Publikationen_ontology#title__Literal'), ('Publikationen', '_Literal', 'Publikationen_ontology#type__Literal'), ('Publikationen', '_Literal', 'Publikationen_ontology#volume__Literal'), ('Publikationen', '_Literal', 'Publikationen_ontology#year__Literal'), ('Publikationen', 'Personen', 'Publikationen_ontology#author_Personen'), ('Publikationen', 'Personen', 'Publikationen_ontology#editor_Personen'), ('Publikationen', 'Personen', 'Publikationen_rev-ontology#publication_Personen'), ('Publikationen', 'Publikationen', 'Publikationen_ontology#author_Publikationen'), ('Publikationen', 'Publikationen', 'Publikationen_ontology#editor_Publikationen'), ('Publikationen', 'Publikationen', 'Publikationen_ontology#publication_Publikationen'), ('Publikationen', 'Publikationen', 'Publikationen_rev-ontology#author_Publikationen'), ('Publikationen', 'Publikationen', 'Publikationen_rev-ontology#editor_Publikationen'), ('Publikationen', 'Publikationen', 'Publikationen_rev-ontology#publication_Publikationen'), ('Publikationen', 'Projekte', 'Publikationen_ontology#hasProject_Projekte'), ('Publikationen', 'Projekte', 'Publikationen_rev-ontology#projectInfo_Projekte'), ('Publikationen', 'Forschungsgebiete', 'Publikationen_ontology#isAbout_Forschungsgebiete'), ('Publikationen', 'Forschungsgruppen', 'Publikationen_rev-ontology#publishes_Forschungsgruppen'), ('Forschungsgruppen', 'Projekte', 'Forschungsgruppen_ontology#carriesOut_Projekte'), ('Forschungsgruppen', 'Projekte', 'Forschungsgruppen_rev-ontology#carriedOutBy_Projekte'), ('Forschungsgruppen', 'Personen', 'Forschungsgruppen_ontology#head_Personen'), ('Forschungsgruppen', 'Personen', 'Forschungsgruppen_ontology#member_Personen'), ('Forschungsgruppen', '_Literal', 'Forschungsgruppen_ontology#homepage__Literal'), ('Forschungsgruppen', '_Literal', 'Forschungsgruppen_ontology#name__Literal'), ('Forschungsgruppen', 'Publikationen', 'Forschungsgruppen_ontology#publishes_Publikationen'), ('Kooperationen', 'Projekte', 'Kooperationen_ontology#finances_Projekte'), ('Kooperationen', 'Projekte', 'Kooperationen_rev-ontology#financedBy_Projekte'), ('Kooperationen', '_Literal', 'Kooperationen_ontology#name__Literal')])"
      ]
     },
     "execution_count": 4,
     "metadata": {},
     "output_type": "execute_result"
    }
   ],
   "source": [
    "new_g"
   ]
  },
  {
   "cell_type": "code",
   "execution_count": 6,
   "id": "1f40516b",
   "metadata": {},
   "outputs": [
    {
     "name": "stdout",
     "output_type": "stream",
     "text": [
      "Done loading data from cached files.\n",
      "Node types: ['Forschungsgebiete', 'Forschungsgruppen', 'Kooperationen', 'Personen', 'Projekte', 'Publikationen', '_Literal']\n",
      "Label node type: Personen\n",
      "Epoch 000 | Loss: 3.1304 | Train Acc: 0.1515\n",
      "Epoch 010 | Loss: 0.0035 | Train Acc: 1.0000\n",
      "Epoch 020 | Loss: 0.0009 | Train Acc: 1.0000\n",
      "Epoch 030 | Loss: 0.0004 | Train Acc: 1.0000\n",
      "Epoch 040 | Loss: 0.0002 | Train Acc: 1.0000\n",
      "\n",
      "✅ Test Accuracy on 'Personen' nodes: 0.7692\n"
     ]
    }
   ],
   "source": [
    "import dgl\n",
    "import torch\n",
    "import torch.nn as nn\n",
    "import torch.nn.functional as F\n",
    "from dgl.data.rdf import AIFBDataset\n",
    "from Models.GNNs.HGCN import RGCN\n",
    "\n",
    "from sklearn.metrics import accuracy_score\n",
    "\n",
    "# Load AIFB dataset\n",
    "dataset = AIFBDataset()\n",
    "g = merge_graph #dataset[0]\n",
    "\n",
    "# Check node types and label node type\n",
    "print(\"Node types:\", g.ntypes)\n",
    "print(\"Label node type:\", dataset.predict_category)  # should be 'Personen'\n",
    "#g = merged_graph\n",
    "label_ntype = dataset.predict_category  # 'Personen'\n",
    "labels = g.nodes[label_ntype].data['labels']\n",
    "train_mask = g.nodes[label_ntype].data['train_mask'].bool()\n",
    "num_classes = dataset.num_classes\n",
    "test_mask = g.nodes[label_ntype].data['test_mask'].to(torch.bool)\n",
    "# Define embedding size\n",
    "embed_size = 16\n",
    "#g = merged_graph\n",
    "# Create trainable input embeddings for all node types\n",
    "node_embeds = nn.ModuleDict({\n",
    "    ntype: nn.Embedding(g.num_nodes(ntype), embed_size)\n",
    "    for ntype in g.ntypes\n",
    "})\n",
    "\n",
    "# Instantiate model\n",
    "model = RGCN(in_feats=embed_size, hidden_feats=32, out_feats=num_classes, etypes=g.etypes)\n",
    "\n",
    "# Move to device if available\n",
    "device = torch.device('cuda' if torch.cuda.is_available() else 'cpu')\n",
    "model = model.to(device)\n",
    "node_embeds = node_embeds.to(device)\n",
    "labels = labels.to(device)\n",
    "train_mask = train_mask.to(device)\n",
    "g = g.to(device)\n",
    "\n",
    "# Optimizer\n",
    "optimizer = torch.optim.Adam(list(model.parameters()) + list(node_embeds.parameters()), lr=0.01)\n",
    "\n",
    "# Training loop\n",
    "for epoch in range(50):\n",
    "    model.train()\n",
    "    \n",
    "    inputs = {ntype: node_embeds[ntype].weight for ntype in g.ntypes}\n",
    "    logits = model(g, inputs)[label_ntype]\n",
    "    \n",
    "    loss = F.cross_entropy(logits[train_mask], labels[train_mask])\n",
    "\n",
    "    optimizer.zero_grad()\n",
    "    loss.backward()\n",
    "    optimizer.step()\n",
    "\n",
    "    pred = logits.argmax(dim=1)\n",
    "    acc = accuracy_score(labels[train_mask].cpu(), pred[train_mask].cpu())\n",
    "    if epoch % 10 == 0:\n",
    "        # Print training loss and accuracy every 10 epochs\n",
    "        print(f\"Epoch {epoch:03d} | Loss: {loss.item():.4f} | Train Acc: {acc:.4f}\")\n",
    "\n",
    "test_mask = g.nodes[label_ntype].data['test_mask'].to(torch.bool)\n",
    "\n",
    "# Evaluate\n",
    "model.eval()\n",
    "with torch.no_grad():\n",
    "    inputs = {ntype: node_embeds[ntype].weight for ntype in g.ntypes}\n",
    "    logits = model(g, inputs)[label_ntype]\n",
    "    pred = logits.argmax(dim=1)\n",
    "\n",
    "    test_acc = accuracy_score(labels[test_mask].cpu(), pred[test_mask].cpu())\n",
    "    print(f\"\\n✅ Test Accuracy on '{label_ntype}' nodes: {test_acc:.4f}\")\n",
    "\n"
   ]
  },
  {
   "cell_type": "code",
   "execution_count": 7,
   "id": "be21e6e3",
   "metadata": {},
   "outputs": [
    {
     "name": "stdout",
     "output_type": "stream",
     "text": [
      "\n",
      "✅ Test Accuracy on 'Personen' nodes: 0.8889\n"
     ]
    }
   ],
   "source": [
    "test_mask = g.nodes[label_ntype].data['test_mask'].to(torch.bool)\n",
    "\n",
    "# Evaluate\n",
    "model.eval()\n",
    "with torch.no_grad():\n",
    "    inputs = {ntype: node_embeds[ntype].weight for ntype in g.ntypes}\n",
    "    logits = model(g, inputs)[label_ntype]\n",
    "    pred = logits.argmax(dim=1)\n",
    "\n",
    "    test_acc = accuracy_score(labels[test_mask].cpu(), pred[test_mask].cpu())\n",
    "    print(f\"\\n✅ Test Accuracy on '{label_ntype}' nodes: {test_acc:.4f}\")\n"
   ]
  }
 ],
 "metadata": {
  "kernelspec": {
   "display_name": ".venv",
   "language": "python",
   "name": "python3"
  },
  "language_info": {
   "codemirror_mode": {
    "name": "ipython",
    "version": 3
   },
   "file_extension": ".py",
   "mimetype": "text/x-python",
   "name": "python",
   "nbconvert_exporter": "python",
   "pygments_lexer": "ipython3",
   "version": "3.10.16"
  }
 },
 "nbformat": 4,
 "nbformat_minor": 5
}
