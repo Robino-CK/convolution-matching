{
 "cells": [
  {
   "cell_type": "code",
   "execution_count": 5,
   "metadata": {},
   "outputs": [],
   "source": [
    "from GraphSummarizers.Coarsener.HeteroCoarsener import HeteroCoarsener\n",
    "from Datasets.NodeClassification.DBLP import DBLP\n",
    "from Datasets.NodeClassification.AIFB import AIFB\n",
    "from Datasets.NodeClassification.TestHetero import TestHeteroSmall, TestHeteroBig\n",
    "import importlib\n",
    "import torch\n",
    "from test_data_converter import dgl_to_pyg_input"
   ]
  },
  {
   "cell_type": "code",
   "execution_count": 6,
   "metadata": {},
   "outputs": [],
   "source": [
    "\n",
    "dataset = DBLP() \n",
    "original_graph = dataset.load_graph()\n",
    "\n",
    "\n",
    "test = TestHeteroSmall().load_graph()\n",
    "\n",
    "test = TestHeteroBig().load_graph()\n",
    "\n",
    "coarsener = HeteroCoarsener(dataset, original_graph, 0.5)\n",
    "\n"
   ]
  },
  {
   "cell_type": "code",
   "execution_count": 8,
   "metadata": {},
   "outputs": [
    {
     "name": "stdout",
     "output_type": "stream",
     "text": [
      "start create H\n"
     ]
    },
    {
     "name": "stderr",
     "output_type": "stream",
     "text": [
      "/home/robin/uu/thesis/convolution-matching/GraphSummarizers/Coarsener/HeteroCoarsener.py:164: UserWarning: To copy construct from a tensor, it is recommended to use sourceTensor.clone().detach() or sourceTensor.clone().detach().requires_grad_(True), rather than torch.tensor(sourceTensor).\n",
      "  degree = self.node_degrees[etype][\"out\"] + 1\n",
      "/home/robin/uu/thesis/convolution-matching/GraphSummarizers/Coarsener/HeteroCoarsener.py:169: UserWarning: To copy construct from a tensor, it is recommended to use sourceTensor.clone().detach() or sourceTensor.clone().detach().requires_grad_(True), rather than torch.tensor(sourceTensor).\n",
      "  degree = self.node_degrees[etype][\"in\"] + 1\n"
     ]
    },
    {
     "name": "stdout",
     "output_type": "stream",
     "text": [
      "created H 12.225497245788574\n",
      "start init costs\n",
      "stop init costs 5.091659784317017\n",
      "stop lowest cost edges 4.664041757583618\n"
     ]
    },
    {
     "name": "stderr",
     "output_type": "stream",
     "text": [
      "calculate H_coarsen:   0%|          | 0/154 [00:00<?, ?it/s]/home/robin/uu/thesis/convolution-matching/GraphSummarizers/Coarsener/HeteroCoarsener.py:124: UserWarning: To copy construct from a tensor, it is recommended to use sourceTensor.clone().detach() or sourceTensor.clone().detach().requires_grad_(True), rather than torch.tensor(sourceTensor).\n",
      "  h = ((torch.sqrt(torch.tensor(d_u)) * s_u) + (torch.sqrt(torch.tensor(d_v)) * s_v)) / (torch.sqrt(torch.tensor(d_u_v)))\n",
      "calculate H_coarsen: 100%|██████████| 154/154 [00:18<00:00,  8.45it/s]\n",
      "calculate H_coarsen: 100%|██████████| 10/10 [00:00<00:00, 10.52it/s]\n",
      "calculate H_coarsen: 100%|██████████| 40/40 [00:08<00:00,  4.63it/s]\n",
      "calculate H_coarsen: 100%|██████████| 151/151 [00:20<00:00,  7.22it/s]\n"
     ]
    },
    {
     "name": "stdout",
     "output_type": "stream",
     "text": [
      "costs of merges 48.72957801818848\n",
      "start create H\n"
     ]
    },
    {
     "name": "stderr",
     "output_type": "stream",
     "text": [
      "/home/robin/uu/thesis/convolution-matching/GraphSummarizers/Coarsener/HeteroCoarsener.py:164: UserWarning: To copy construct from a tensor, it is recommended to use sourceTensor.clone().detach() or sourceTensor.clone().detach().requires_grad_(True), rather than torch.tensor(sourceTensor).\n",
      "  degree = self.node_degrees[etype][\"out\"] + 1\n",
      "/home/robin/uu/thesis/convolution-matching/GraphSummarizers/Coarsener/HeteroCoarsener.py:169: UserWarning: To copy construct from a tensor, it is recommended to use sourceTensor.clone().detach() or sourceTensor.clone().detach().requires_grad_(True), rather than torch.tensor(sourceTensor).\n",
      "  degree = self.node_degrees[etype][\"in\"] + 1\n"
     ]
    },
    {
     "name": "stdout",
     "output_type": "stream",
     "text": [
      "created H 9.996407747268677\n",
      "start init costs\n",
      "stop init costs 8.145232677459717\n",
      "stop lowest cost edges 4.718400478363037\n"
     ]
    },
    {
     "name": "stderr",
     "output_type": "stream",
     "text": [
      "calculate H_coarsen:   0%|          | 0/125 [00:00<?, ?it/s]/home/robin/uu/thesis/convolution-matching/GraphSummarizers/Coarsener/HeteroCoarsener.py:124: UserWarning: To copy construct from a tensor, it is recommended to use sourceTensor.clone().detach() or sourceTensor.clone().detach().requires_grad_(True), rather than torch.tensor(sourceTensor).\n",
      "  h = ((torch.sqrt(torch.tensor(d_u)) * s_u) + (torch.sqrt(torch.tensor(d_v)) * s_v)) / (torch.sqrt(torch.tensor(d_u_v)))\n",
      "calculate H_coarsen: 100%|██████████| 125/125 [00:16<00:00,  7.81it/s]\n",
      "calculate H_coarsen: 100%|██████████| 5/5 [00:00<00:00,  9.22it/s]\n",
      "calculate H_coarsen: 100%|██████████| 31/31 [00:07<00:00,  4.32it/s]\n",
      "calculate H_coarsen: 100%|██████████| 46/46 [00:07<00:00,  6.16it/s]\n"
     ]
    },
    {
     "name": "stdout",
     "output_type": "stream",
     "text": [
      "costs of merges 31.21491003036499\n",
      "start create H\n"
     ]
    },
    {
     "name": "stderr",
     "output_type": "stream",
     "text": [
      "/home/robin/uu/thesis/convolution-matching/GraphSummarizers/Coarsener/HeteroCoarsener.py:164: UserWarning: To copy construct from a tensor, it is recommended to use sourceTensor.clone().detach() or sourceTensor.clone().detach().requires_grad_(True), rather than torch.tensor(sourceTensor).\n",
      "  degree = self.node_degrees[etype][\"out\"] + 1\n",
      "/home/robin/uu/thesis/convolution-matching/GraphSummarizers/Coarsener/HeteroCoarsener.py:169: UserWarning: To copy construct from a tensor, it is recommended to use sourceTensor.clone().detach() or sourceTensor.clone().detach().requires_grad_(True), rather than torch.tensor(sourceTensor).\n",
      "  degree = self.node_degrees[etype][\"in\"] + 1\n"
     ]
    },
    {
     "name": "stdout",
     "output_type": "stream",
     "text": [
      "created H 13.276306629180908\n",
      "start init costs\n",
      "stop init costs 6.188555717468262\n",
      "stop lowest cost edges 3.1538379192352295\n"
     ]
    },
    {
     "name": "stderr",
     "output_type": "stream",
     "text": [
      "calculate H_coarsen:   0%|          | 0/142 [00:00<?, ?it/s]/home/robin/uu/thesis/convolution-matching/GraphSummarizers/Coarsener/HeteroCoarsener.py:124: UserWarning: To copy construct from a tensor, it is recommended to use sourceTensor.clone().detach() or sourceTensor.clone().detach().requires_grad_(True), rather than torch.tensor(sourceTensor).\n",
      "  h = ((torch.sqrt(torch.tensor(d_u)) * s_u) + (torch.sqrt(torch.tensor(d_v)) * s_v)) / (torch.sqrt(torch.tensor(d_u_v)))\n",
      "calculate H_coarsen: 100%|██████████| 142/142 [00:19<00:00,  7.31it/s]\n",
      "calculate H_coarsen: 100%|██████████| 2/2 [00:00<00:00,  8.07it/s]\n",
      "calculate H_coarsen: 100%|██████████| 31/31 [00:07<00:00,  4.25it/s]\n",
      "calculate H_coarsen: 100%|██████████| 6/6 [00:00<00:00,  6.13it/s]\n"
     ]
    },
    {
     "name": "stdout",
     "output_type": "stream",
     "text": [
      "costs of merges 27.95603585243225\n",
      "start create H\n"
     ]
    },
    {
     "name": "stderr",
     "output_type": "stream",
     "text": [
      "/home/robin/uu/thesis/convolution-matching/GraphSummarizers/Coarsener/HeteroCoarsener.py:164: UserWarning: To copy construct from a tensor, it is recommended to use sourceTensor.clone().detach() or sourceTensor.clone().detach().requires_grad_(True), rather than torch.tensor(sourceTensor).\n",
      "  degree = self.node_degrees[etype][\"out\"] + 1\n",
      "/home/robin/uu/thesis/convolution-matching/GraphSummarizers/Coarsener/HeteroCoarsener.py:169: UserWarning: To copy construct from a tensor, it is recommended to use sourceTensor.clone().detach() or sourceTensor.clone().detach().requires_grad_(True), rather than torch.tensor(sourceTensor).\n",
      "  degree = self.node_degrees[etype][\"in\"] + 1\n"
     ]
    },
    {
     "name": "stdout",
     "output_type": "stream",
     "text": [
      "created H 11.705306053161621\n",
      "start init costs\n",
      "stop init costs 4.937263011932373\n",
      "stop lowest cost edges 3.2613892555236816\n"
     ]
    },
    {
     "name": "stderr",
     "output_type": "stream",
     "text": [
      "calculate H_coarsen:   0%|          | 0/163 [00:00<?, ?it/s]/home/robin/uu/thesis/convolution-matching/GraphSummarizers/Coarsener/HeteroCoarsener.py:124: UserWarning: To copy construct from a tensor, it is recommended to use sourceTensor.clone().detach() or sourceTensor.clone().detach().requires_grad_(True), rather than torch.tensor(sourceTensor).\n",
      "  h = ((torch.sqrt(torch.tensor(d_u)) * s_u) + (torch.sqrt(torch.tensor(d_v)) * s_v)) / (torch.sqrt(torch.tensor(d_u_v)))\n",
      "calculate H_coarsen: 100%|██████████| 163/163 [00:20<00:00,  7.80it/s]\n",
      "calculate H_coarsen: 100%|██████████| 2/2 [00:00<00:00,  9.28it/s]\n",
      "calculate H_coarsen: 100%|██████████| 18/18 [00:04<00:00,  4.09it/s]\n",
      "calculate H_coarsen: 100%|██████████| 5/5 [00:00<00:00,  6.19it/s]\n"
     ]
    },
    {
     "name": "stdout",
     "output_type": "stream",
     "text": [
      "costs of merges 26.342153310775757\n",
      "start create H\n"
     ]
    },
    {
     "name": "stderr",
     "output_type": "stream",
     "text": [
      "/home/robin/uu/thesis/convolution-matching/GraphSummarizers/Coarsener/HeteroCoarsener.py:164: UserWarning: To copy construct from a tensor, it is recommended to use sourceTensor.clone().detach() or sourceTensor.clone().detach().requires_grad_(True), rather than torch.tensor(sourceTensor).\n",
      "  degree = self.node_degrees[etype][\"out\"] + 1\n",
      "/home/robin/uu/thesis/convolution-matching/GraphSummarizers/Coarsener/HeteroCoarsener.py:169: UserWarning: To copy construct from a tensor, it is recommended to use sourceTensor.clone().detach() or sourceTensor.clone().detach().requires_grad_(True), rather than torch.tensor(sourceTensor).\n",
      "  degree = self.node_degrees[etype][\"in\"] + 1\n"
     ]
    },
    {
     "name": "stdout",
     "output_type": "stream",
     "text": [
      "created H 12.41046142578125\n",
      "start init costs\n",
      "stop init costs 6.293315410614014\n",
      "stop lowest cost edges 4.535663604736328\n"
     ]
    },
    {
     "name": "stderr",
     "output_type": "stream",
     "text": [
      "calculate H_coarsen:   0%|          | 0/172 [00:00<?, ?it/s]/home/robin/uu/thesis/convolution-matching/GraphSummarizers/Coarsener/HeteroCoarsener.py:124: UserWarning: To copy construct from a tensor, it is recommended to use sourceTensor.clone().detach() or sourceTensor.clone().detach().requires_grad_(True), rather than torch.tensor(sourceTensor).\n",
      "  h = ((torch.sqrt(torch.tensor(d_u)) * s_u) + (torch.sqrt(torch.tensor(d_v)) * s_v)) / (torch.sqrt(torch.tensor(d_u_v)))\n",
      "calculate H_coarsen: 100%|██████████| 172/172 [00:19<00:00,  8.86it/s]\n",
      "calculate H_coarsen: 100%|██████████| 2/2 [00:00<00:00,  9.22it/s]\n",
      "calculate H_coarsen: 100%|██████████| 25/25 [00:05<00:00,  4.31it/s]\n",
      "calculate H_coarsen: 100%|██████████| 48/48 [00:06<00:00,  7.15it/s]\n"
     ]
    },
    {
     "name": "stdout",
     "output_type": "stream",
     "text": [
      "costs of merges 32.16495418548584\n",
      "start create H\n"
     ]
    },
    {
     "name": "stderr",
     "output_type": "stream",
     "text": [
      "/home/robin/uu/thesis/convolution-matching/GraphSummarizers/Coarsener/HeteroCoarsener.py:164: UserWarning: To copy construct from a tensor, it is recommended to use sourceTensor.clone().detach() or sourceTensor.clone().detach().requires_grad_(True), rather than torch.tensor(sourceTensor).\n",
      "  degree = self.node_degrees[etype][\"out\"] + 1\n",
      "/home/robin/uu/thesis/convolution-matching/GraphSummarizers/Coarsener/HeteroCoarsener.py:169: UserWarning: To copy construct from a tensor, it is recommended to use sourceTensor.clone().detach() or sourceTensor.clone().detach().requires_grad_(True), rather than torch.tensor(sourceTensor).\n",
      "  degree = self.node_degrees[etype][\"in\"] + 1\n"
     ]
    },
    {
     "name": "stdout",
     "output_type": "stream",
     "text": [
      "created H 12.079224109649658\n",
      "start init costs\n",
      "stop init costs 5.692919015884399\n",
      "stop lowest cost edges 3.110022783279419\n"
     ]
    },
    {
     "name": "stderr",
     "output_type": "stream",
     "text": [
      "calculate H_coarsen:   0%|          | 0/152 [00:00<?, ?it/s]/home/robin/uu/thesis/convolution-matching/GraphSummarizers/Coarsener/HeteroCoarsener.py:124: UserWarning: To copy construct from a tensor, it is recommended to use sourceTensor.clone().detach() or sourceTensor.clone().detach().requires_grad_(True), rather than torch.tensor(sourceTensor).\n",
      "  h = ((torch.sqrt(torch.tensor(d_u)) * s_u) + (torch.sqrt(torch.tensor(d_v)) * s_v)) / (torch.sqrt(torch.tensor(d_u_v)))\n",
      "calculate H_coarsen: 100%|██████████| 152/152 [00:17<00:00,  8.77it/s]\n",
      "calculate H_coarsen: 100%|██████████| 2/2 [00:00<00:00,  9.70it/s]\n",
      "calculate H_coarsen: 100%|██████████| 23/23 [00:05<00:00,  4.49it/s]\n",
      "calculate H_coarsen: 100%|██████████| 7/7 [00:01<00:00,  6.41it/s]\n"
     ]
    },
    {
     "name": "stdout",
     "output_type": "stream",
     "text": [
      "costs of merges 23.764267921447754\n",
      "start create H\n"
     ]
    },
    {
     "name": "stderr",
     "output_type": "stream",
     "text": [
      "/home/robin/uu/thesis/convolution-matching/GraphSummarizers/Coarsener/HeteroCoarsener.py:164: UserWarning: To copy construct from a tensor, it is recommended to use sourceTensor.clone().detach() or sourceTensor.clone().detach().requires_grad_(True), rather than torch.tensor(sourceTensor).\n",
      "  degree = self.node_degrees[etype][\"out\"] + 1\n",
      "/home/robin/uu/thesis/convolution-matching/GraphSummarizers/Coarsener/HeteroCoarsener.py:169: UserWarning: To copy construct from a tensor, it is recommended to use sourceTensor.clone().detach() or sourceTensor.clone().detach().requires_grad_(True), rather than torch.tensor(sourceTensor).\n",
      "  degree = self.node_degrees[etype][\"in\"] + 1\n"
     ]
    },
    {
     "name": "stdout",
     "output_type": "stream",
     "text": [
      "created H 12.168446063995361\n",
      "start init costs\n",
      "stop init costs 5.831670761108398\n",
      "stop lowest cost edges 4.442453384399414\n"
     ]
    },
    {
     "name": "stderr",
     "output_type": "stream",
     "text": [
      "calculate H_coarsen:   0%|          | 0/165 [00:00<?, ?it/s]/home/robin/uu/thesis/convolution-matching/GraphSummarizers/Coarsener/HeteroCoarsener.py:124: UserWarning: To copy construct from a tensor, it is recommended to use sourceTensor.clone().detach() or sourceTensor.clone().detach().requires_grad_(True), rather than torch.tensor(sourceTensor).\n",
      "  h = ((torch.sqrt(torch.tensor(d_u)) * s_u) + (torch.sqrt(torch.tensor(d_v)) * s_v)) / (torch.sqrt(torch.tensor(d_u_v)))\n",
      "calculate H_coarsen: 100%|██████████| 165/165 [00:17<00:00,  9.56it/s]\n",
      "calculate H_coarsen: 100%|██████████| 2/2 [00:00<00:00,  8.56it/s]\n",
      "calculate H_coarsen: 100%|██████████| 25/25 [00:06<00:00,  4.01it/s]\n",
      "calculate H_coarsen: 100%|██████████| 6/6 [00:00<00:00,  6.03it/s]\n"
     ]
    },
    {
     "name": "stdout",
     "output_type": "stream",
     "text": [
      "costs of merges 24.738597631454468\n",
      "start create H\n"
     ]
    },
    {
     "name": "stderr",
     "output_type": "stream",
     "text": [
      "/home/robin/uu/thesis/convolution-matching/GraphSummarizers/Coarsener/HeteroCoarsener.py:164: UserWarning: To copy construct from a tensor, it is recommended to use sourceTensor.clone().detach() or sourceTensor.clone().detach().requires_grad_(True), rather than torch.tensor(sourceTensor).\n",
      "  degree = self.node_degrees[etype][\"out\"] + 1\n",
      "/home/robin/uu/thesis/convolution-matching/GraphSummarizers/Coarsener/HeteroCoarsener.py:169: UserWarning: To copy construct from a tensor, it is recommended to use sourceTensor.clone().detach() or sourceTensor.clone().detach().requires_grad_(True), rather than torch.tensor(sourceTensor).\n",
      "  degree = self.node_degrees[etype][\"in\"] + 1\n"
     ]
    },
    {
     "name": "stdout",
     "output_type": "stream",
     "text": [
      "created H 11.234703779220581\n",
      "start init costs\n",
      "stop init costs 5.52070951461792\n",
      "stop lowest cost edges 4.425127267837524\n"
     ]
    },
    {
     "name": "stderr",
     "output_type": "stream",
     "text": [
      "calculate H_coarsen:   0%|          | 0/164 [00:00<?, ?it/s]/home/robin/uu/thesis/convolution-matching/GraphSummarizers/Coarsener/HeteroCoarsener.py:124: UserWarning: To copy construct from a tensor, it is recommended to use sourceTensor.clone().detach() or sourceTensor.clone().detach().requires_grad_(True), rather than torch.tensor(sourceTensor).\n",
      "  h = ((torch.sqrt(torch.tensor(d_u)) * s_u) + (torch.sqrt(torch.tensor(d_v)) * s_v)) / (torch.sqrt(torch.tensor(d_u_v)))\n",
      "calculate H_coarsen: 100%|██████████| 164/164 [00:18<00:00,  9.08it/s]\n",
      "calculate H_coarsen: 100%|██████████| 2/2 [00:00<00:00,  8.94it/s]\n",
      "calculate H_coarsen: 100%|██████████| 8/8 [00:01<00:00,  4.20it/s]\n",
      "calculate H_coarsen: 100%|██████████| 5/5 [00:00<00:00,  6.59it/s]\n"
     ]
    },
    {
     "name": "stdout",
     "output_type": "stream",
     "text": [
      "costs of merges 20.967862129211426\n",
      "start create H\n"
     ]
    },
    {
     "name": "stderr",
     "output_type": "stream",
     "text": [
      "/home/robin/uu/thesis/convolution-matching/GraphSummarizers/Coarsener/HeteroCoarsener.py:164: UserWarning: To copy construct from a tensor, it is recommended to use sourceTensor.clone().detach() or sourceTensor.clone().detach().requires_grad_(True), rather than torch.tensor(sourceTensor).\n",
      "  degree = self.node_degrees[etype][\"out\"] + 1\n",
      "/home/robin/uu/thesis/convolution-matching/GraphSummarizers/Coarsener/HeteroCoarsener.py:169: UserWarning: To copy construct from a tensor, it is recommended to use sourceTensor.clone().detach() or sourceTensor.clone().detach().requires_grad_(True), rather than torch.tensor(sourceTensor).\n",
      "  degree = self.node_degrees[etype][\"in\"] + 1\n"
     ]
    },
    {
     "name": "stdout",
     "output_type": "stream",
     "text": [
      "created H 11.638548851013184\n",
      "start init costs\n",
      "stop init costs 3.609565496444702\n",
      "stop lowest cost edges 4.400492429733276\n"
     ]
    },
    {
     "name": "stderr",
     "output_type": "stream",
     "text": [
      "calculate H_coarsen:   0%|          | 0/168 [00:00<?, ?it/s]/home/robin/uu/thesis/convolution-matching/GraphSummarizers/Coarsener/HeteroCoarsener.py:124: UserWarning: To copy construct from a tensor, it is recommended to use sourceTensor.clone().detach() or sourceTensor.clone().detach().requires_grad_(True), rather than torch.tensor(sourceTensor).\n",
      "  h = ((torch.sqrt(torch.tensor(d_u)) * s_u) + (torch.sqrt(torch.tensor(d_v)) * s_v)) / (torch.sqrt(torch.tensor(d_u_v)))\n",
      "calculate H_coarsen: 100%|██████████| 168/168 [00:19<00:00,  8.82it/s]\n",
      "calculate H_coarsen: 100%|██████████| 2/2 [00:00<00:00,  9.44it/s]\n",
      "calculate H_coarsen: 100%|██████████| 17/17 [00:03<00:00,  4.50it/s]\n",
      "calculate H_coarsen: 100%|██████████| 32/32 [00:04<00:00,  7.01it/s]\n"
     ]
    },
    {
     "name": "stdout",
     "output_type": "stream",
     "text": [
      "costs of merges 27.612316608428955\n",
      "start create H\n"
     ]
    },
    {
     "name": "stderr",
     "output_type": "stream",
     "text": [
      "/home/robin/uu/thesis/convolution-matching/GraphSummarizers/Coarsener/HeteroCoarsener.py:164: UserWarning: To copy construct from a tensor, it is recommended to use sourceTensor.clone().detach() or sourceTensor.clone().detach().requires_grad_(True), rather than torch.tensor(sourceTensor).\n",
      "  degree = self.node_degrees[etype][\"out\"] + 1\n",
      "/home/robin/uu/thesis/convolution-matching/GraphSummarizers/Coarsener/HeteroCoarsener.py:169: UserWarning: To copy construct from a tensor, it is recommended to use sourceTensor.clone().detach() or sourceTensor.clone().detach().requires_grad_(True), rather than torch.tensor(sourceTensor).\n",
      "  degree = self.node_degrees[etype][\"in\"] + 1\n"
     ]
    },
    {
     "name": "stdout",
     "output_type": "stream",
     "text": [
      "created H 11.420074224472046\n",
      "start init costs\n",
      "stop init costs 3.308588743209839\n",
      "stop lowest cost edges 4.401540040969849\n"
     ]
    },
    {
     "name": "stderr",
     "output_type": "stream",
     "text": [
      "calculate H_coarsen:   0%|          | 0/163 [00:00<?, ?it/s]/home/robin/uu/thesis/convolution-matching/GraphSummarizers/Coarsener/HeteroCoarsener.py:124: UserWarning: To copy construct from a tensor, it is recommended to use sourceTensor.clone().detach() or sourceTensor.clone().detach().requires_grad_(True), rather than torch.tensor(sourceTensor).\n",
      "  h = ((torch.sqrt(torch.tensor(d_u)) * s_u) + (torch.sqrt(torch.tensor(d_v)) * s_v)) / (torch.sqrt(torch.tensor(d_u_v)))\n",
      "calculate H_coarsen: 100%|██████████| 163/163 [00:19<00:00,  8.22it/s]\n",
      "calculate H_coarsen: 100%|██████████| 2/2 [00:00<00:00,  8.00it/s]\n",
      "calculate H_coarsen: 100%|██████████| 12/12 [00:01<00:00,  7.03it/s]\n",
      "calculate H_coarsen: 100%|██████████| 6/6 [00:01<00:00,  5.94it/s]\n"
     ]
    },
    {
     "name": "stdout",
     "output_type": "stream",
     "text": [
      "costs of merges 22.81652593612671\n"
     ]
    }
   ],
   "source": [
    "    \n",
    "    \n",
    "\n",
    "dataset = DBLP() \n",
    "original_graph = dataset.load_graph()\n",
    "\n",
    "coarsener = HeteroCoarsener(None,original_graph, 0.5)\n",
    "\n",
    "\n",
    "merge_graph,_ = coarsener.summarize2(k=10)\n"
   ]
  },
  {
   "cell_type": "code",
   "execution_count": 10,
   "metadata": {},
   "outputs": [
    {
     "data": {
      "text/plain": [
       "Graph(num_nodes={'author': 4057, 'conference': 20, 'paper': 14328, 'term': 7723},\n",
       "      num_edges={('author', 'authortopaper', 'paper'): 19645, ('conference', 'conferencetopaper', 'paper'): 14328, ('paper', 'papertoauthor', 'author'): 19645, ('paper', 'papertoconference', 'conference'): 14328, ('paper', 'papertoterm', 'term'): 85810, ('term', 'termtopaper', 'paper'): 85810},\n",
       "      metagraph=[('author', 'paper', 'authortopaper'), ('paper', 'author', 'papertoauthor'), ('paper', 'conference', 'papertoconference'), ('paper', 'term', 'papertoterm'), ('conference', 'paper', 'conferencetopaper'), ('term', 'paper', 'termtopaper')])"
      ]
     },
     "execution_count": 10,
     "metadata": {},
     "output_type": "execute_result"
    }
   ],
   "source": [
    "original_graph"
   ]
  },
  {
   "cell_type": "code",
   "execution_count": 9,
   "metadata": {},
   "outputs": [
    {
     "data": {
      "text/plain": [
       "Graph(num_nodes={'author': 2489, 'conference': 5, 'paper': 14098, 'term': 7411},\n",
       "      num_edges={('author', 'authortopaper', 'paper'): 18871, ('conference', 'conferencetopaper', 'paper'): 13870, ('paper', 'papertoauthor', 'author'): 13875, ('paper', 'papertoconference', 'conference'): 0, ('paper', 'papertoterm', 'term'): 85014, ('term', 'termtopaper', 'paper'): 82969},\n",
       "      metagraph=[('author', 'paper', 'authortopaper'), ('paper', 'author', 'papertoauthor'), ('paper', 'conference', 'papertoconference'), ('paper', 'term', 'papertoterm'), ('conference', 'paper', 'conferencetopaper'), ('term', 'paper', 'termtopaper')])"
      ]
     },
     "execution_count": 9,
     "metadata": {},
     "output_type": "execute_result"
    }
   ],
   "source": [
    "merge_graph"
   ]
  },
  {
   "cell_type": "code",
   "execution_count": 11,
   "metadata": {},
   "outputs": [],
   "source": [
    "original_data, o_x_dict, o_edge_index_dict, o_node_types, o_edge_types = dgl_to_pyg_input(original_graph)\n",
    "coarsened_data, c_x_dict, c_edge_index_dict, c_node_types, c_edge_types = dgl_to_pyg_input(merge_graph)"
   ]
  },
  {
   "cell_type": "code",
   "execution_count": 12,
   "metadata": {},
   "outputs": [
    {
     "name": "stdout",
     "output_type": "stream",
     "text": [
      "Split statistics:\n",
      "  Training: 405 nodes (9.98%)\n",
      "  Validation: 405 nodes (9.98%)\n",
      "  Testing: 3247 nodes (80.03%)\n",
      "Split statistics:\n",
      "  Training: 248 nodes (9.96%)\n",
      "  Validation: 248 nodes (9.96%)\n",
      "  Testing: 1993 nodes (80.07%)\n"
     ]
    }
   ],
   "source": [
    "import torch\n",
    "import numpy as np\n",
    "from torch_geometric.data import HeteroData\n",
    "\n",
    "# Assuming you already have your hetero_data object\n",
    "# hetero_data = HeteroData(...)\n",
    "\n",
    "def create_train_val_test_masks(hetero_data, train_ratio=0.1, val_ratio=0.1, test_ratio=0.8, random_state=42, target_node_type='author'):\n",
    "    \"\"\"\n",
    "    Create training, validation, and testing masks for author nodes.\n",
    "    \n",
    "    Args:\n",
    "        hetero_data: HeteroData object\n",
    "        train_ratio: Ratio of training data\n",
    "        val_ratio: Ratio of validation data\n",
    "        test_ratio: Ratio of testing data\n",
    "        random_state: Random seed for reproducibility\n",
    "    \n",
    "    Returns:\n",
    "        HeteroData object with train_mask, val_mask, and test_mask added to author nodes\n",
    "    \"\"\"\n",
    "    # Ensure ratios sum to 1\n",
    "    assert abs(train_ratio + val_ratio + test_ratio - 1.0) < 1e-6, \"Ratios must sum to 1\"\n",
    "    \n",
    "    # Get number of author nodes\n",
    "    num_authors = hetero_data[target_node_type][\"feat\"].size(0)\n",
    "    \n",
    "    # Create random permutation of node indices\n",
    "    np.random.seed(random_state)\n",
    "    indices = np.random.permutation(num_authors)\n",
    "    \n",
    "    # Calculate split sizes\n",
    "    train_size = int(num_authors * train_ratio)\n",
    "    val_size = int(num_authors * val_ratio)\n",
    "    \n",
    "    # Split indices\n",
    "    train_indices = indices[:train_size]\n",
    "    val_indices = indices[train_size:train_size + val_size]\n",
    "    test_indices = indices[train_size + val_size:]\n",
    "    \n",
    "    # Create boolean masks\n",
    "    train_mask = torch.zeros(num_authors, dtype=torch.bool)\n",
    "    val_mask = torch.zeros(num_authors, dtype=torch.bool)\n",
    "    test_mask = torch.zeros(num_authors, dtype=torch.bool)\n",
    "    \n",
    "    train_mask[train_indices] = True\n",
    "    val_mask[val_indices] = True\n",
    "    test_mask[test_indices] = True\n",
    "    \n",
    "    # Add masks to hetero_data\n",
    "    hetero_data[target_node_type].train_mask = train_mask\n",
    "    hetero_data[target_node_type].val_mask = val_mask\n",
    "    hetero_data[target_node_type].test_mask = test_mask\n",
    "    \n",
    "    # Print split statistics\n",
    "    print(f\"Split statistics:\")\n",
    "    print(f\"  Training: {train_mask.sum()} nodes ({train_mask.sum() / num_authors:.2%})\")\n",
    "    print(f\"  Validation: {val_mask.sum()} nodes ({val_mask.sum() / num_authors:.2%})\")\n",
    "    print(f\"  Testing: {test_mask.sum()} nodes ({test_mask.sum() / num_authors:.2%})\")\n",
    "    \n",
    "    return hetero_data\n",
    "\n",
    "# Example usage\n",
    "original_data =  create_train_val_test_masks(original_data, train_ratio=0.1, val_ratio=0.1, test_ratio=0.8, target_node_type='author')\n",
    "coarsened_data = create_train_val_test_masks(coarsened_data, train_ratio=0.1, val_ratio=0.1, test_ratio=0.8, target_node_type='author')\n",
    "\n",
    "# Accessing the masks\n",
    "# train_nodes = hetero_data['author'].x[hetero_data['author'].train_mask]\n",
    "# val_nodes = hetero_data['author'].x[hetero_data['author'].val_mask]\n",
    "# test_nodes = hetero_data['author'].x[hetero_data['author'].test_mask]\n"
   ]
  },
  {
   "cell_type": "code",
   "execution_count": 13,
   "metadata": {},
   "outputs": [
    {
     "name": "stdout",
     "output_type": "stream",
     "text": [
      "Epoch 1:\n",
      "  Original Graph - Loss: 1.4424, Accuracy: 0.4681\n",
      "  Coarsened Graph - Loss: 1.4276, Accuracy: 0.3723\n",
      "  Inverted Coarsened - Accuracy: 0.0000\n",
      "\n",
      "Epoch 11:\n",
      "  Original Graph - Loss: 0.0152, Accuracy: 0.7798\n",
      "  Coarsened Graph - Loss: 0.0447, Accuracy: 0.7561\n",
      "  Inverted Coarsened - Accuracy: 0.0000\n",
      "\n",
      "Epoch 21:\n",
      "  Original Graph - Loss: 0.0012, Accuracy: 0.7693\n",
      "  Coarsened Graph - Loss: 0.0024, Accuracy: 0.7296\n",
      "  Inverted Coarsened - Accuracy: 0.0000\n",
      "\n",
      "Epoch 31:\n",
      "  Original Graph - Loss: 0.0056, Accuracy: 0.7684\n",
      "  Coarsened Graph - Loss: 0.0006, Accuracy: 0.7230\n",
      "  Inverted Coarsened - Accuracy: 0.0000\n",
      "\n",
      "Epoch 41:\n",
      "  Original Graph - Loss: 0.0015, Accuracy: 0.7672\n",
      "  Coarsened Graph - Loss: 0.0005, Accuracy: 0.7235\n",
      "  Inverted Coarsened - Accuracy: 0.0000\n",
      "\n"
     ]
    },
    {
     "data": {
      "image/png": "[encoded data removed]",
      "text/plain": [
       "<Figure size 1200x500 with 2 Axes>"
      ]
     },
     "metadata": {},
     "output_type": "display_data"
    },
    {
     "name": "stdout",
     "output_type": "stream",
     "text": [
      "Final Performance Comparison:\n",
      "Original Graph Accuracy: 0.7672\n",
      "Coarsened Graph Accuracy: 0.7235\n",
      "Inverted Coarsened Accuracy: 0.0000\n"
     ]
    }
   ],
   "source": [
    "# Import necessary libraries (if not already imported)\n",
    "import torch\n",
    "import torch.nn.functional as F\n",
    "import numpy as np\n",
    "from Models.GNNs.HGCN import ImprovedHeteroGNN\n",
    "\n",
    "\n",
    "original_x_dict = o_x_dict\n",
    "coarsened_x_dict = c_x_dict\n",
    "o_metadata = (o_node_types, o_edge_types)\n",
    "c_metadata=(c_node_types, c_edge_types)\n",
    "#original_x_dict.update({\"conference\": torch.zeros((original_data[\"conference\"][\"num_nodes\"], 1))})# = 0  #= 0#\n",
    "#coarsened_x_dict.update({\"conference\": torch.zeros((coarsened_data[\"conference\"][\"num_nodes\"], 1))})# = 0  #= 0#\n",
    "\n",
    "#num_classes = len(original_data[\"author\"][\"label\"].unique())\n",
    "\n",
    "target_node_type = \"author\"\n",
    "# Your existing model definition\n",
    "model_original = ImprovedHeteroGNN(metadata=o_metadata,target_feat=target_node_type, x_dict= original_x_dict ,num_classes= 4,hidden_channels=64)\n",
    "model_coarsened = ImprovedHeteroGNN(metadata=c_metadata, target_feat=target_node_type,x_dict= coarsened_x_dict,num_classes= 4, hidden_channels=64)\n",
    "\n",
    "# Optimizers\n",
    "optimizer_original = torch.optim.Adam(model_original.parameters(), lr=0.01, weight_decay=5e-4)\n",
    "optimizer_coarsened = torch.optim.Adam(model_coarsened.parameters(), lr=0.01, weight_decay=5e-4)\n",
    "\n",
    "\n",
    "# Function to apply inversion mapping from coarsened to original\n",
    "def apply_inversion_mapping(coarsened_pred, inversion_map, original_labels, test_mask):\n",
    "    \"\"\"\n",
    "    Maps predictions from coarsened graph back to original graph nodes\n",
    "    \n",
    "    Args:\n",
    "        coarsened_pred: Predictions on coarsened graph\n",
    "        inversion_map: Mapping from coarsened nodes to original nodes\n",
    "        original_labels: Ground truth labels of original graph\n",
    "        \n",
    "    Returns:\n",
    "        mapped_accuracy: Accuracy after applying inversion mapping\n",
    "    \"\"\"\n",
    "    correct_count = 0\n",
    "    total_count = 0\n",
    "    \n",
    "    for orig_node, coarsened_node in enumerate(inversion_map):\n",
    "        if not test_mask[coarsened_node]:\n",
    "            continue\n",
    "        coarse_pred = coarsened_pred[coarsened_node].item()\n",
    "        orig_label = original_labels[orig_node].item()\n",
    "        #print(coarse_pred, orig_label)\n",
    "\n",
    "        correct = (coarse_pred == orig_label)\n",
    "                \n",
    "        if correct:\n",
    "            correct_count += 1\n",
    "        total_count += 1\n",
    "    \n",
    "    return correct_count / total_count if total_count > 0 else 0\n",
    "\n",
    "# Training function for original graph\n",
    "def train_original():\n",
    "    model_original.train()\n",
    "    optimizer_original.zero_grad()\n",
    "    \n",
    "    out = model_original(original_x_dict, original_data.edge_index_dict)\n",
    "    loss = F.nll_loss(\n",
    "        out[target_node_type][original_data[target_node_type].train_mask], \n",
    "        original_data[target_node_type][\"label\"][original_data[target_node_type].train_mask]\n",
    "    )\n",
    "    loss.backward()\n",
    "    optimizer_original.step()\n",
    "    return loss.item()\n",
    "\n",
    "# Training function for coarsened graph\n",
    "def train_coarsened():\n",
    "    model_coarsened.train()\n",
    "    optimizer_coarsened.zero_grad()\n",
    "    out = model_coarsened(coarsened_x_dict, coarsened_data.edge_index_dict)\n",
    "    loss = F.nll_loss(\n",
    "        out[target_node_type][coarsened_data[target_node_type].train_mask], \n",
    "        coarsened_data[target_node_type][\"label\"][coarsened_data[target_node_type].train_mask]\n",
    "    )\n",
    "    loss.backward()\n",
    "    optimizer_coarsened.step()\n",
    "    return loss.item()\n",
    "\n",
    "# Evaluation function for original graph\n",
    "def test_original():\n",
    "    model_original.eval()\n",
    "    with torch.no_grad():\n",
    "        out = model_original(original_x_dict, original_data.edge_index_dict)\n",
    "        pred = out[target_node_type].argmax(dim=1)\n",
    "        \n",
    "        # Calculate accuracy on test set\n",
    "        correct = pred[original_data[target_node_type].test_mask] == original_data[target_node_type][\"label\"][original_data[target_node_type].test_mask]\n",
    "        acc = int(correct.sum()) / int(original_data[target_node_type].test_mask.sum())\n",
    "        return acc\n",
    "\n",
    "# Evaluation function for coarsened graph\n",
    "def test_coarsened():\n",
    "    model_coarsened.eval()\n",
    "    with torch.no_grad():\n",
    "        out = model_coarsened(coarsened_x_dict, coarsened_data.edge_index_dict)\n",
    "        pred = out[target_node_type].argmax(dim=1)\n",
    "        \n",
    "        # Calculate accuracy on test set\n",
    "        coarsened_acc = int(\n",
    "            (pred[coarsened_data[target_node_type].test_mask] == \n",
    "             coarsened_data[target_node_type][\"label\"][coarsened_data[target_node_type].test_mask]).sum()\n",
    "        ) / int(coarsened_data[target_node_type].test_mask.sum())\n",
    "        \n",
    "        # Apply inversion mapping to evaluate how coarsened predictions map to original graph\n",
    "        # inverted_acc  = apply_inversion_mapping(\n",
    "        #     pred,\n",
    "        #     mapping_authors,\n",
    "        #     original_data[target_node_type][\"label\"], \n",
    "        #     coarsened_data[target_node_type].test_mask\n",
    "        # )\n",
    "        inverted_acc = 0\n",
    "        return coarsened_acc, inverted_acc\n",
    "\n",
    "# Training for 50 epochs and comparing both models\n",
    "results = {\n",
    "    \"epoch\": [],\n",
    "    \"original_loss\": [],\n",
    "    \"coarsened_loss\": [],\n",
    "    \"original_acc\": [],\n",
    "    \"coarsened_acc\": [],\n",
    "    \"inverted_acc\": []\n",
    "}\n",
    "\n",
    "for epoch in range(50):\n",
    "    # Train both models\n",
    "    original_loss = train_original()\n",
    "    coarsened_loss = train_coarsened()\n",
    "    \n",
    "    # Store results\n",
    "    results[\"epoch\"].append(epoch+1)\n",
    "    results[\"original_loss\"].append(original_loss)\n",
    "    results[\"coarsened_loss\"].append(coarsened_loss)\n",
    "    \n",
    "    # Evaluate every 10 epochs\n",
    "    if epoch % 10 == 0:\n",
    "        original_acc = test_original()\n",
    "        coarsened_acc, inverted_acc = test_coarsened()\n",
    "        \n",
    "        results[\"original_acc\"].append(original_acc)\n",
    "        results[\"coarsened_acc\"].append(coarsened_acc)\n",
    "        results[\"inverted_acc\"].append(inverted_acc)\n",
    "        \n",
    "        print(f'Epoch {epoch+1}:')\n",
    "    \n",
    "    \n",
    "        print(f'  Original Graph - Loss: {original_loss:.4f}, Accuracy: {original_acc:.4f}')\n",
    "        print(f'  Coarsened Graph - Loss: {coarsened_loss:.4f}, Accuracy: {coarsened_acc:.4f}')\n",
    "        print(f'  Inverted Coarsened - Accuracy: {inverted_acc:.4f}')\n",
    "        print()\n",
    "\n",
    "# Visualization of results\n",
    "import matplotlib.pyplot as plt\n",
    "\n",
    "# Plot loss\n",
    "plt.figure(figsize=(12, 5))\n",
    "plt.subplot(1, 2, 1)\n",
    "plt.plot(results[\"epoch\"], results[\"original_loss\"], label=\"Original Graph\")\n",
    "plt.plot(results[\"epoch\"], results[\"coarsened_loss\"], label=\"Coarsened Graph\")\n",
    "plt.xlabel(\"Epoch\")\n",
    "plt.ylabel(\"Loss\")\n",
    "plt.title(\"Training Loss\")\n",
    "plt.legend()\n",
    "\n",
    "# Plot accuracy\n",
    "plt.subplot(1, 2, 2)\n",
    "x = [results[\"epoch\"][i] for i in range(0, 50, 10)]\n",
    "plt.plot(x, results[\"original_acc\"], 'o-', label=\"Original Graph\")\n",
    "plt.plot(x, results[\"coarsened_acc\"], 's-', label=\"Coarsened Graph\")\n",
    "plt.plot(x, results[\"inverted_acc\"], '^-', label=\"Inverted Coarsened\")\n",
    "plt.xlabel(\"Epoch\")\n",
    "plt.ylabel(\"Accuracy\")\n",
    "plt.title(\"Test Accuracy\")\n",
    "plt.legend()\n",
    "\n",
    "plt.tight_layout()\n",
    "plt.show()\n",
    "\n",
    "# Final comparison\n",
    "print(\"Final Performance Comparison:\")\n",
    "print(f\"Original Graph Accuracy: {results['original_acc'][-1]:.4f}\")\n",
    "print(f\"Coarsened Graph Accuracy: {results['coarsened_acc'][-1]:.4f}\")\n",
    "print(f\"Inverted Coarsened Accuracy: {results['inverted_acc'][-1]:.4f}\")\n",
    "\n",
    "# Calculate speedup from using coarsened graph\n",
    "# (You would need to time the training for a proper comparison)"
   ]
  }
 ],
 "metadata": {
  "kernelspec": {
   "display_name": ".venvconv",
   "language": "python",
   "name": "python3"
  },
  "language_info": {
   "codemirror_mode": {
    "name": "ipython",
    "version": 3
   },
   "file_extension": ".py",
   "mimetype": "text/x-python",
   "name": "python",
   "nbconvert_exporter": "python",
   "pygments_lexer": "ipython3",
   "version": "3.10.12"
  }
 },
 "nbformat": 4,
 "nbformat_minor": 2
}
