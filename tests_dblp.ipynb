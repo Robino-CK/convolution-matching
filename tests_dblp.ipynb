{
 "cells": [
  {
   "cell_type": "code",
   "execution_count": 1,
   "metadata": {},
   "outputs": [
    {
     "name": "stderr",
     "output_type": "stream",
     "text": [
      "/home/robin/uu/thesis/convolution-matching/.venvconv/lib/python3.10/site-packages/tqdm/auto.py:22: TqdmWarning: IProgress not found. Please update jupyter and ipywidgets. See https://ipywidgets.readthedocs.io/en/stable/user_install.html\n",
      "  from .autonotebook import tqdm as notebook_tqdm\n",
      "WARNING:root:The OGB package is out of date. Your version is 1.3.4, while the latest version is 1.3.6.\n"
     ]
    }
   ],
   "source": [
    "from GraphSummarizers.Coarsener.HeteroCoarsener import HeteroCoarsener\n",
    "from Datasets.NodeClassification.DBLP import DBLP\n",
    "from Datasets.NodeClassification.AIFB import AIFB\n",
    "from Datasets.NodeClassification.TestHetero import TestHeteroSmall, TestHeteroBig\n",
    "import importlib\n",
    "import torch\n",
    "from test_data_converter import dgl_to_pyg_input"
   ]
  },
  {
   "cell_type": "code",
   "execution_count": null,
   "metadata": {},
   "outputs": [
    {
     "name": "stderr",
     "output_type": "stream",
     "text": [
      "/home/robin/uu/thesis/convolution-matching/.venvconv/lib/python3.10/site-packages/torch_geometric/io/fs.py:229: UserWarning: Weights only load failed. Please file an issue to make `torch.load(weights_only=True)` compatible in your case. Please use `torch.serialization.add_safe_globals([BaseStorage])` to allowlist this global.\n",
      "  warnings.warn(f\"{warn_msg} Please use \"\n"
     ]
    },
    {
     "name": "stdout",
     "output_type": "stream",
     "text": [
      "_create_h_spatial_rgcn 22.15554404258728\n",
      "stop init costs 4.3446643352508545\n",
      "_get_union 2.362865686416626\n",
      "_add_costs 49.61042284965515\n",
      "_costs_of_merges 441.4126207828522\n",
      "_init_merge_graph 0.03173184394836426\n",
      "_find_lowest_cost_edges 0.05222368240356445\n"
     ]
    }
   ],
   "source": [
    "\n",
    "dataset = DBLP() \n",
    "original_graph = dataset.load_graph()\n",
    "\n",
    "coarsener = HeteroCoarsener(None,original_graph, 0.5, num_nearest_per_etype=100, num_nearest_neighbors=100,pairs_per_level=20)\n",
    "coarsener.init_step()\n"
   ]
  },
  {
   "cell_type": "code",
   "execution_count": null,
   "metadata": {},
   "outputs": [
    {
     "name": "stdout",
     "output_type": "stream",
     "text": [
      "--------- step:  0 ---------\n",
      "_merge_nodes 0.32700610160827637\n",
      "_update_merge_graph 0.28470730781555176\n",
      "_merge_nodes 0.16188478469848633\n",
      "_update_merge_graph: WARNING no more merge candidates 0.03651094436645508\n",
      "_merge_nodes 0.42245960235595703\n",
      "_update_merge_graph 1.3533554077148438\n",
      "_merge_nodes 0.35633301734924316\n",
      "_update_merge_graph 0.5473971366882324\n",
      "_find_lowest_cost_edges 0.08238720893859863\n",
      "--------- step:  1 ---------\n",
      "_merge_nodes 0.28588271141052246\n",
      "_update_merge_graph 0.3137624263763428\n",
      "_merge_nodes 0.011299371719360352\n",
      "_update_merge_graph: WARNING no more merge candidates 0.0018413066864013672\n",
      "_merge_nodes 0.2863006591796875\n",
      "_update_merge_graph 0.8768043518066406\n",
      "_merge_nodes 0.3125033378601074\n",
      "_update_merge_graph 0.44249796867370605\n",
      "_find_lowest_cost_edges 0.06925821304321289\n",
      "--------- step:  2 ---------\n",
      "_merge_nodes 0.27419519424438477\n",
      "_update_merge_graph 0.3093135356903076\n",
      "_merge_nodes 0.010961294174194336\n",
      "_update_merge_graph: WARNING no more merge candidates 0.002973318099975586\n",
      "_merge_nodes 0.3869364261627197\n",
      "_update_merge_graph 0.7858972549438477\n",
      "_merge_nodes 0.378298282623291\n",
      "_update_merge_graph 0.5276176929473877\n",
      "_find_lowest_cost_edges 0.0829160213470459\n",
      "--------- step:  3 ---------\n",
      "_merge_nodes 0.30385375022888184\n",
      "_update_merge_graph 0.3160707950592041\n",
      "_merge_nodes 0.00969076156616211\n",
      "_update_merge_graph: WARNING no more merge candidates 0.00292205810546875\n",
      "_merge_nodes 0.23252511024475098\n",
      "_update_merge_graph 0.6760220527648926\n",
      "_merge_nodes 0.35264086723327637\n",
      "_update_merge_graph 0.5780377388000488\n",
      "_find_lowest_cost_edges 0.08685421943664551\n",
      "--------- step:  4 ---------\n",
      "_merge_nodes 0.2303905487060547\n",
      "_update_merge_graph 0.2935805320739746\n",
      "_merge_nodes 0.007995367050170898\n",
      "_update_merge_graph: WARNING no more merge candidates 0.0015892982482910156\n"
     ]
    }
   ],
   "source": [
    "isNewMerges = True\n",
    "for i in range(300):\n",
    "    if not isNewMerges:\n",
    "        break\n",
    "    print(\"--------- step: \" , i , \"---------\" )\n",
    "    isNewMerges = coarsener.iteration_step()\n",
    "    "
   ]
  },
  {
   "cell_type": "code",
   "execution_count": 4,
   "metadata": {},
   "outputs": [],
   "source": [
    "coarsend_graph = coarsener.get_coarsend_graph()\n",
    "\n",
    "mapping = coarsener.get_mapping(\"author\")\n",
    "labels = coarsener._get_labels(mapping, \"author\")\n",
    "coarsend_graph.nodes[\"author\"].data[\"label\"] = torch.tensor([labels[i] for i in range(len(labels))])\n"
   ]
  },
  {
   "cell_type": "code",
   "execution_count": 5,
   "metadata": {},
   "outputs": [
    {
     "data": {
      "text/plain": [
       "Graph(num_nodes={'author': 4057, 'conference': 20, 'paper': 14328, 'term': 7723},\n",
       "      num_edges={('author', 'authortopaper', 'paper'): 19645, ('conference', 'conferencetopaper', 'paper'): 14328, ('paper', 'papertoauthor', 'author'): 19645, ('paper', 'papertoconference', 'conference'): 14328, ('paper', 'papertoterm', 'term'): 85810, ('term', 'termtopaper', 'paper'): 85810},\n",
       "      metagraph=[('author', 'paper', 'authortopaper'), ('paper', 'author', 'papertoauthor'), ('paper', 'conference', 'papertoconference'), ('paper', 'term', 'papertoterm'), ('conference', 'paper', 'conferencetopaper'), ('term', 'paper', 'termtopaper')])"
      ]
     },
     "execution_count": 5,
     "metadata": {},
     "output_type": "execute_result"
    }
   ],
   "source": [
    "original_graph"
   ]
  },
  {
   "cell_type": "code",
   "execution_count": 6,
   "metadata": {},
   "outputs": [
    {
     "data": {
      "text/plain": [
       "Graph(num_nodes={'author': 2003, 'conference': 10, 'paper': 7985, 'term': 3849},\n",
       "      num_edges={('author', 'authortopaper', 'paper'): 10832, ('conference', 'conferencetopaper', 'paper'): 7959, ('paper', 'papertoauthor', 'author'): 115, ('paper', 'papertoconference', 'conference'): 0, ('paper', 'papertoterm', 'term'): 941, ('term', 'termtopaper', 'paper'): 47740},\n",
       "      metagraph=[('author', 'paper', 'authortopaper'), ('paper', 'author', 'papertoauthor'), ('paper', 'conference', 'papertoconference'), ('paper', 'term', 'papertoterm'), ('conference', 'paper', 'conferencetopaper'), ('term', 'paper', 'termtopaper')])"
      ]
     },
     "execution_count": 6,
     "metadata": {},
     "output_type": "execute_result"
    }
   ],
   "source": [
    "coarsend_graph"
   ]
  },
  {
   "cell_type": "code",
   "execution_count": 7,
   "metadata": {},
   "outputs": [
    {
     "name": "stdout",
     "output_type": "stream",
     "text": [
      "ratio 0.5299678505817513\n"
     ]
    }
   ],
   "source": [
    "print(\"ratio\", coarsend_graph.num_nodes()/ original_graph.num_nodes() ) "
   ]
  },
  {
   "cell_type": "code",
   "execution_count": null,
   "metadata": {},
   "outputs": [],
   "source": [
    "original_data, o_x_dict, o_edge_index_dict, o_node_types, o_edge_types = dgl_to_pyg_input(original_graph)\n",
    "coarsened_data, c_x_dict, c_edge_index_dict, c_node_types, c_edge_types = dgl_to_pyg_input(coarsend_graph)\n"
   ]
  },
  {
   "cell_type": "code",
   "execution_count": 5,
   "metadata": {},
   "outputs": [
    {
     "name": "stdout",
     "output_type": "stream",
     "text": [
      "Split statistics:\n",
      "  Training: 405 nodes (9.98%)\n",
      "  Validation: 405 nodes (9.98%)\n",
      "  Testing: 3247 nodes (80.03%)\n",
      "Split statistics:\n",
      "  Training: 405 nodes (9.98%)\n",
      "  Validation: 405 nodes (9.98%)\n",
      "  Testing: 3247 nodes (80.03%)\n"
     ]
    }
   ],
   "source": [
    "import torch\n",
    "import numpy as np\n",
    "from torch_geometric.data import HeteroData\n",
    "\n",
    "# Assuming you already have your hetero_data object\n",
    "# hetero_data = HeteroData(...)\n",
    "\n",
    "def create_train_val_test_masks(hetero_data, train_ratio=0.1, val_ratio=0.1, test_ratio=0.8, random_state=42, target_node_type='author'):\n",
    "    \"\"\"\n",
    "    Create training, validation, and testing masks for author nodes.\n",
    "    \n",
    "    Args:\n",
    "        hetero_data: HeteroData object\n",
    "        train_ratio: Ratio of training data\n",
    "        val_ratio: Ratio of validation data\n",
    "        test_ratio: Ratio of testing data\n",
    "        random_state: Random seed for reproducibility\n",
    "    \n",
    "    Returns:\n",
    "        HeteroData object with train_mask, val_mask, and test_mask added to author nodes\n",
    "    \"\"\"\n",
    "    # Ensure ratios sum to 1\n",
    "    assert abs(train_ratio + val_ratio + test_ratio - 1.0) < 1e-6, \"Ratios must sum to 1\"\n",
    "    \n",
    "    # Get number of author nodes\n",
    "    num_authors = hetero_data[target_node_type][\"feat\"].size(0)\n",
    "    \n",
    "    # Create random permutation of node indices\n",
    "    np.random.seed(random_state)\n",
    "    indices = np.random.permutation(num_authors)\n",
    "    \n",
    "    # Calculate split sizes\n",
    "    train_size = int(num_authors * train_ratio)\n",
    "    val_size = int(num_authors * val_ratio)\n",
    "    \n",
    "    # Split indices\n",
    "    train_indices = indices[:train_size]\n",
    "    val_indices = indices[train_size:train_size + val_size]\n",
    "    test_indices = indices[train_size + val_size:]\n",
    "    \n",
    "    # Create boolean masks\n",
    "    train_mask = torch.zeros(num_authors, dtype=torch.bool)\n",
    "    val_mask = torch.zeros(num_authors, dtype=torch.bool)\n",
    "    test_mask = torch.zeros(num_authors, dtype=torch.bool)\n",
    "    \n",
    "    train_mask[train_indices] = True\n",
    "    val_mask[val_indices] = True\n",
    "    test_mask[test_indices] = True\n",
    "    \n",
    "    # Add masks to hetero_data\n",
    "    hetero_data[target_node_type].train_mask = train_mask\n",
    "    hetero_data[target_node_type].val_mask = val_mask\n",
    "    hetero_data[target_node_type].test_mask = test_mask\n",
    "    \n",
    "    # Print split statistics\n",
    "    print(f\"Split statistics:\")\n",
    "    print(f\"  Training: {train_mask.sum()} nodes ({train_mask.sum() / num_authors:.2%})\")\n",
    "    print(f\"  Validation: {val_mask.sum()} nodes ({val_mask.sum() / num_authors:.2%})\")\n",
    "    print(f\"  Testing: {test_mask.sum()} nodes ({test_mask.sum() / num_authors:.2%})\")\n",
    "    \n",
    "    return hetero_data\n",
    "\n",
    "# Example usage\n",
    "original_data =  create_train_val_test_masks(original_data, train_ratio=0.1, val_ratio=0.1, test_ratio=0.8, target_node_type='author')\n",
    "coarsened_data = create_train_val_test_masks(coarsened_data, train_ratio=0.1, val_ratio=0.1, test_ratio=0.8, target_node_type='author')\n",
    "\n",
    "# Accessing the masks\n",
    "# train_nodes = hetero_data['author'].x[hetero_data['author'].train_mask]\n",
    "# val_nodes = hetero_data['author'].x[hetero_data['author'].val_mask]\n",
    "# test_nodes = hetero_data['author'].x[hetero_data['author'].test_mask]\n"
   ]
  },
  {
   "cell_type": "code",
   "execution_count": 7,
   "metadata": {},
   "outputs": [
    {
     "name": "stdout",
     "output_type": "stream",
     "text": [
      "Epoch 1:\n",
      "  Original Graph - Loss: 1.4208, Accuracy: 0.2969\n",
      "  Coarsened Graph - Loss: 1.4541, Accuracy: 0.2969\n",
      "  Inverted Coarsened - Accuracy: 0.0000\n",
      "\n",
      "Epoch 11:\n",
      "  Original Graph - Loss: 1.3844, Accuracy: 0.3009\n",
      "  Coarsened Graph - Loss: 1.3719, Accuracy: 0.2898\n",
      "  Inverted Coarsened - Accuracy: 0.0000\n",
      "\n",
      "Epoch 21:\n",
      "  Original Graph - Loss: 1.3065, Accuracy: 0.4909\n",
      "  Coarsened Graph - Loss: 1.2737, Accuracy: 0.5904\n",
      "  Inverted Coarsened - Accuracy: 0.0000\n",
      "\n",
      "Epoch 31:\n",
      "  Original Graph - Loss: 1.0735, Accuracy: 0.6329\n",
      "  Coarsened Graph - Loss: 1.0391, Accuracy: 0.6098\n",
      "  Inverted Coarsened - Accuracy: 0.0000\n",
      "\n",
      "Epoch 41:\n",
      "  Original Graph - Loss: 0.9292, Accuracy: 0.5722\n",
      "  Coarsened Graph - Loss: 1.1870, Accuracy: 0.6452\n",
      "  Inverted Coarsened - Accuracy: 0.0000\n",
      "\n"
     ]
    },
    {
     "data": {
      "image/png": "[encoded data removed]",
      "text/plain": [
       "<Figure size 1200x500 with 2 Axes>"
      ]
     },
     "metadata": {},
     "output_type": "display_data"
    },
    {
     "name": "stdout",
     "output_type": "stream",
     "text": [
      "Final Performance Comparison:\n",
      "Original Graph Accuracy: 0.5722\n",
      "Coarsened Graph Accuracy: 0.6452\n",
      "Inverted Coarsened Accuracy: 0.0000\n"
     ]
    }
   ],
   "source": [
    "# Import necessary libraries (if not already imported)\n",
    "import torch\n",
    "import torch.nn.functional as F\n",
    "import numpy as np\n",
    "from Models.GNNs.HGCN import ImprovedHeteroGNN\n",
    "\n",
    "\n",
    "original_x_dict = o_x_dict\n",
    "coarsened_x_dict = c_x_dict\n",
    "o_metadata = (o_node_types, o_edge_types)\n",
    "c_metadata=(c_node_types, c_edge_types)\n",
    "#original_x_dict.update({\"conference\": torch.zeros((original_data[\"conference\"][\"num_nodes\"], 1))})# = 0  #= 0#\n",
    "#coarsened_x_dict.update({\"conference\": torch.zeros((coarsened_data[\"conference\"][\"num_nodes\"], 1))})# = 0  #= 0#\n",
    "\n",
    "#num_classes = len(original_data[\"author\"][\"label\"].unique())\n",
    "\n",
    "target_node_type = \"author\"\n",
    "# Your existing model definition\n",
    "model_original = ImprovedHeteroGNN(metadata=o_metadata,target_feat=target_node_type, x_dict= original_x_dict ,num_classes= 4,hidden_channels=64, with_non_linear= False)\n",
    "model_coarsened = ImprovedHeteroGNN(metadata=c_metadata, target_feat=target_node_type,x_dict= coarsened_x_dict,num_classes= 4, hidden_channels=64, with_non_linear= False)\n",
    "\n",
    "# Optimizers\n",
    "optimizer_original = torch.optim.Adam(model_original.parameters(), lr=0.01, weight_decay=5e-4)\n",
    "optimizer_coarsened = torch.optim.Adam(model_coarsened.parameters(), lr=0.01, weight_decay=5e-4)\n",
    "\n",
    "\n",
    "# Function to apply inversion mapping from coarsened to original\n",
    "def apply_inversion_mapping(coarsened_pred, inversion_map, original_labels, test_mask):\n",
    "    \"\"\"\n",
    "    Maps predictions from coarsened graph back to original graph nodes\n",
    "    \n",
    "    Args:\n",
    "        coarsened_pred: Predictions on coarsened graph\n",
    "        inversion_map: Mapping from coarsened nodes to original nodes\n",
    "        original_labels: Ground truth labels of original graph\n",
    "        \n",
    "    Returns:\n",
    "        mapped_accuracy: Accuracy after applying inversion mapping\n",
    "    \"\"\"\n",
    "    correct_count = 0\n",
    "    total_count = 0\n",
    "    \n",
    "    for orig_node, coarsened_node in inversion_map.items():\n",
    "        if not test_mask[coarsened_node]:\n",
    "            continue\n",
    "        coarse_pred = coarsened_pred[coarsened_node]\n",
    "        orig_label = original_labels[orig_node]\n",
    "        #print(coarse_pred, orig_label)\n",
    "\n",
    "        correct = (coarse_pred == orig_label)\n",
    "    \n",
    "                \n",
    "        if correct:\n",
    "            correct_count += 1\n",
    "     #   else:\n",
    "      #      print(f\"Mismatch: Coarsened Node {coarsened_node} predicted {coarse_pred}, Original Node {orig_node} label {orig_label}\")\n",
    "        total_count += 1\n",
    "    \n",
    "    return correct_count / total_count if total_count > 0 else 0\n",
    "\n",
    "# Training function for original graph\n",
    "def train_original():\n",
    "    model_original.train()\n",
    "    optimizer_original.zero_grad()\n",
    "    \n",
    "    #print(original_x_original_data.edge_index_dict)\n",
    "    out = model_original(original_x_dict, original_data.edge_index_dict)\n",
    "    loss = F.nll_loss(\n",
    "        out[target_node_type][original_data[target_node_type].train_mask], \n",
    "        original_data[target_node_type][\"label\"][original_data[target_node_type].train_mask]\n",
    "    )\n",
    "    loss.backward()\n",
    "    optimizer_original.step()\n",
    "    return loss.item()\n",
    "\n",
    "# Training function for coarsened graph\n",
    "def train_coarsened():\n",
    "    model_coarsened.train()\n",
    "    optimizer_coarsened.zero_grad()\n",
    "    out = model_coarsened(coarsened_x_dict, coarsened_data.edge_index_dict)\n",
    "    loss = F.nll_loss(\n",
    "        out[target_node_type][coarsened_data[target_node_type].train_mask], \n",
    "        coarsened_data[target_node_type][\"label\"][coarsened_data[target_node_type].train_mask]\n",
    "    )\n",
    "    loss.backward()\n",
    "    optimizer_coarsened.step()\n",
    "    return loss.item()\n",
    "\n",
    "# Evaluation function for original graph\n",
    "def test_original():\n",
    "    model_original.eval()\n",
    "    with torch.no_grad():\n",
    "        out = model_original(original_x_dict, original_data.edge_index_dict)\n",
    "        pred = out[target_node_type].argmax(dim=1)\n",
    "        \n",
    "        # Calculate accuracy on test set\n",
    "        correct = pred[original_data[target_node_type].test_mask] == original_data[target_node_type][\"label\"][original_data[target_node_type].test_mask]\n",
    "        acc = int(correct.sum()) / int(original_data[target_node_type].test_mask.sum())\n",
    "        return acc\n",
    "\n",
    "# Evaluation function for coarsened graph\n",
    "def test_coarsened():\n",
    "    model_coarsened.eval()\n",
    "    with torch.no_grad():\n",
    "        out = model_coarsened(coarsened_x_dict, coarsened_data.edge_index_dict)\n",
    "        pred = out[target_node_type].argmax(dim=1)\n",
    "        \n",
    "        # Calculate accuracy on test set\n",
    "        coarsened_acc = int(\n",
    "            (pred[coarsened_data[target_node_type].test_mask] == \n",
    "             coarsened_data[target_node_type][\"label\"][coarsened_data[target_node_type].test_mask]).sum()\n",
    "        ) / int(coarsened_data[target_node_type].test_mask.sum())\n",
    "        inverted_acc = 0\n",
    "        \n",
    "        # Apply inversion mapping to evaluate how coarsened predictions map to original graph\n",
    "        inverted_acc  = apply_inversion_mapping(\n",
    "             pred,  \n",
    "             mapping,\n",
    "             original_data[target_node_type][\"label\"], \n",
    "             coarsened_data[target_node_type].test_mask\n",
    "         )\n",
    "        return coarsened_acc, inverted_acc\n",
    "\n",
    "# Training for 50 epochs and comparing both models\n",
    "results = {\n",
    "    \"epoch\": [],\n",
    "    \"original_loss\": [],\n",
    "    \"coarsened_loss\": [],\n",
    "    \"original_acc\": [],\n",
    "    \"coarsened_acc\": [],\n",
    "    \"inverted_acc\": []\n",
    "}\n",
    "\n",
    "for epoch in range(50):\n",
    "    # Train both models\n",
    "    original_loss = train_original()\n",
    "    coarsened_loss = train_coarsened()\n",
    "    \n",
    "    # Store results\n",
    "    results[\"epoch\"].append(epoch+1)\n",
    "    results[\"original_loss\"].append(original_loss)\n",
    "    results[\"coarsened_loss\"].append(coarsened_loss)\n",
    "    \n",
    "    # Evaluate every 10 epochs\n",
    "    if epoch % 10 == 0:\n",
    "        original_acc = test_original()\n",
    "        coarsened_acc, inverted_acc = test_coarsened()\n",
    "        \n",
    "        results[\"original_acc\"].append(original_acc)\n",
    "        results[\"coarsened_acc\"].append(coarsened_acc)\n",
    "        results[\"inverted_acc\"].append(inverted_acc)\n",
    "        \n",
    "        print(f'Epoch {epoch+1}:')\n",
    "    \n",
    "    \n",
    "        print(f'  Original Graph - Loss: {original_loss:.4f}, Accuracy: {original_acc:.4f}')\n",
    "        print(f'  Coarsened Graph - Loss: {coarsened_loss:.4f}, Accuracy: {coarsened_acc:.4f}')\n",
    "        print(f'  Inverted Coarsened - Accuracy: {inverted_acc:.4f}')\n",
    "        print()\n",
    "\n",
    "# Visualization of results\n",
    "import matplotlib.pyplot as plt\n",
    "\n",
    "# Plot loss\n",
    "plt.figure(figsize=(12, 5))\n",
    "plt.subplot(1, 2, 1)\n",
    "plt.plot(results[\"epoch\"], results[\"original_loss\"], label=\"Original Graph\")\n",
    "plt.plot(results[\"epoch\"], results[\"coarsened_loss\"], label=\"Coarsened Graph\")\n",
    "plt.xlabel(\"Epoch\")\n",
    "plt.ylabel(\"Loss\")\n",
    "plt.title(\"Training Loss\")\n",
    "plt.legend()\n",
    "\n",
    "# Plot accuracy\n",
    "plt.subplot(1, 2, 2)\n",
    "x = [results[\"epoch\"][i] for i in range(0, 50, 10)]\n",
    "plt.plot(x, results[\"original_acc\"], 'o-', label=\"Original Graph\")\n",
    "plt.plot(x, results[\"coarsened_acc\"], 's-', label=\"Coarsened Graph\")\n",
    "plt.plot(x, results[\"inverted_acc\"], '^-', label=\"Inverted Coarsened\")\n",
    "plt.xlabel(\"Epoch\")\n",
    "plt.ylabel(\"Accuracy\")\n",
    "plt.title(\"Test Accuracy\")\n",
    "plt.legend()\n",
    "\n",
    "plt.tight_layout()\n",
    "plt.show()\n",
    "\n",
    "# Final comparison\n",
    "print(\"Final Performance Comparison:\")\n",
    "print(f\"Original Graph Accuracy: {results['original_acc'][-1]:.4f}\")\n",
    "print(f\"Coarsened Graph Accuracy: {results['coarsened_acc'][-1]:.4f}\")\n",
    "print(f\"Inverted Coarsened Accuracy: {results['inverted_acc'][-1]:.4f}\")\n",
    "\n",
    "# Calculate speedup from using coarsened graph\n",
    "# (You would need to time the training for a proper comparison)"
   ]
  }
 ],
 "metadata": {
  "kernelspec": {
   "display_name": ".venvconv",
   "language": "python",
   "name": "python3"
  },
  "language_info": {
   "codemirror_mode": {
    "name": "ipython",
    "version": 3
   },
   "file_extension": ".py",
   "mimetype": "text/x-python",
   "name": "python",
   "nbconvert_exporter": "python",
   "pygments_lexer": "ipython3",
   "version": "3.10.12"
  }
 },
 "nbformat": 4,
 "nbformat_minor": 2
}
